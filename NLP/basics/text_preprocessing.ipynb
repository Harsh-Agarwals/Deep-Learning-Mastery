{
 "cells": [
  {
   "cell_type": "markdown",
   "metadata": {},
   "source": [
    "## Loading text"
   ]
  },
  {
   "cell_type": "code",
   "execution_count": 4,
   "metadata": {},
   "outputs": [
    {
     "data": {
      "text/plain": [
       "[Document(page_content=\"Why one should write?  \\n \\nWhen we look into the lives of some of the most successful leaders, ancient philosophers, innovators, \\nphilanthropists from ancient times to modern times, there is one quality that distinguishes them from \\nthe rest: Clarity of thought!  It is this clarity of thought that helps them build great organizations, \\nlead people, bring new innova tions and inspire generations.  \\nSo the ultimate question revolves around how they became so clear with their thoughts? Steve Jobs \\nwas very clear about what he wanted his produ cts to be and what kind of people he wanted in his \\norganization. Chanakya was very clear with his vision of a united India and its leadership. Lee Kuan \\nYew, a brilliant statesman, was clear with his vision of a modern and economic powerhouse island \\nstate, Singapore. Modi is clear with his vision of India -2047 in 2022. Elon Musk was clear with his \\nvision of reusable rockets.  \\nAchieving clarity is a compounding process that comes from experience and learning. All of these \\nindividuals have been avid readers, w riters  and explorers . The accumulation of thoughts over years \\nshaped their vision and their actions changed the trajectory of their destination. Peter Thiel ran The \\nStanford Review  while at Stanford, which publishes rational thoughts, ideologies, visions, technologies \\nand ideas about the future. Almost all of the editors of this magazine are great founders or serve on \\nthe board of the most successful companies of our time, making them highly successful and \\ninfluential individuals. This one magazine made the  editors study tech, law, history, economics, arts \\nand philosophy, making them critical thinkers and the best of all trades! Paul Graham still writes, \\nSam Altman still writes, Ben Horowitz still writes and all those shaping the future still writes. Writing  \\nsimply amplifies your thoughts!  \\nReference 1/ https://fortune.com/2023/08/24/peter -thiel-student-newspaper -stanford -review/  \\nIf you write, you will read, if you read, you will gain knowledge, if you gain knowledge, you will \\nunderstand the world, and if you understa nd the world, you will have solutions to its problems and, \\nmore importantly, clarity of vision for their understanding and implementation. It forces you to think. \\nIt forces you to act. It forces you to change.  \\nReference 2/ https://www.paulgraham.com/read.html  \\nJust like meditation helps with concentration, writing sharpens critical thinking . If we want to \\ncontribute positively to this world, we need to become great thinkers, good listeners and great \\nexecutors. This is impossible without clarity of thought and critica l thinking. And it all starts with \\nwriting.  \\nWhen you write on a particular topic, you engage deeply with it, you give it a thought, you study the \\ntopic well, you go through opinions on it, you add your perspective, and wow, you come up with your \\nown views and rational logic on the topic, be it political, philosophical, technological, historical or \\nanything. Now you have something of your own(even though it's just a thought) and it's so strong that \\nit will force you to think more, read more, explore more and  have more of your own. Once you start \\nhaving your own thoughts, it will lead to a rational uninfluenced thinking, a particular thought \\nprocess and a winning mentality. And that day won't be far when you'll have some creation of your \\nown! \\nNot just critica l thinking and clear thoughts, writing will help you connect to the world, communicate \\nbetter, make you smarter, disciplined, have ocean of knowledge and a stronger memory.  \\nReference 3/ \\nhttps://x.com/pritika_mehta/status/1790799256783393204?t=qosur91exNY43VLf0qzOdg& s=08  \\n \\n@silver_cule on X  \", metadata={'source': '../Essay.pdf', 'page': 0})]"
      ]
     },
     "execution_count": 4,
     "metadata": {},
     "output_type": "execute_result"
    }
   ],
   "source": [
    "from langchain.document_loaders import PyPDFLoader\n",
    "\n",
    "loader = PyPDFLoader(\"../Essay.pdf\")\n",
    "pdf = loader.load()\n",
    "pdf"
   ]
  },
  {
   "cell_type": "code",
   "execution_count": 7,
   "metadata": {},
   "outputs": [
    {
     "name": "stdout",
     "output_type": "stream",
     "text": [
      "Why one should write?  \n",
      " \n",
      "When we look into the lives of some of the most successful leaders, ancient philosophers, innovators, \n",
      "philanthropists from ancient times to modern times, there is one quality that distinguishes them from \n",
      "the rest: Clarity of thought!  It is this clarity of thought that helps them build great organizations, \n",
      "lead people, bring new innova tions and inspire generations.  \n",
      "So the ultimate question revolves around how they became so clear with their thoughts? Steve Jobs \n",
      "was very clear about what he wanted his produ cts to be and what kind of people he wanted in his \n",
      "organization. Chanakya was very clear with his vision of a united India and its leadership. Lee Kuan \n",
      "Yew, a brilliant statesman, was clear with his vision of a modern and economic powerhouse island \n",
      "state, Singapore. Modi is clear with his vision of India -2047 in 2022. Elon Musk was clear with his \n",
      "vision of reusable rockets.  \n",
      "Achieving clarity is a compounding process that comes from experience and learning. All of these \n",
      "individuals have been avid readers, w riters  and explorers . The accumulation of thoughts over years \n",
      "shaped their vision and their actions changed the trajectory of their destination. Peter Thiel ran The \n",
      "Stanford Review  while at Stanford, which publishes rational thoughts, ideologies, visions, technologies \n",
      "and ideas about the future. Almost all of the editors of this magazine are great founders or serve on \n",
      "the board of the most successful companies of our time, making them highly successful and \n",
      "influential individuals. This one magazine made the  editors study tech, law, history, economics, arts \n",
      "and philosophy, making them critical thinkers and the best of all trades! Paul Graham still writes, \n",
      "Sam Altman still writes, Ben Horowitz still writes and all those shaping the future still writes. Writing  \n",
      "simply amplifies your thoughts!  \n",
      "Reference 1/ https://fortune.com/2023/08/24/peter -thiel-student-newspaper -stanford -review/  \n",
      "If you write, you will read, if you read, you will gain knowledge, if you gain knowledge, you will \n",
      "understand the world, and if you understa nd the world, you will have solutions to its problems and, \n",
      "more importantly, clarity of vision for their understanding and implementation. It forces you to think. \n",
      "It forces you to act. It forces you to change.  \n",
      "Reference 2/ https://www.paulgraham.com/read.html  \n",
      "Just like meditation helps with concentration, writing sharpens critical thinking . If we want to \n",
      "contribute positively to this world, we need to become great thinkers, good listeners and great \n",
      "executors. This is impossible without clarity of thought and critica l thinking. And it all starts with \n",
      "writing.  \n",
      "When you write on a particular topic, you engage deeply with it, you give it a thought, you study the \n",
      "topic well, you go through opinions on it, you add your perspective, and wow, you come up with your \n",
      "own views and rational logic on the topic, be it political, philosophical, technological, historical or \n",
      "anything. Now you have something of your own(even though it's just a thought) and it's so strong that \n",
      "it will force you to think more, read more, explore more and  have more of your own. Once you start \n",
      "having your own thoughts, it will lead to a rational uninfluenced thinking, a particular thought \n",
      "process and a winning mentality. And that day won't be far when you'll have some creation of your \n",
      "own! \n",
      "Not just critica l thinking and clear thoughts, writing will help you connect to the world, communicate \n",
      "better, make you smarter, disciplined, have ocean of knowledge and a stronger memory.  \n",
      "Reference 3/ \n",
      "https://x.com/pritika_mehta/status/1790799256783393204?t=qosur91exNY43VLf0qzOdg& s=08  \n",
      " \n",
      "@silver_cule on X  \n"
     ]
    }
   ],
   "source": [
    "text = pdf[0].page_content\n",
    "print(text)"
   ]
  },
  {
   "cell_type": "markdown",
   "metadata": {},
   "source": [
    "# Text preprocessing\n",
    "\n",
    "### Steps:\n",
    "#### **Data Cleaning:**\n",
    "- Converting uppercases to lowercase\n",
    "- Removing punctuation marks\n",
    "- Removing stopwords\n",
    "- Stemming\n",
    "- Lemmatization\n",
    "- Tokenization\n",
    "- **Text embeddings**"
   ]
  },
  {
   "cell_type": "code",
   "execution_count": null,
   "metadata": {},
   "outputs": [],
   "source": []
  },
  {
   "cell_type": "code",
   "execution_count": null,
   "metadata": {},
   "outputs": [],
   "source": []
  },
  {
   "cell_type": "code",
   "execution_count": null,
   "metadata": {},
   "outputs": [],
   "source": []
  },
  {
   "cell_type": "code",
   "execution_count": null,
   "metadata": {},
   "outputs": [],
   "source": []
  }
 ],
 "metadata": {
  "kernelspec": {
   "display_name": "genai",
   "language": "python",
   "name": "python3"
  },
  "language_info": {
   "codemirror_mode": {
    "name": "ipython",
    "version": 3
   },
   "file_extension": ".py",
   "mimetype": "text/x-python",
   "name": "python",
   "nbconvert_exporter": "python",
   "pygments_lexer": "ipython3",
   "version": "3.12.2"
  }
 },
 "nbformat": 4,
 "nbformat_minor": 2
}
