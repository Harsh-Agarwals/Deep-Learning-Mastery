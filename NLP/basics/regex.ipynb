{
 "cells": [
  {
   "cell_type": "markdown",
   "metadata": {},
   "source": [
    "# Regular expression\n",
    "\n",
    "#### Pattern matching tool in python"
   ]
  },
  {
   "cell_type": "code",
   "execution_count": 1,
   "metadata": {},
   "outputs": [],
   "source": [
    "import re"
   ]
  },
  {
   "cell_type": "code",
   "execution_count": 2,
   "metadata": {},
   "outputs": [
    {
     "data": {
      "text/plain": [
       "<re.Match object; span=(0, 5), match='hello'>"
      ]
     },
     "execution_count": 2,
     "metadata": {},
     "output_type": "execute_result"
    }
   ],
   "source": [
    "# Simple character matching\n",
    "\n",
    "pattern = 'hello'\n",
    "text = 'hello world'\n",
    "\n",
    "re.search(pattern, text)"
   ]
  },
  {
   "cell_type": "markdown",
   "metadata": {},
   "source": [
    "- (.) matches any charater, except newline\n",
    "- (^) matches the start of the string\n",
    "- ($) matches the end of the string\n",
    "- (*) matches 0 or more repeatitions of the preceeding character\n",
    "- (+) matches 1 or more repeatitions of the preceeding character\n",
    "- (?) matches 0 or 1 repeatitions of the preceeding character\n",
    "- [] matches any one of the characters inside it"
   ]
  },
  {
   "cell_type": "code",
   "execution_count": 7,
   "metadata": {},
   "outputs": [
    {
     "data": {
      "text/plain": [
       "(<re.Match object; span=(0, 5), match='hello'>,\n",
       " ['hello', 'hxllo', 'hillo', 'hwllo'])"
      ]
     },
     "execution_count": 7,
     "metadata": {},
     "output_type": "execute_result"
    }
   ],
   "source": [
    "pattern = r'h.llo'\n",
    "text = 'hello hxllo hillo hrhwlloowsdg'\n",
    "re.search(pattern, text), re.findall(pattern=pattern, string=text)"
   ]
  },
  {
   "cell_type": "code",
   "execution_count": 12,
   "metadata": {},
   "outputs": [
    {
     "data": {
      "text/plain": [
       "([], ['he'], None, <re.Match object; span=(0, 2), match='he'>)"
      ]
     },
     "execution_count": 12,
     "metadata": {},
     "output_type": "execute_result"
    }
   ],
   "source": [
    "pattern = r'^he'\n",
    "text = 'hwly'\n",
    "text2 = 'hell'\n",
    "re.findall(pattern, text), re.findall(pattern, text2), re.search(pattern=pattern, string=text), re.search(pattern, text2)"
   ]
  },
  {
   "cell_type": "code",
   "execution_count": 13,
   "metadata": {},
   "outputs": [
    {
     "data": {
      "text/plain": [
       "(<re.Match object; span=(5, 7), match='ld'>,\n",
       " <re.Match object; span=(9, 11), match='ld'>)"
      ]
     },
     "execution_count": 13,
     "metadata": {},
     "output_type": "execute_result"
    }
   ],
   "source": [
    "pattern = r'ld$'\n",
    "text = 'hello world'\n",
    "text2 = 'wefn ld'\n",
    "\n",
    "re.search(pattern, text2), re.search(pattern, text)"
   ]
  },
  {
   "cell_type": "code",
   "execution_count": 17,
   "metadata": {},
   "outputs": [
    {
     "data": {
      "text/plain": [
       "['abc', 'abc', 'abbc']"
      ]
     },
     "execution_count": 17,
     "metadata": {},
     "output_type": "execute_result"
    }
   ],
   "source": [
    "pattern = r'ab*c'\n",
    "text = 'ab abc sagb bedabserc abcd bbc abbc'\n",
    "\n",
    "re.findall(pattern, text)"
   ]
  },
  {
   "cell_type": "code",
   "execution_count": 15,
   "metadata": {},
   "outputs": [
    {
     "data": {
      "text/plain": [
       "['abbc', 'abc']"
      ]
     },
     "execution_count": 15,
     "metadata": {},
     "output_type": "execute_result"
    }
   ],
   "source": [
    "pattern = r'ab+c'\n",
    "text = 'ab abbc abc abec'\n",
    "re.findall(pattern, text)"
   ]
  },
  {
   "cell_type": "code",
   "execution_count": 19,
   "metadata": {},
   "outputs": [
    {
     "data": {
      "text/plain": [
       "['abc', 'ac']"
      ]
     },
     "execution_count": 19,
     "metadata": {},
     "output_type": "execute_result"
    }
   ],
   "source": [
    "pattern = r'ab?c'\n",
    "text = 'abbc abbedc abec ababc ac'\n",
    "\n",
    "re.findall(pattern, text)"
   ]
  },
  {
   "cell_type": "code",
   "execution_count": 22,
   "metadata": {},
   "outputs": [
    {
     "data": {
      "text/plain": [
       "['abbbc']"
      ]
     },
     "execution_count": 22,
     "metadata": {},
     "output_type": "execute_result"
    }
   ],
   "source": [
    "pattern = r'ab{3}c'\n",
    "text = 'abec abbbec abbbc axbbbc'\n",
    "\n",
    "re.findall(pattern, text)"
   ]
  },
  {
   "cell_type": "code",
   "execution_count": 24,
   "metadata": {},
   "outputs": [
    {
     "data": {
      "text/plain": [
       "(['abce'], ['abcde'])"
      ]
     },
     "execution_count": 24,
     "metadata": {},
     "output_type": "execute_result"
    }
   ],
   "source": [
    "pattern = r'ab[cd]e'\n",
    "pattern2 = r'ab[cd]{2}e'\n",
    "text = 'abbe abe abce abcde abbce'\n",
    "\n",
    "re.findall(pattern, text), re.findall(pattern2, text)"
   ]
  },
  {
   "cell_type": "code",
   "execution_count": 25,
   "metadata": {},
   "outputs": [
    {
     "data": {
      "text/plain": [
       "(['cat', 'dog', 'cow'], ['cow', 'cat'])"
      ]
     },
     "execution_count": 25,
     "metadata": {},
     "output_type": "execute_result"
    }
   ],
   "source": [
    "pattern = r'cat|dog|cow'\n",
    "text = 'there is a cow and a cat here.'\n",
    "text2 = 'we have cat dog and a cow'\n",
    "\n",
    "re.findall(pattern, text2), re.findall(pattern, text)"
   ]
  },
  {
   "cell_type": "markdown",
   "metadata": {},
   "source": [
    "- \\s: Any whitespace (space, tabs, newline)\n",
    "- \\d: any digit(0-9)\n",
    "- \\w: any word character (alphanumeric + underscore)\n",
    "\n",
    "- \\S: any non whitespace characters\n",
    "- \\D: any non digits\n",
    "- \\W: matches any non-word characters"
   ]
  },
  {
   "cell_type": "code",
   "execution_count": 42,
   "metadata": {},
   "outputs": [
    {
     "name": "stdout",
     "output_type": "stream",
     "text": [
      "[]\n",
      "['hello']\n",
      "['h', 'e', 'l', 'l', 'o', 'n', 's', 't', 'w', 'o', 'r', 'l', 'd']\n",
      "['h', 'e', 'l', 'l', 'o', '1', '2', '3', '6', 'n', '7', 's', '_', 't', 'w', 'o', 'r', 'l', 'd']\n",
      "['hello ', '123 ', '6', 'n7s_ ', 'tworld']\n",
      "['123', '6', '7']\n",
      "['hello ', ' @', '#$n', 's_ tworld']\n"
     ]
    }
   ],
   "source": [
    "text = 'hello 123 @6#$n7s_ tworld'\n",
    "\n",
    "print(re.findall(r'^\\s+', text))\n",
    "print(re.findall(r'^\\w+', text))\n",
    "print(re.findall(r'[a-zA-Z]', text))\n",
    "print(re.findall(r'[\\w]', text))\n",
    "print(re.findall(r'\\w+\\s|\\w+', text))\n",
    "print(re.findall(r'\\d+', text))\n",
    "print(re.findall(r'\\D+', text))"
   ]
  },
  {
   "cell_type": "code",
   "execution_count": 64,
   "metadata": {},
   "outputs": [
    {
     "data": {
      "text/plain": [
       "['CS229', 'CS231']"
      ]
     },
     "execution_count": 64,
     "metadata": {},
     "output_type": "execute_result"
    }
   ],
   "source": [
    "text = 'CS229 and CS231n are the best'\n",
    "\n",
    "re.findall(r'CS\\d{3}', text)"
   ]
  },
  {
   "cell_type": "code",
   "execution_count": null,
   "metadata": {},
   "outputs": [],
   "source": []
  }
 ],
 "metadata": {
  "kernelspec": {
   "display_name": "genai",
   "language": "python",
   "name": "python3"
  },
  "language_info": {
   "codemirror_mode": {
    "name": "ipython",
    "version": 3
   },
   "file_extension": ".py",
   "mimetype": "text/x-python",
   "name": "python",
   "nbconvert_exporter": "python",
   "pygments_lexer": "ipython3",
   "version": "3.12.2"
  }
 },
 "nbformat": 4,
 "nbformat_minor": 2
}
