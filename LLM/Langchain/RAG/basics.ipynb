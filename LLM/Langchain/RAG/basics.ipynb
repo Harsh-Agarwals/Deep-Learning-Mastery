{
 "cells": [
  {
   "cell_type": "code",
   "execution_count": 1,
   "metadata": {},
   "outputs": [],
   "source": [
    "import os\n",
    "from dotenv import load_dotenv\n",
    "\n",
    "OPENAI_API_KEY = os.getenv(\"OPENAI_API_KEY\")"
   ]
  },
  {
   "cell_type": "code",
   "execution_count": 2,
   "metadata": {},
   "outputs": [
    {
     "data": {
      "text/plain": [
       "AIMessage(content='Why did the scarecrow win an award?\\n\\nBecause he was outstanding in his field!', additional_kwargs={'refusal': None}, response_metadata={'token_usage': {'completion_tokens': 17, 'prompt_tokens': 11, 'total_tokens': 28, 'completion_tokens_details': {'audio_tokens': None, 'reasoning_tokens': 0}, 'prompt_tokens_details': {'audio_tokens': None, 'cached_tokens': 0}}, 'model_name': 'gpt-4o-mini-2024-07-18', 'system_fingerprint': 'fp_0ba0d124f1', 'finish_reason': 'stop', 'logprobs': None}, id='run-10d7198e-0bfc-4681-9604-627e202b5d3c-0', usage_metadata={'input_tokens': 11, 'output_tokens': 17, 'total_tokens': 28, 'input_token_details': {'cache_read': 0}, 'output_token_details': {'reasoning': 0}})"
      ]
     },
     "execution_count": 2,
     "metadata": {},
     "output_type": "execute_result"
    }
   ],
   "source": [
    "from langchain_openai import ChatOpenAI\n",
    "\n",
    "llm = ChatOpenAI(api_key=OPENAI_API_KEY, model=\"gpt-4o-mini\")\n",
    "llm_response = llm.invoke(\"Tell me a joke\")\n",
    "llm_response"
   ]
  },
  {
   "cell_type": "code",
   "execution_count": 3,
   "metadata": {},
   "outputs": [
    {
     "data": {
      "text/plain": [
       "'Why did the scarecrow win an award?\\n\\nBecause he was outstanding in his field!'"
      ]
     },
     "execution_count": 3,
     "metadata": {},
     "output_type": "execute_result"
    }
   ],
   "source": [
    "from langchain_core.output_parsers import StrOutputParser\n",
    "\n",
    "chain = llm | StrOutputParser()\n",
    "chain.invoke(\"Tell me a joke\")"
   ]
  },
  {
   "cell_type": "markdown",
   "metadata": {},
   "source": [
    "### Structured Output"
   ]
  },
  {
   "cell_type": "code",
   "execution_count": 5,
   "metadata": {},
   "outputs": [
    {
     "data": {
      "text/plain": [
       "MobileReview(phone_model='Galaxy S21', rating=4.0, pros=['Gorgeous screen', 'Vibrant colors', 'Insane camera performance, especially at night', 'Solid battery life, lasts all day'], cons=['Pretty pricey', 'No charger included', 'New button layout takes getting used to, accidental Bixby activation'], summary='Overall, a solid 4 out of 5. Great phone, but a few annoying quirks keep it from being perfect. Definitely worth checking out for an upgrade!')"
      ]
     },
     "execution_count": 5,
     "metadata": {},
     "output_type": "execute_result"
    }
   ],
   "source": [
    "from pydantic import BaseModel, Field\n",
    "from typing import List\n",
    "\n",
    "class MobileReview(BaseModel):\n",
    "    phone_model: str = Field(description=\"Model of the phone\")\n",
    "    rating: float = Field(description=\"Phone overall rating\")\n",
    "    pros: List[str] = Field(description=\"list of positives review\")\n",
    "    cons: List[str] = Field(description=\"list of negative review\")\n",
    "    summary: str = Field(description=\"overall summary of the review\")\n",
    "\n",
    "\n",
    "review_text = \"\"\"\n",
    "    Just got my hands on the new Galaxy S21 and wow, this thing is slick! The screen is gorgeous,\n",
    "    colors pop like crazy. Camera's insane too, especially at night - my Insta game's never been\n",
    "    stronger. Battery life's solid, lasts me all day no problem.\n",
    "    Not gonna lie though, it's pretty pricey. And what's with ditching the charger? C'mon Samsung.\n",
    "    Also, still getting used to the new button layout, keep hitting Bixby by mistake.\n",
    "    Overall, I'd say it's a solid 4 out of 5. Great phone, but a few annoying quirks keep it from\n",
    "    being perfect. If you're due for an upgrade, definitely worth checking out!\n",
    "    \"\"\"\n",
    "\n",
    "structured_llm = llm.with_structured_output(MobileReview)\n",
    "output = structured_llm.invoke(review_text)\n",
    "output"
   ]
  },
  {
   "cell_type": "markdown",
   "metadata": {},
   "source": [
    "### Chat template"
   ]
  },
  {
   "cell_type": "code",
   "execution_count": 6,
   "metadata": {},
   "outputs": [
    {
     "data": {
      "text/plain": [
       "'Why do programmers prefer dark mode?\\n\\nBecause light attracts bugs!'"
      ]
     },
     "execution_count": 6,
     "metadata": {},
     "output_type": "execute_result"
    }
   ],
   "source": [
    "from langchain_core.prompts import ChatPromptTemplate\n",
    "\n",
    "prompt = ChatPromptTemplate.from_template(\"Tell me a short joke about {topic}\")\n",
    "chain = prompt | llm | StrOutputParser()\n",
    "\n",
    "chain.invoke({\"topic\": \"programmer\"})"
   ]
  },
  {
   "cell_type": "markdown",
   "metadata": {},
   "source": [
    "### LLM messages"
   ]
  },
  {
   "cell_type": "code",
   "execution_count": 8,
   "metadata": {},
   "outputs": [
    {
     "data": {
      "text/plain": [
       "\"Nvidia Corporation (NVDA) is a leading technology company primarily known for its graphics processing units (GPUs) and increasingly for its advancements in artificial intelligence (AI) and data center solutions. Here’s a fundamental analysis of Nvidia stock based on various financial metrics and qualitative factors.\\n\\n### 1. **Revenue Growth**\\nNvidia has demonstrated robust revenue growth over the past few years, driven by strong demand for gaming, data centers, AI, and automotive applications. With the increasing reliance on AI and machine learning, Nvidia's role as a provider of GPUs and AI computing solutions positions it well for future growth.\\n\\n### 2. **Earnings Performance**\\nNvidia has shown consistent growth in earnings per share (EPS). The company has benefited from high-margin products and has managed its costs effectively, leading to strong net income growth. Investors often look at the EPS growth rate as an indicator of the company’s profitability trajectory.\\n\\n### 3. **Valuation Metrics**\\n- **Price-to-Earnings (P/E) Ratio:** Nvidia often trades at a higher P/E ratio compared to the industry average, reflecting market expectations of future growth. When evaluating its valuation, it’s important to consider the forward P/E ratio as well, which can provide insight into expected earnings growth.\\n- **Price-to-Sales (P/S) Ratio:** This ratio is useful for assessing valuation in high-growth companies like Nvidia, where traditional metrics may not fully capture growth potential.\\n\\n### 4. **Profit Margins**\\nNvidia has historically maintained strong gross and operating margins. The high margins are a result of its competitive advantage in the GPU market and its ability to capitalize on emerging technologies. Keeping an eye on these margins can provide insight into operational efficiency.\\n\\n### 5. **Balance Sheet Strength**\\nNvidia generally has a strong balance sheet with a low debt-to-equity ratio, indicating financial stability and the ability to invest in growth opportunities. A solid cash position also allows the company to fund research and development, acquisitions, and shareholder returns.\\n\\n### 6. **Market Position and Competitive Advantage**\\nNvidia holds a dominant position in the GPU market and has expanded into AI, deep learning, and autonomous vehicles. Its CUDA programming model and ecosystem create a barrier to entry for competitors. The company’s innovation in AI hardware and software further enhances its competitive edge.\\n\\n### 7. **Industry Trends**\\nThe semiconductor industry is cyclical and can be affected by external factors such as supply chain disruptions, geopolitical tensions, and changes in consumer demand. However, the long-term trend towards AI, machine learning, and cloud computing presents significant opportunities for Nvidia.\\n\\n### 8. **Risks**\\nInvestors should be aware of potential risks, including:\\n- **Market Volatility:** Tech stocks can be highly volatile, and Nvidia's stock is no exception.\\n- **Competition:** Increased competition from companies like AMD, Intel, and new entrants in the AI space could impact Nvidia's market share.\\n- **Regulatory Risks:** Changes in regulations, especially related to technology and trade, could affect operations.\\n\\n### Conclusion\\nOverall, Nvidia presents a compelling investment opportunity given its growth prospects, strong market position, and financial health. However, potential investors should consider the inherent risks and conduct thorough due diligence, including monitoring quarterly earnings reports and industry developments, to make informed decisions.\""
      ]
     },
     "execution_count": 8,
     "metadata": {},
     "output_type": "execute_result"
    }
   ],
   "source": [
    "from langchain_core.messages import SystemMessage, HumanMessage\n",
    "\n",
    "systemsg = SystemMessage(\"You are a helpful financial advisor giving detailed insight about the stock. For any query outside finances, you just output you're not made for this task.\")\n",
    "humanmsg = HumanMessage(\"Give me the fundamental analysis of Nvidia stock.\")\n",
    "\n",
    "chain = llm | StrOutputParser()\n",
    "res = chain.invoke([systemsg, humanmsg])\n",
    "res"
   ]
  },
  {
   "cell_type": "code",
   "execution_count": 9,
   "metadata": {},
   "outputs": [
    {
     "data": {
      "text/plain": [
       "\"I'm not made for this task.\""
      ]
     },
     "execution_count": 9,
     "metadata": {},
     "output_type": "execute_result"
    }
   ],
   "source": [
    "humanmsg = HumanMessage(\"Give me the detailed analysis of BRICS vs NATO history.\")\n",
    "\n",
    "chain = llm | StrOutputParser()\n",
    "res = chain.invoke([systemsg, humanmsg])\n",
    "res"
   ]
  },
  {
   "cell_type": "code",
   "execution_count": 10,
   "metadata": {},
   "outputs": [
    {
     "data": {
      "text/plain": [
       "'Bitcoin, created in 2009 by an anonymous entity known as Satoshi Nakamoto, is the first decentralized digital currency. Its inception followed the 2008 financial crisis, which exposed vulnerabilities in the traditional banking system and fueled interest in alternative financial systems.\\n\\nThe Bitcoin white paper, titled \"Bitcoin: A Peer-to-Peer Electronic Cash System,\" outlined a method for using a peer-to-peer network to create a system of electronic cash that did not rely on a central authority. This was achieved through blockchain technology, a distributed ledger that records all transactions across a network of computers, ensuring transparency and security.\\n\\nThe first block of the Bitcoin blockchain, known as the \"genesis block,\" was mined by Nakamoto in January 2009. Bitcoin gained initial traction among cryptography enthusiasts and was primarily used for online transactions. Its value began to rise significantly in 2011, leading to increased media attention and wider adoption.\\n\\nBitcoin\\'s decentralized nature allows for pseudonymous transactions and operates on a consensus mechanism called proof-of-work, where miners solve complex mathematical problems to validate transactions and secure the network. This mining process rewards participants with newly minted bitcoins, thereby controlling the supply of the currency.\\n\\nOver the years, Bitcoin has faced regulatory scrutiny, security challenges, and competition from other cryptocurrencies. However, it has also garnered support as a hedge against inflation and a store of value, particularly during economic uncertainty. The rise of Bitcoin has sparked a broader cryptocurrency movement, leading to the creation of thousands of other digital currencies and blockchain projects.\\n\\nAs of October 2023, Bitcoin is recognized not only as a currency but also as a significant financial asset, with institutional investment increasing and ongoing debates about its environmental impact due to energy-intensive mining processes. Its evolution continues to influence discussions on digital currencies, decentralized finance (DeFi), and the future of money.'"
      ]
     },
     "execution_count": 10,
     "metadata": {},
     "output_type": "execute_result"
    }
   ],
   "source": [
    "template = ChatPromptTemplate(\n",
    "    [\n",
    "        (\"system\", \"You give historical context of anything. And you don't do any other tasks.\"),\n",
    "        (\"human\", \"Tell me about {topic}\")\n",
    "    ]\n",
    ")\n",
    "\n",
    "chain = template | llm | StrOutputParser()\n",
    "res = chain.invoke({\"topic\": \"Bitcoin\"})\n",
    "res"
   ]
  },
  {
   "cell_type": "code",
   "execution_count": 11,
   "metadata": {},
   "outputs": [
    {
     "data": {
      "text/plain": [
       "'I can provide historical context on the development of the internet and its evolution over time, but I cannot offer predictions about its future. \\n\\nThe internet originated from research projects in the 1960s, notably ARPANET, which aimed to create a robust, fault-tolerant communication system. By the 1980s, the adoption of TCP/IP protocols allowed different networks to interconnect, leading to the expansion of what we now know as the internet.\\n\\nIn the 1990s, the commercialization of the internet began, with the introduction of the World Wide Web by Tim Berners-Lee, which made it accessible to the general public. This era saw an explosion of websites, email usage, and the birth of e-commerce.\\n\\nThe 2000s brought the rise of social media, mobile internet access, and the proliferation of broadband connections, fundamentally changing how people interact and access information. The development of cloud computing also transformed the landscape, enabling vast amounts of data to be stored and processed remotely.\\n\\nAs of my last training cut-off in October 2023, the internet continues to evolve with advancements like the Internet of Things (IoT), 5G technology, and increasing concerns about privacy, cybersecurity, and digital governance. These historical trends set the stage for ongoing discussions about the future of the internet, but I cannot provide specific forecasts.'"
      ]
     },
     "execution_count": 11,
     "metadata": {},
     "output_type": "execute_result"
    }
   ],
   "source": [
    "chain = template | llm | StrOutputParser()\n",
    "res = chain.invoke({\"topic\": \"Future of Internet\"})\n",
    "res"
   ]
  },
  {
   "cell_type": "markdown",
   "metadata": {},
   "source": [
    "### Creating the retriever"
   ]
  },
  {
   "cell_type": "code",
   "execution_count": 13,
   "metadata": {},
   "outputs": [
    {
     "data": {
      "text/plain": [
       "[Document(metadata={'source': 'Essay.pdf', 'page': 0}, page_content='Why one should write?  \\n \\nWhen we look into the lives of some of the most successful leaders, ancient philosophers, innovators, \\nphilanthropists from ancient times to modern times, there is one quality that distinguishes them from \\nthe rest: Clarity of thought!  It is this clarity of thought that helps them build great organizations, \\nlead people, bring new innova tions and inspire generations.  \\nSo the ultimate question revolves around how they became so clear with their thoughts? Steve Jobs'),\n",
       " Document(metadata={'source': 'Essay.pdf', 'page': 0}, page_content='was very clear about what he wanted his produ cts to be and what kind of people he wanted in his \\norganization. Chanakya was very clear with his vision of a united India and its leadership. Lee Kuan \\nYew, a brilliant statesman, was clear with his vision of a modern and economic powerhouse island \\nstate, Singapore. Modi is clear with his vision of India -2047 in 2022. Elon Musk was clear with his \\nvision of reusable rockets.'),\n",
       " Document(metadata={'source': 'Essay.pdf', 'page': 0}, page_content='vision of reusable rockets.  \\nAchieving clarity is a compounding process that comes from experience and learning. All of these \\nindividuals have been avid readers, w riters  and explorers . The accumulation of thoughts over years \\nshaped their vision and their actions changed the trajectory of their destination. Peter Thiel ran The \\nStanford Review  while at Stanford, which publishes rational thoughts, ideologies, visions, technologies'),\n",
       " Document(metadata={'source': 'Essay.pdf', 'page': 0}, page_content='and ideas about the future. Almost all of the editors of this magazine are great founders or serve on \\nthe board of the most successful companies of our time, making them highly successful and \\ninfluential individuals. This one magazine made the  editors study tech, law, history, economics, arts \\nand philosophy, making them critical thinkers and the best of all trades! Paul Graham still writes,'),\n",
       " Document(metadata={'source': 'Essay.pdf', 'page': 0}, page_content='Sam Altman still writes, Ben Horowitz still writes and all those shaping the future still writes. Writing  \\nsimply amplifies your thoughts!  \\nReference 1/ https://fortune.com/2023/08/24/peter -thiel-student-newspaper -stanford -review/  \\nIf you write, you will read, if you read, you will gain knowledge, if you gain knowledge, you will \\nunderstand the world, and if you understa nd the world, you will have solutions to its problems and,'),\n",
       " Document(metadata={'source': 'Essay.pdf', 'page': 0}, page_content='more importantly, clarity of vision for their understanding and implementation. It forces you to think. \\nIt forces you to act. It forces you to change.  \\nReference 2/ https://www.paulgraham.com/read.html  \\nJust like meditation helps with concentration, writing sharpens critical thinking . If we want to \\ncontribute positively to this world, we need to become great thinkers, good listeners and great'),\n",
       " Document(metadata={'source': 'Essay.pdf', 'page': 0}, page_content='executors. This is impossible without clarity of thought and critica l thinking. And it all starts with \\nwriting.  \\nWhen you write on a particular topic, you engage deeply with it, you give it a thought, you study the \\ntopic well, you go through opinions on it, you add your perspective, and wow, you come up with your \\nown views and rational logic on the topic, be it political, philosophical, technological, historical or'),\n",
       " Document(metadata={'source': 'Essay.pdf', 'page': 0}, page_content=\"anything. Now you have something of your own(even though it's just a thought) and it's so strong that \\nit will force you to think more, read more, explore more and  have more of your own. Once you start \\nhaving your own thoughts, it will lead to a rational uninfluenced thinking, a particular thought \\nprocess and a winning mentality. And that day won't be far when you'll have some creation of your \\nown!\"),\n",
       " Document(metadata={'source': 'Essay.pdf', 'page': 0}, page_content='own! \\nNot just critica l thinking and clear thoughts, writing will help you connect to the world, communicate \\nbetter, make you smarter, disciplined, have ocean of knowledge and a stronger memory.  \\nReference 3/ \\nhttps://x.com/pritika_mehta/status/1790799256783393204?t=qosur91exNY43VLf0qzOdg& s=08  \\n \\n@silver_cule on X')]"
      ]
     },
     "execution_count": 13,
     "metadata": {},
     "output_type": "execute_result"
    }
   ],
   "source": [
    "from langchain.document_loaders import PyPDFLoader\n",
    "from langchain.text_splitter import RecursiveCharacterTextSplitter\n",
    "from langchain_huggingface import HuggingFaceEmbeddings\n",
    "\n",
    "pdf_loader = PyPDFLoader(\"Essay.pdf\")\n",
    "pdf = pdf_loader.load()\n",
    "\n",
    "text_splitter = RecursiveCharacterTextSplitter(chunk_size=500, chunk_overlap=50)\n",
    "splits = text_splitter.split_documents(pdf)\n",
    "\n",
    "splits"
   ]
  },
  {
   "cell_type": "code",
   "execution_count": 14,
   "metadata": {},
   "outputs": [
    {
     "name": "stderr",
     "output_type": "stream",
     "text": [
      "d:\\DeepLearningMastery\\LLM\\Langchain\\venv\\Lib\\site-packages\\sentence_transformers\\cross_encoder\\CrossEncoder.py:13: TqdmWarning: IProgress not found. Please update jupyter and ipywidgets. See https://ipywidgets.readthedocs.io/en/stable/user_install.html\n",
      "  from tqdm.autonotebook import tqdm, trange\n"
     ]
    },
    {
     "data": {
      "text/plain": [
       "HuggingFaceEmbeddings(client=SentenceTransformer(\n",
       "  (0): Transformer({'max_seq_length': 256, 'do_lower_case': False}) with Transformer model: BertModel \n",
       "  (1): Pooling({'word_embedding_dimension': 384, 'pooling_mode_cls_token': False, 'pooling_mode_mean_tokens': True, 'pooling_mode_max_tokens': False, 'pooling_mode_mean_sqrt_len_tokens': False, 'pooling_mode_weightedmean_tokens': False, 'pooling_mode_lasttoken': False, 'include_prompt': True})\n",
       "  (2): Normalize()\n",
       "), model_name='sentence-transformers/all-MiniLM-L6-v2', cache_folder=None, model_kwargs={'device': 'cpu'}, encode_kwargs={'normalize_embeddings': False}, multi_process=False, show_progress=False)"
      ]
     },
     "execution_count": 14,
     "metadata": {},
     "output_type": "execute_result"
    }
   ],
   "source": [
    "model_name = \"sentence-transformers/all-MiniLM-L6-v2\"\n",
    "model_kwargs = {'device': 'cpu'}\n",
    "encode_kwargs = {'normalize_embeddings': False}\n",
    "embd = HuggingFaceEmbeddings(\n",
    "    model_name=model_name,\n",
    "    model_kwargs=model_kwargs,\n",
    "    encode_kwargs=encode_kwargs\n",
    ")\n",
    "\n",
    "embd"
   ]
  },
  {
   "cell_type": "code",
   "execution_count": 15,
   "metadata": {},
   "outputs": [
    {
     "name": "stdout",
     "output_type": "stream",
     "text": [
      "[Document(metadata={'page': 0, 'source': 'Essay.pdf'}, page_content='Sam Altman still writes, Ben Horowitz still writes and all those shaping the future still writes. Writing  \\nsimply amplifies your thoughts!  \\nReference 1/ https://fortune.com/2023/08/24/peter -thiel-student-newspaper -stanford -review/  \\nIf you write, you will read, if you read, you will gain knowledge, if you gain knowledge, you will \\nunderstand the world, and if you understa nd the world, you will have solutions to its problems and,'), Document(metadata={'page': 0, 'source': 'Essay.pdf'}, page_content='own! \\nNot just critica l thinking and clear thoughts, writing will help you connect to the world, communicate \\nbetter, make you smarter, disciplined, have ocean of knowledge and a stronger memory.  \\nReference 3/ \\nhttps://x.com/pritika_mehta/status/1790799256783393204?t=qosur91exNY43VLf0qzOdg& s=08  \\n \\n@silver_cule on X'), Document(metadata={'page': 0, 'source': 'Essay.pdf'}, page_content='executors. This is impossible without clarity of thought and critica l thinking. And it all starts with \\nwriting.  \\nWhen you write on a particular topic, you engage deeply with it, you give it a thought, you study the \\ntopic well, you go through opinions on it, you add your perspective, and wow, you come up with your \\nown views and rational logic on the topic, be it political, philosophical, technological, historical or')]\n"
     ]
    },
    {
     "data": {
      "text/plain": [
       "[Document(metadata={'page': 0, 'source': 'Essay.pdf'}, page_content='Sam Altman still writes, Ben Horowitz still writes and all those shaping the future still writes. Writing  \\nsimply amplifies your thoughts!  \\nReference 1/ https://fortune.com/2023/08/24/peter -thiel-student-newspaper -stanford -review/  \\nIf you write, you will read, if you read, you will gain knowledge, if you gain knowledge, you will \\nunderstand the world, and if you understa nd the world, you will have solutions to its problems and,'),\n",
       " Document(metadata={'page': 0, 'source': 'Essay.pdf'}, page_content='own! \\nNot just critica l thinking and clear thoughts, writing will help you connect to the world, communicate \\nbetter, make you smarter, disciplined, have ocean of knowledge and a stronger memory.  \\nReference 3/ \\nhttps://x.com/pritika_mehta/status/1790799256783393204?t=qosur91exNY43VLf0qzOdg& s=08  \\n \\n@silver_cule on X'),\n",
       " Document(metadata={'page': 0, 'source': 'Essay.pdf'}, page_content='executors. This is impossible without clarity of thought and critica l thinking. And it all starts with \\nwriting.  \\nWhen you write on a particular topic, you engage deeply with it, you give it a thought, you study the \\ntopic well, you go through opinions on it, you add your perspective, and wow, you come up with your \\nown views and rational logic on the topic, be it political, philosophical, technological, historical or')]"
      ]
     },
     "execution_count": 15,
     "metadata": {},
     "output_type": "execute_result"
    }
   ],
   "source": [
    "from langchain_chroma import Chroma\n",
    "\n",
    "vectorstore = Chroma.from_documents(\n",
    "    documents=splits,\n",
    "    embedding=embd,\n",
    "    collection_name=\"my_collection\",\n",
    "    persist_directory=\"./chroma_db\"\n",
    ")\n",
    "\n",
    "query = \"people who still writes\"\n",
    "search_results = vectorstore.similarity_search(query, k=3)\n",
    "\n",
    "print(search_results)\n",
    "\n",
    "retriever = vectorstore.as_retriever(search_kwargs={'k': 3})\n",
    "retriever.invoke(\"Name some people who still writes\")"
   ]
  },
  {
   "cell_type": "markdown",
   "metadata": {},
   "source": [
    "### RAG Chain"
   ]
  },
  {
   "cell_type": "code",
   "execution_count": 16,
   "metadata": {},
   "outputs": [],
   "source": [
    "template = \"\"\"\n",
    "Answer the question based on the following context:\n",
    "{context}\n",
    "\n",
    "Question: {question}\n",
    "\n",
    "Answer:\n",
    "\"\"\"\n",
    "\n",
    "chat_temp = ChatPromptTemplate.from_template(template)"
   ]
  },
  {
   "cell_type": "code",
   "execution_count": 18,
   "metadata": {},
   "outputs": [
    {
     "data": {
      "text/plain": [
       "ChatPromptValue(messages=[HumanMessage(content=\"\\nAnswer the question based on the following context:\\n[Document(metadata={'page': 0, 'source': 'Essay.pdf'}, page_content='Sam Altman still writes, Ben Horowitz still writes and all those shaping the future still writes. Writing  \\\\nsimply amplifies your thoughts!  \\\\nReference 1/ https://fortune.com/2023/08/24/peter -thiel-student-newspaper -stanford -review/  \\\\nIf you write, you will read, if you read, you will gain knowledge, if you gain knowledge, you will \\\\nunderstand the world, and if you understa nd the world, you will have solutions to its problems and,'), Document(metadata={'page': 0, 'source': 'Essay.pdf'}, page_content='own! \\\\nNot just critica l thinking and clear thoughts, writing will help you connect to the world, communicate \\\\nbetter, make you smarter, disciplined, have ocean of knowledge and a stronger memory.  \\\\nReference 3/ \\\\nhttps://x.com/pritika_mehta/status/1790799256783393204?t=qosur91exNY43VLf0qzOdg& s=08  \\\\n \\\\n@silver_cule on X'), Document(metadata={'page': 0, 'source': 'Essay.pdf'}, page_content='executors. This is impossible without clarity of thought and critica l thinking. And it all starts with \\\\nwriting.  \\\\nWhen you write on a particular topic, you engage deeply with it, you give it a thought, you study the \\\\ntopic well, you go through opinions on it, you add your perspective, and wow, you come up with your \\\\nown views and rational logic on the topic, be it political, philosophical, technological, historical or')]\\n\\nQuestion: Name some people who still writes\\n\\nAnswer:\\n\", additional_kwargs={}, response_metadata={})])"
      ]
     },
     "execution_count": 18,
     "metadata": {},
     "output_type": "execute_result"
    }
   ],
   "source": [
    "from langchain.schema.runnable import RunnablePassthrough\n",
    "\n",
    "rag_chain = (\n",
    "    {\"context\": retriever, \"question\": RunnablePassthrough()} | chat_temp\n",
    ")\n",
    "\n",
    "rag_chain.invoke(\"Name some people who still writes\")"
   ]
  },
  {
   "cell_type": "code",
   "execution_count": 19,
   "metadata": {},
   "outputs": [
    {
     "data": {
      "text/plain": [
       "'Some people who still write include Sam Altman and Ben Horowitz.'"
      ]
     },
     "execution_count": 19,
     "metadata": {},
     "output_type": "execute_result"
    }
   ],
   "source": [
    "rag_chain = (\n",
    "    {\"context\": retriever, \"question\": RunnablePassthrough()}\n",
    "    | chat_temp\n",
    "    | llm\n",
    "    | StrOutputParser()\n",
    ")\n",
    "\n",
    "question = \"Name some people who still writes\"\n",
    "rag_chain.invoke(question)"
   ]
  },
  {
   "cell_type": "code",
   "execution_count": null,
   "metadata": {},
   "outputs": [],
   "source": []
  }
 ],
 "metadata": {
  "kernelspec": {
   "display_name": "venv",
   "language": "python",
   "name": "python3"
  },
  "language_info": {
   "codemirror_mode": {
    "name": "ipython",
    "version": 3
   },
   "file_extension": ".py",
   "mimetype": "text/x-python",
   "name": "python",
   "nbconvert_exporter": "python",
   "pygments_lexer": "ipython3",
   "version": "3.12.7"
  }
 },
 "nbformat": 4,
 "nbformat_minor": 2
}
