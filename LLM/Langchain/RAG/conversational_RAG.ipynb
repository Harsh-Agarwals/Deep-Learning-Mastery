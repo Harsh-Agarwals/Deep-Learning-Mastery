{
 "cells": [
  {
   "cell_type": "code",
   "execution_count": 1,
   "metadata": {},
   "outputs": [],
   "source": [
    "import os\n",
    "from dotenv import load_dotenv\n",
    "\n",
    "OPENAI_API_KEY = os.getenv(\"OPENAI_API_KEY\")"
   ]
  },
  {
   "cell_type": "code",
   "execution_count": 2,
   "metadata": {},
   "outputs": [],
   "source": [
    "from langchain_openai import ChatOpenAI\n",
    "\n",
    "llm = ChatOpenAI(api_key=OPENAI_API_KEY, model=\"gpt-4o-mini\")"
   ]
  },
  {
   "cell_type": "code",
   "execution_count": 3,
   "metadata": {},
   "outputs": [
    {
     "data": {
      "text/plain": [
       "[Document(metadata={'source': 'Essay.pdf', 'page': 0}, page_content='Why one should write?  \\n \\nWhen we look into the lives of some of the most successful leaders, ancient philosophers, innovators, \\nphilanthropists from ancient times to modern times, there is one quality that distinguishes them from \\nthe rest: Clarity of thought!  It is this clarity of thought that helps them build great organizations, \\nlead people, bring new innova tions and inspire generations.  \\nSo the ultimate question revolves around how they became so clear with their thoughts? Steve Jobs'),\n",
       " Document(metadata={'source': 'Essay.pdf', 'page': 0}, page_content='was very clear about what he wanted his produ cts to be and what kind of people he wanted in his \\norganization. Chanakya was very clear with his vision of a united India and its leadership. Lee Kuan \\nYew, a brilliant statesman, was clear with his vision of a modern and economic powerhouse island \\nstate, Singapore. Modi is clear with his vision of India -2047 in 2022. Elon Musk was clear with his \\nvision of reusable rockets.'),\n",
       " Document(metadata={'source': 'Essay.pdf', 'page': 0}, page_content='vision of reusable rockets.  \\nAchieving clarity is a compounding process that comes from experience and learning. All of these \\nindividuals have been avid readers, w riters  and explorers . The accumulation of thoughts over years \\nshaped their vision and their actions changed the trajectory of their destination. Peter Thiel ran The \\nStanford Review  while at Stanford, which publishes rational thoughts, ideologies, visions, technologies'),\n",
       " Document(metadata={'source': 'Essay.pdf', 'page': 0}, page_content='and ideas about the future. Almost all of the editors of this magazine are great founders or serve on \\nthe board of the most successful companies of our time, making them highly successful and \\ninfluential individuals. This one magazine made the  editors study tech, law, history, economics, arts \\nand philosophy, making them critical thinkers and the best of all trades! Paul Graham still writes,'),\n",
       " Document(metadata={'source': 'Essay.pdf', 'page': 0}, page_content='Sam Altman still writes, Ben Horowitz still writes and all those shaping the future still writes. Writing  \\nsimply amplifies your thoughts!  \\nReference 1/ https://fortune.com/2023/08/24/peter -thiel-student-newspaper -stanford -review/  \\nIf you write, you will read, if you read, you will gain knowledge, if you gain knowledge, you will \\nunderstand the world, and if you understa nd the world, you will have solutions to its problems and,'),\n",
       " Document(metadata={'source': 'Essay.pdf', 'page': 0}, page_content='more importantly, clarity of vision for their understanding and implementation. It forces you to think. \\nIt forces you to act. It forces you to change.  \\nReference 2/ https://www.paulgraham.com/read.html  \\nJust like meditation helps with concentration, writing sharpens critical thinking . If we want to \\ncontribute positively to this world, we need to become great thinkers, good listeners and great'),\n",
       " Document(metadata={'source': 'Essay.pdf', 'page': 0}, page_content='executors. This is impossible without clarity of thought and critica l thinking. And it all starts with \\nwriting.  \\nWhen you write on a particular topic, you engage deeply with it, you give it a thought, you study the \\ntopic well, you go through opinions on it, you add your perspective, and wow, you come up with your \\nown views and rational logic on the topic, be it political, philosophical, technological, historical or'),\n",
       " Document(metadata={'source': 'Essay.pdf', 'page': 0}, page_content=\"anything. Now you have something of your own(even though it's just a thought) and it's so strong that \\nit will force you to think more, read more, explore more and  have more of your own. Once you start \\nhaving your own thoughts, it will lead to a rational uninfluenced thinking, a particular thought \\nprocess and a winning mentality. And that day won't be far when you'll have some creation of your \\nown!\"),\n",
       " Document(metadata={'source': 'Essay.pdf', 'page': 0}, page_content='own! \\nNot just critica l thinking and clear thoughts, writing will help you connect to the world, communicate \\nbetter, make you smarter, disciplined, have ocean of knowledge and a stronger memory.  \\nReference 3/ \\nhttps://x.com/pritika_mehta/status/1790799256783393204?t=qosur91exNY43VLf0qzOdg& s=08  \\n \\n@silver_cule on X')]"
      ]
     },
     "execution_count": 3,
     "metadata": {},
     "output_type": "execute_result"
    }
   ],
   "source": [
    "from langchain.document_loaders import PyPDFLoader\n",
    "from langchain.text_splitter import RecursiveCharacterTextSplitter\n",
    "from langchain_huggingface import HuggingFaceEmbeddings\n",
    "from langchain_core.output_parsers import StrOutputParser\n",
    "\n",
    "pdf_loader = PyPDFLoader(\"Essay.pdf\")\n",
    "pdf = pdf_loader.load()\n",
    "\n",
    "text_splitter = RecursiveCharacterTextSplitter(chunk_size=500, chunk_overlap=50)\n",
    "splits = text_splitter.split_documents(pdf)\n",
    "\n",
    "splits"
   ]
  },
  {
   "cell_type": "code",
   "execution_count": 4,
   "metadata": {},
   "outputs": [
    {
     "name": "stderr",
     "output_type": "stream",
     "text": [
      "d:\\DeepLearningMastery\\LLM\\Langchain\\venv\\Lib\\site-packages\\sentence_transformers\\cross_encoder\\CrossEncoder.py:13: TqdmWarning: IProgress not found. Please update jupyter and ipywidgets. See https://ipywidgets.readthedocs.io/en/stable/user_install.html\n",
      "  from tqdm.autonotebook import tqdm, trange\n"
     ]
    },
    {
     "data": {
      "text/plain": [
       "HuggingFaceEmbeddings(client=SentenceTransformer(\n",
       "  (0): Transformer({'max_seq_length': 256, 'do_lower_case': False}) with Transformer model: BertModel \n",
       "  (1): Pooling({'word_embedding_dimension': 384, 'pooling_mode_cls_token': False, 'pooling_mode_mean_tokens': True, 'pooling_mode_max_tokens': False, 'pooling_mode_mean_sqrt_len_tokens': False, 'pooling_mode_weightedmean_tokens': False, 'pooling_mode_lasttoken': False, 'include_prompt': True})\n",
       "  (2): Normalize()\n",
       "), model_name='sentence-transformers/all-MiniLM-L6-v2', cache_folder=None, model_kwargs={'device': 'cpu'}, encode_kwargs={'normalize_embeddings': False}, multi_process=False, show_progress=False)"
      ]
     },
     "execution_count": 4,
     "metadata": {},
     "output_type": "execute_result"
    }
   ],
   "source": [
    "model_name = \"sentence-transformers/all-MiniLM-L6-v2\"\n",
    "model_kwargs = {'device': 'cpu'}\n",
    "encode_kwargs = {'normalize_embeddings': False}\n",
    "embd = HuggingFaceEmbeddings(\n",
    "    model_name=model_name,\n",
    "    model_kwargs=model_kwargs,\n",
    "    encode_kwargs=encode_kwargs\n",
    ")\n",
    "\n",
    "embd"
   ]
  },
  {
   "cell_type": "code",
   "execution_count": 5,
   "metadata": {},
   "outputs": [
    {
     "name": "stdout",
     "output_type": "stream",
     "text": [
      "[Document(metadata={'page': 0, 'source': 'Essay.pdf'}, page_content='Sam Altman still writes, Ben Horowitz still writes and all those shaping the future still writes. Writing  \\nsimply amplifies your thoughts!  \\nReference 1/ https://fortune.com/2023/08/24/peter -thiel-student-newspaper -stanford -review/  \\nIf you write, you will read, if you read, you will gain knowledge, if you gain knowledge, you will \\nunderstand the world, and if you understa nd the world, you will have solutions to its problems and,'), Document(metadata={'page': 0, 'source': 'Essay.pdf'}, page_content='Sam Altman still writes, Ben Horowitz still writes and all those shaping the future still writes. Writing  \\nsimply amplifies your thoughts!  \\nReference 1/ https://fortune.com/2023/08/24/peter -thiel-student-newspaper -stanford -review/  \\nIf you write, you will read, if you read, you will gain knowledge, if you gain knowledge, you will \\nunderstand the world, and if you understa nd the world, you will have solutions to its problems and,'), Document(metadata={'page': 0, 'source': 'Essay.pdf'}, page_content='Sam Altman still writes, Ben Horowitz still writes and all those shaping the future still writes. Writing  \\nsimply amplifies your thoughts!  \\nReference 1/ https://fortune.com/2023/08/24/peter -thiel-student-newspaper -stanford -review/  \\nIf you write, you will read, if you read, you will gain knowledge, if you gain knowledge, you will \\nunderstand the world, and if you understa nd the world, you will have solutions to its problems and,')]\n"
     ]
    },
    {
     "data": {
      "text/plain": [
       "[Document(metadata={'page': 0, 'source': 'Essay.pdf'}, page_content='Sam Altman still writes, Ben Horowitz still writes and all those shaping the future still writes. Writing  \\nsimply amplifies your thoughts!  \\nReference 1/ https://fortune.com/2023/08/24/peter -thiel-student-newspaper -stanford -review/  \\nIf you write, you will read, if you read, you will gain knowledge, if you gain knowledge, you will \\nunderstand the world, and if you understa nd the world, you will have solutions to its problems and,'),\n",
       " Document(metadata={'page': 0, 'source': 'Essay.pdf'}, page_content='Sam Altman still writes, Ben Horowitz still writes and all those shaping the future still writes. Writing  \\nsimply amplifies your thoughts!  \\nReference 1/ https://fortune.com/2023/08/24/peter -thiel-student-newspaper -stanford -review/  \\nIf you write, you will read, if you read, you will gain knowledge, if you gain knowledge, you will \\nunderstand the world, and if you understa nd the world, you will have solutions to its problems and,'),\n",
       " Document(metadata={'page': 0, 'source': 'Essay.pdf'}, page_content='Sam Altman still writes, Ben Horowitz still writes and all those shaping the future still writes. Writing  \\nsimply amplifies your thoughts!  \\nReference 1/ https://fortune.com/2023/08/24/peter -thiel-student-newspaper -stanford -review/  \\nIf you write, you will read, if you read, you will gain knowledge, if you gain knowledge, you will \\nunderstand the world, and if you understa nd the world, you will have solutions to its problems and,')]"
      ]
     },
     "execution_count": 5,
     "metadata": {},
     "output_type": "execute_result"
    }
   ],
   "source": [
    "from langchain_chroma import Chroma\n",
    "\n",
    "vectorstore = Chroma.from_documents(\n",
    "    documents=splits,\n",
    "    embedding=embd,\n",
    "    collection_name=\"my_collection\",\n",
    "    persist_directory=\"./chroma_db\"\n",
    ")\n",
    "\n",
    "query = \"people who still writes\"\n",
    "search_results = vectorstore.similarity_search(query, k=3)\n",
    "\n",
    "print(search_results)\n",
    "\n",
    "retriever = vectorstore.as_retriever(search_kwargs={'k': 3})\n",
    "retriever.invoke(\"Name some people who still writes\")"
   ]
  },
  {
   "cell_type": "code",
   "execution_count": 6,
   "metadata": {},
   "outputs": [],
   "source": [
    "from langchain_core.prompts import ChatPromptTemplate\n",
    "\n",
    "template = \"\"\"\n",
    "Answer the question based on the following context:\n",
    "{context}\n",
    "\n",
    "Question: {question}\n",
    "\n",
    "Answer:\n",
    "\"\"\"\n",
    "\n",
    "chat_temp = ChatPromptTemplate.from_template(template)"
   ]
  },
  {
   "cell_type": "code",
   "execution_count": 7,
   "metadata": {},
   "outputs": [
    {
     "data": {
      "text/plain": [
       "'Some people who still write include Sam Altman and Ben Horowitz.'"
      ]
     },
     "execution_count": 7,
     "metadata": {},
     "output_type": "execute_result"
    }
   ],
   "source": [
    "from langchain_core.runnables import RunnablePassthrough\n",
    "\n",
    "rag_chain = (\n",
    "    {\"context\": retriever, \"question\": RunnablePassthrough()}\n",
    "    | chat_temp\n",
    "    | llm\n",
    "    | StrOutputParser()\n",
    ")\n",
    "\n",
    "question = \"Name some people who still writes\"\n",
    "rag_chain.invoke(question)"
   ]
  },
  {
   "cell_type": "code",
   "execution_count": 8,
   "metadata": {},
   "outputs": [
    {
     "data": {
      "text/plain": [
       "'The article mentions Steve Jobs.'"
      ]
     },
     "execution_count": 8,
     "metadata": {},
     "output_type": "execute_result"
    }
   ],
   "source": [
    "question = \"Write the name of all the people mentioned in the article\"\n",
    "rag_chain.invoke(question)"
   ]
  },
  {
   "cell_type": "code",
   "execution_count": 9,
   "metadata": {},
   "outputs": [
    {
     "data": {
      "text/plain": [
       "'The only person mentioned in the article is Paul Graham.'"
      ]
     },
     "execution_count": 9,
     "metadata": {},
     "output_type": "execute_result"
    }
   ],
   "source": [
    "question = \"Write the name of all the people mentioned in the article. Make sure you include all\"\n",
    "rag_chain.invoke(question)"
   ]
  },
  {
   "cell_type": "code",
   "execution_count": 10,
   "metadata": {},
   "outputs": [
    {
     "data": {
      "text/plain": [
       "\"The Stanford Review is a student-run newspaper at Stanford University that aims to provide a platform for a variety of viewpoints and foster discussion among the student body. It is known for its editorial independence and often features articles on political, cultural, and social issues, reflecting a diverse range of opinions. The Review has a history of promoting free expression and has been involved in various controversies and debates on campus, highlighting its role as a significant voice in the university's intellectual community. The context mentions a reference to an article discussing Peter Thiel's involvement with student newspapers, which may suggest a connection between influential figures and the Stanford Review's legacy or impact.\""
      ]
     },
     "execution_count": 10,
     "metadata": {},
     "output_type": "execute_result"
    }
   ],
   "source": [
    "question = \"Tell me something about Stanford Review\"\n",
    "rag_chain.invoke(question)"
   ]
  },
  {
   "cell_type": "code",
   "execution_count": 11,
   "metadata": {},
   "outputs": [
    {
     "data": {
      "text/plain": [
       "'The context mentions Peter Thiel in relation to the Stanford Review, indicating a connection between influential figures and the publication. Writing is emphasized as a way to amplify thoughts and gain knowledge, which aligns with the activities of writers and thinkers associated with platforms like the Stanford Review. While specific details about individuals from the Stanford Review are not provided in the context, the reference suggests that those involved, including Thiel, contribute to shaping ideas and understanding of the world through their writing.'"
      ]
     },
     "execution_count": 11,
     "metadata": {},
     "output_type": "execute_result"
    }
   ],
   "source": [
    "question = \"How about the people associated with Stanford Review\"\n",
    "rag_chain.invoke(question)"
   ]
  },
  {
   "cell_type": "code",
   "execution_count": 12,
   "metadata": {},
   "outputs": [
    {
     "data": {
      "text/plain": [
       "'The author of the article is Paul Graham.'"
      ]
     },
     "execution_count": 12,
     "metadata": {},
     "output_type": "execute_result"
    }
   ],
   "source": [
    "question = \"Who is the author of this article?\"\n",
    "rag_chain.invoke(question)"
   ]
  },
  {
   "cell_type": "code",
   "execution_count": 13,
   "metadata": {},
   "outputs": [
    {
     "data": {
      "text/plain": [
       "'The article was published in a magazine, but the specific name of the magazine is not mentioned in the provided context. It appears to be associated with influential individuals, such as great founders and board members of successful companies, and Paul Graham is mentioned as a contributor. However, without additional information, the exact publication details cannot be determined.'"
      ]
     },
     "execution_count": 13,
     "metadata": {},
     "output_type": "execute_result"
    }
   ],
   "source": [
    "question = \"Can you find out where this article was published and by whom?\"\n",
    "response = rag_chain.invoke(question)\n",
    "response"
   ]
  },
  {
   "cell_type": "code",
   "execution_count": 14,
   "metadata": {},
   "outputs": [
    {
     "data": {
      "text/plain": [
       "[AIMessage(content='Can you find out where this article was published and by whom?', additional_kwargs={}, response_metadata={}),\n",
       " HumanMessage(content='The article was published in a magazine, but the specific name of the magazine is not mentioned in the provided context. It appears to be associated with influential individuals, such as great founders and board members of successful companies, and Paul Graham is mentioned as a contributor. However, without additional information, the exact publication details cannot be determined.', additional_kwargs={}, response_metadata={})]"
      ]
     },
     "execution_count": 14,
     "metadata": {},
     "output_type": "execute_result"
    }
   ],
   "source": [
    "from langchain_core.messages import AIMessage, HumanMessage\n",
    "\n",
    "chat_history = []\n",
    "chat_history.extend([\n",
    "    AIMessage(content=question),\n",
    "    HumanMessage(content=response)\n",
    "])\n",
    "\n",
    "chat_history"
   ]
  },
  {
   "cell_type": "code",
   "execution_count": 21,
   "metadata": {},
   "outputs": [
    {
     "data": {
      "text/plain": [
       "'Do you have any details about the publication date of the article?'"
      ]
     },
     "execution_count": 21,
     "metadata": {},
     "output_type": "execute_result"
    }
   ],
   "source": [
    "from langchain_core.prompts import MessagesPlaceholder\n",
    "\n",
    "contextualize_q_system_prompt = \"\"\"\n",
    "Given a chat history and the latest user question\n",
    "which might reference context in the chat history,\n",
    "formulate a standalone question which can be understood\n",
    "without the chat history. Do NOT answer the question,\n",
    "just reformulate it if needed and otherwise return it as is.\n",
    "\"\"\"\n",
    "\n",
    "contextualize_q_prompt = ChatPromptTemplate.from_messages(\n",
    "    [\n",
    "        (\"system\", contextualize_q_system_prompt),\n",
    "        MessagesPlaceholder(\"chat_history\"),\n",
    "        (\"human\", \"{input}\")\n",
    "    ]\n",
    ")\n",
    "\n",
    "contextualize_chain = contextualize_q_prompt | llm | StrOutputParser()\n",
    "contextualize_chain.invoke({\"input\": \"And any information on when it was written?\", \"chat_history\": chat_history})"
   ]
  },
  {
   "cell_type": "code",
   "execution_count": 22,
   "metadata": {},
   "outputs": [
    {
     "data": {
      "text/plain": [
       "[Document(metadata={'page': 0, 'source': 'Essay.pdf'}, page_content='Sam Altman still writes, Ben Horowitz still writes and all those shaping the future still writes. Writing  \\nsimply amplifies your thoughts!  \\nReference 1/ https://fortune.com/2023/08/24/peter -thiel-student-newspaper -stanford -review/  \\nIf you write, you will read, if you read, you will gain knowledge, if you gain knowledge, you will \\nunderstand the world, and if you understa nd the world, you will have solutions to its problems and,'),\n",
       " Document(metadata={'page': 0, 'source': 'Essay.pdf'}, page_content='Sam Altman still writes, Ben Horowitz still writes and all those shaping the future still writes. Writing  \\nsimply amplifies your thoughts!  \\nReference 1/ https://fortune.com/2023/08/24/peter -thiel-student-newspaper -stanford -review/  \\nIf you write, you will read, if you read, you will gain knowledge, if you gain knowledge, you will \\nunderstand the world, and if you understa nd the world, you will have solutions to its problems and,'),\n",
       " Document(metadata={'page': 0, 'source': 'Essay.pdf'}, page_content='Sam Altman still writes, Ben Horowitz still writes and all those shaping the future still writes. Writing  \\nsimply amplifies your thoughts!  \\nReference 1/ https://fortune.com/2023/08/24/peter -thiel-student-newspaper -stanford -review/  \\nIf you write, you will read, if you read, you will gain knowledge, if you gain knowledge, you will \\nunderstand the world, and if you understa nd the world, you will have solutions to its problems and,')]"
      ]
     },
     "execution_count": 22,
     "metadata": {},
     "output_type": "execute_result"
    }
   ],
   "source": [
    "from langchain.chains import create_history_aware_retriever\n",
    "\n",
    "history_aware_retriever = create_history_aware_retriever(\n",
    "    llm, retriever, contextualize_q_prompt\n",
    ")\n",
    "\n",
    "history_aware_retriever.invoke({\"input\": \"And any information on when it was written?\", \"chat_history\": chat_history})"
   ]
  },
  {
   "cell_type": "code",
   "execution_count": 23,
   "metadata": {},
   "outputs": [
    {
     "data": {
      "text/plain": [
       "[AIMessage(content='Can you find out where this article was published and by whom?', additional_kwargs={}, response_metadata={}),\n",
       " HumanMessage(content='The article was published in a magazine, but the specific name of the magazine is not mentioned in the provided context. It appears to be associated with influential individuals, such as great founders and board members of successful companies, and Paul Graham is mentioned as a contributor. However, without additional information, the exact publication details cannot be determined.', additional_kwargs={}, response_metadata={})]"
      ]
     },
     "execution_count": 23,
     "metadata": {},
     "output_type": "execute_result"
    }
   ],
   "source": [
    "chat_history"
   ]
  },
  {
   "cell_type": "code",
   "execution_count": 24,
   "metadata": {},
   "outputs": [],
   "source": [
    "from langchain.chains import create_retrieval_chain\n",
    "from langchain.chains.combine_documents import create_stuff_documents_chain\n",
    "\n",
    "qa_prompt = ChatPromptTemplate.from_messages(\n",
    "    [\n",
    "        (\"system\", \"You are a helpful Question Answering assistant. Look into the document carefully and answer the questions asked. If there isn't what asked, simply tell you don't know. Use the following context and answer the question.\"),\n",
    "        (\"system\", \"Context: {context}\"),\n",
    "        MessagesPlaceholder(\"chat_history\"),\n",
    "        (\"human\", \"{input}\")\n",
    "    ]\n",
    ")\n",
    "\n",
    "qna_chain = create_stuff_documents_chain(llm, qa_prompt)\n",
    "rag_chain = create_retrieval_chain(history_aware_retriever, qna_chain)"
   ]
  },
  {
   "cell_type": "code",
   "execution_count": 25,
   "metadata": {},
   "outputs": [
    {
     "data": {
      "text/plain": [
       "{'input': 'And any information on when it was written?',\n",
       " 'chat_history': [AIMessage(content='Can you find out where this article was published and by whom?', additional_kwargs={}, response_metadata={}),\n",
       "  HumanMessage(content='The article was published in a magazine, but the specific name of the magazine is not mentioned in the provided context. It appears to be associated with influential individuals, such as great founders and board members of successful companies, and Paul Graham is mentioned as a contributor. However, without additional information, the exact publication details cannot be determined.', additional_kwargs={}, response_metadata={})],\n",
       " 'context': [Document(metadata={'page': 0, 'source': 'Essay.pdf'}, page_content='Sam Altman still writes, Ben Horowitz still writes and all those shaping the future still writes. Writing  \\nsimply amplifies your thoughts!  \\nReference 1/ https://fortune.com/2023/08/24/peter -thiel-student-newspaper -stanford -review/  \\nIf you write, you will read, if you read, you will gain knowledge, if you gain knowledge, you will \\nunderstand the world, and if you understa nd the world, you will have solutions to its problems and,'),\n",
       "  Document(metadata={'page': 0, 'source': 'Essay.pdf'}, page_content='Sam Altman still writes, Ben Horowitz still writes and all those shaping the future still writes. Writing  \\nsimply amplifies your thoughts!  \\nReference 1/ https://fortune.com/2023/08/24/peter -thiel-student-newspaper -stanford -review/  \\nIf you write, you will read, if you read, you will gain knowledge, if you gain knowledge, you will \\nunderstand the world, and if you understa nd the world, you will have solutions to its problems and,'),\n",
       "  Document(metadata={'page': 0, 'source': 'Essay.pdf'}, page_content='Sam Altman still writes, Ben Horowitz still writes and all those shaping the future still writes. Writing  \\nsimply amplifies your thoughts!  \\nReference 1/ https://fortune.com/2023/08/24/peter -thiel-student-newspaper -stanford -review/  \\nIf you write, you will read, if you read, you will gain knowledge, if you gain knowledge, you will \\nunderstand the world, and if you understa nd the world, you will have solutions to its problems and,')],\n",
       " 'answer': 'The context does not provide specific information on when the article was written. However, there is a reference date mentioned: August 24, 2023. This could indicate when the article was published.'}"
      ]
     },
     "execution_count": 25,
     "metadata": {},
     "output_type": "execute_result"
    }
   ],
   "source": [
    "rag_chain.invoke({\"input\": \"And any information on when it was written?\", \"chat_history\": chat_history})"
   ]
  },
  {
   "cell_type": "code",
   "execution_count": 26,
   "metadata": {},
   "outputs": [
    {
     "data": {
      "text/plain": [
       "{'input': 'Okay so what does this date suggests?',\n",
       " 'chat_history': [AIMessage(content='Can you find out where this article was published and by whom?', additional_kwargs={}, response_metadata={}),\n",
       "  HumanMessage(content='The article was published in a magazine, but the specific name of the magazine is not mentioned in the provided context. It appears to be associated with influential individuals, such as great founders and board members of successful companies, and Paul Graham is mentioned as a contributor. However, without additional information, the exact publication details cannot be determined.', additional_kwargs={}, response_metadata={})],\n",
       " 'context': [Document(metadata={'page': 0, 'source': 'Essay.pdf'}, page_content=\"anything. Now you have something of your own(even though it's just a thought) and it's so strong that \\nit will force you to think more, read more, explore more and  have more of your own. Once you start \\nhaving your own thoughts, it will lead to a rational uninfluenced thinking, a particular thought \\nprocess and a winning mentality. And that day won't be far when you'll have some creation of your \\nown!\"),\n",
       "  Document(metadata={'page': 0, 'source': 'Essay.pdf'}, page_content=\"anything. Now you have something of your own(even though it's just a thought) and it's so strong that \\nit will force you to think more, read more, explore more and  have more of your own. Once you start \\nhaving your own thoughts, it will lead to a rational uninfluenced thinking, a particular thought \\nprocess and a winning mentality. And that day won't be far when you'll have some creation of your \\nown!\"),\n",
       "  Document(metadata={'page': 0, 'source': 'Essay.pdf'}, page_content=\"anything. Now you have something of your own(even though it's just a thought) and it's so strong that \\nit will force you to think more, read more, explore more and  have more of your own. Once you start \\nhaving your own thoughts, it will lead to a rational uninfluenced thinking, a particular thought \\nprocess and a winning mentality. And that day won't be far when you'll have some creation of your \\nown!\")],\n",
       " 'answer': \"The context does not provide a specific date or suggest anything related to a date. Therefore, I don't know what the date suggests.\"}"
      ]
     },
     "execution_count": 26,
     "metadata": {},
     "output_type": "execute_result"
    }
   ],
   "source": [
    "rag_chain.invoke({\"input\": \"Okay so what does this date suggests?\", \"chat_history\": chat_history})"
   ]
  },
  {
   "cell_type": "code",
   "execution_count": 28,
   "metadata": {},
   "outputs": [
    {
     "data": {
      "text/plain": [
       "('The context mentions that the article was published on August 24, 2023, but it does not provide specific information about when it was written.',\n",
       " [AIMessage(content='Can you find out where this article was published and by whom?', additional_kwargs={}, response_metadata={}),\n",
       "  HumanMessage(content='The article was published in a magazine, but the specific name of the magazine is not mentioned in the provided context. It appears to be associated with influential individuals, such as great founders and board members of successful companies, and Paul Graham is mentioned as a contributor. However, without additional information, the exact publication details cannot be determined.', additional_kwargs={}, response_metadata={}),\n",
       "  AIMessage(content='Can you find out where this article was published and by whom?', additional_kwargs={}, response_metadata={}),\n",
       "  HumanMessage(content='The context does not provide specific information about when the article was written, but it does reference a publication date of August 24, 2023.', additional_kwargs={}, response_metadata={}),\n",
       "  AIMessage(content='And any information on when it was written?', additional_kwargs={}, response_metadata={}),\n",
       "  HumanMessage(content='The context mentions that the article was published on August 24, 2023, but it does not provide specific information about when it was written.', additional_kwargs={}, response_metadata={})])"
      ]
     },
     "execution_count": 28,
     "metadata": {},
     "output_type": "execute_result"
    }
   ],
   "source": [
    "def invoke_rag_and_history(input, chat_history):\n",
    "    response = rag_chain.invoke({\"input\": input, \"chat_history\": chat_history})['answer']\n",
    "    chat_history.extend([\n",
    "        AIMessage(content=input),\n",
    "        HumanMessage(content=response)\n",
    "    ])\n",
    "    return response, chat_history\n",
    "\n",
    "resp, chat_history = invoke_rag_and_history(input=\"And any information on when it was written?\", chat_history=chat_history)\n",
    "\n",
    "resp, chat_history"
   ]
  },
  {
   "cell_type": "code",
   "execution_count": 29,
   "metadata": {},
   "outputs": [
    {
     "data": {
      "text/plain": [
       "('The date of August 24, 2023, suggests that the article was published on that day, indicating it is relatively recent and potentially relevant to current discussions or trends at that time. It may reflect contemporary thoughts or insights related to writing, knowledge, and understanding the world.',\n",
       " [AIMessage(content='Can you find out where this article was published and by whom?', additional_kwargs={}, response_metadata={}),\n",
       "  HumanMessage(content='The article was published in a magazine, but the specific name of the magazine is not mentioned in the provided context. It appears to be associated with influential individuals, such as great founders and board members of successful companies, and Paul Graham is mentioned as a contributor. However, without additional information, the exact publication details cannot be determined.', additional_kwargs={}, response_metadata={}),\n",
       "  AIMessage(content='Can you find out where this article was published and by whom?', additional_kwargs={}, response_metadata={}),\n",
       "  HumanMessage(content='The context does not provide specific information about when the article was written, but it does reference a publication date of August 24, 2023.', additional_kwargs={}, response_metadata={}),\n",
       "  AIMessage(content='And any information on when it was written?', additional_kwargs={}, response_metadata={}),\n",
       "  HumanMessage(content='The context mentions that the article was published on August 24, 2023, but it does not provide specific information about when it was written.', additional_kwargs={}, response_metadata={}),\n",
       "  AIMessage(content='Okay so what does this date suggests?', additional_kwargs={}, response_metadata={}),\n",
       "  HumanMessage(content='The date of August 24, 2023, suggests that the article was published on that day, indicating it is relatively recent and potentially relevant to current discussions or trends at that time. It may reflect contemporary thoughts or insights related to writing, knowledge, and understanding the world.', additional_kwargs={}, response_metadata={})])"
      ]
     },
     "execution_count": 29,
     "metadata": {},
     "output_type": "execute_result"
    }
   ],
   "source": [
    "resp, chat_history = invoke_rag_and_history(input=\"Okay so what does this date suggests?\", chat_history=chat_history)\n",
    "\n",
    "resp, chat_history"
   ]
  },
  {
   "cell_type": "code",
   "execution_count": null,
   "metadata": {},
   "outputs": [],
   "source": []
  }
 ],
 "metadata": {
  "kernelspec": {
   "display_name": "venv",
   "language": "python",
   "name": "python3"
  },
  "language_info": {
   "codemirror_mode": {
    "name": "ipython",
    "version": 3
   },
   "file_extension": ".py",
   "mimetype": "text/x-python",
   "name": "python",
   "nbconvert_exporter": "python",
   "pygments_lexer": "ipython3",
   "version": "3.12.7"
  }
 },
 "nbformat": 4,
 "nbformat_minor": 2
}
