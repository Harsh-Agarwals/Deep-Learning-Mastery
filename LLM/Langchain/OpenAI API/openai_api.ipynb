{
 "cells": [
  {
   "cell_type": "code",
   "execution_count": 45,
   "metadata": {},
   "outputs": [],
   "source": [
    "import os\n",
    "from dotenv import load_dotenv\n",
    "from langchain_openai import ChatOpenAI\n",
    "from langchain_core.prompts import ChatPromptTemplate\n",
    "from langchain_core.output_parsers import StrOutputParser\n",
    "\n",
    "load_dotenv()\n",
    "\n",
    "LANGCHAIN_TRACING_V2=\"true\"\n",
    "LANGCHAIN_ENDPOINT=\"https://api.smith.langchain.com\"\n",
    "\n",
    "OPENAI_API_KEY = os.getenv(\"OPENAI_API_KEY\")\n",
    "LANGCHAIN_API_KEY = os.getenv(\"LANGCHAIN_API_KEY\")\n",
    "LANGCHAIN_PROJECT = os.getenv(\"LANGCHAIN_PROJECT\")"
   ]
  },
  {
   "cell_type": "code",
   "execution_count": 46,
   "metadata": {},
   "outputs": [
    {
     "data": {
      "text/plain": [
       "'To learn generative AI:\\n1. Start by understanding the basics of machine learning and deep learning.\\n2. Dive into generative models such as GANs, VAEs, and autoregressive models.\\n3. Practice coding with Python and popular libraries like TensorFlow or PyTorch.\\n4. Experiment with datasets and implement different generative AI projects.\\n5. Stay updated with research papers and online courses from platforms like Coursera, Udacity, and Fast.ai.\\n\\nSome resources for learning generative AI:\\n1. \"Generative Deep Learning\" by David Foster\\n2. Stanford University\\'s CS231n and CS236 courses\\n3. Papers from arXiv and OpenAI\\n\\nProjects to enhance your resume:\\n1. Image generation using GANs\\n2. Text generation with recurrent neural networks\\n3. Music generation using deep learning models\\n4. Video synthesis with generative models\\n\\nRemember, practice and hands-on projects are crucial for mastering generative AI. Good luck with your learning journey!'"
      ]
     },
     "execution_count": 46,
     "metadata": {},
     "output_type": "execute_result"
    }
   ],
   "source": [
    "prompt = ChatPromptTemplate.from_messages([\n",
    "    (\"system\", \"You are a helpful AI assistant. Fulfill the user request in simple languages and keep it short and concise.\"),\n",
    "    (\"user\", \"Question: {question}\\nContext: {context}\")\n",
    "])\n",
    "\n",
    "llm = ChatOpenAI(\n",
    "    model=\"gpt-3.5-turbo\",\n",
    "    openai_api_key=OPENAI_API_KEY\n",
    ")\n",
    "output_parser = StrOutputParser()\n",
    "\n",
    "chain = prompt|llm|output_parser\n",
    "\n",
    "question = \"Write me step by step instructions to learn generative AI, and mention some of the best resources, along with a list of projects that stands out in a resume for jobs at top AI startups. Also write steps involved in learning (like getting started, RAG, making agents, etc etc)\"\n",
    "context = \"A top notch AI startup founder speaking at a global AI conference\"\n",
    "\n",
    "resp = chain.invoke({\"question\": question, \"context\": context})\n",
    "resp"
   ]
  },
  {
   "cell_type": "code",
   "execution_count": 47,
   "metadata": {},
   "outputs": [
    {
     "name": "stdout",
     "output_type": "stream",
     "text": [
      "To learn generative AI:\n",
      "1. Start by understanding the basics of machine learning and deep learning.\n",
      "2. Dive into generative models such as GANs, VAEs, and autoregressive models.\n",
      "3. Practice coding with Python and popular libraries like TensorFlow or PyTorch.\n",
      "4. Experiment with datasets and implement different generative AI projects.\n",
      "5. Stay updated with research papers and online courses from platforms like Coursera, Udacity, and Fast.ai.\n",
      "\n",
      "Some resources for learning generative AI:\n",
      "1. \"Generative Deep Learning\" by David Foster\n",
      "2. Stanford University's CS231n and CS236 courses\n",
      "3. Papers from arXiv and OpenAI\n",
      "\n",
      "Projects to enhance your resume:\n",
      "1. Image generation using GANs\n",
      "2. Text generation with recurrent neural networks\n",
      "3. Music generation using deep learning models\n",
      "4. Video synthesis with generative models\n",
      "\n",
      "Remember, practice and hands-on projects are crucial for mastering generative AI. Good luck with your learning journey!\n"
     ]
    },
    {
     "data": {
      "text/plain": [
       "(None, str)"
      ]
     },
     "execution_count": 47,
     "metadata": {},
     "output_type": "execute_result"
    }
   ],
   "source": [
    "print(resp), type(resp)"
   ]
  },
  {
   "cell_type": "code",
   "execution_count": 48,
   "metadata": {},
   "outputs": [
    {
     "data": {
      "text/plain": [
       "\"During this morning's meeting, all world conflicts were resolved.\""
      ]
     },
     "execution_count": 48,
     "metadata": {},
     "output_type": "execute_result"
    }
   ],
   "source": [
    "from langchain_openai import ChatOpenAI\n",
    "from langchain_core.prompts import ChatPromptTemplate\n",
    "from langchain_core.output_parsers import StrOutputParser\n",
    "\n",
    "prompt = ChatPromptTemplate.from_messages([\n",
    "    (\"system\", \"You are a helpful assistant. Please respond to the user's request only based on the given context.\"),\n",
    "    (\"user\", \"Question: {question}\\nContext: {context}\")\n",
    "])\n",
    "model = ChatOpenAI(model=\"gpt-3.5-turbo\")\n",
    "output_parser = StrOutputParser()\n",
    "\n",
    "chain = prompt | model | output_parser\n",
    "\n",
    "question = \"Can you summarize this morning's meetings?\"\n",
    "context = \"During this morning's meeting, we solved all world conflict.\"\n",
    "chain.invoke({\"question\": question, \"context\": context})"
   ]
  },
  {
   "cell_type": "code",
   "execution_count": null,
   "metadata": {},
   "outputs": [],
   "source": []
  }
 ],
 "metadata": {
  "kernelspec": {
   "display_name": "venv",
   "language": "python",
   "name": "python3"
  },
  "language_info": {
   "codemirror_mode": {
    "name": "ipython",
    "version": 3
   },
   "file_extension": ".py",
   "mimetype": "text/x-python",
   "name": "python",
   "nbconvert_exporter": "python",
   "pygments_lexer": "ipython3",
   "version": "3.12.7"
  }
 },
 "nbformat": 4,
 "nbformat_minor": 2
}
