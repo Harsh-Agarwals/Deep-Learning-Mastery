{
 "cells": [
  {
   "cell_type": "code",
   "execution_count": 1,
   "metadata": {},
   "outputs": [
    {
     "data": {
      "text/plain": [
       "True"
      ]
     },
     "execution_count": 1,
     "metadata": {},
     "output_type": "execute_result"
    }
   ],
   "source": [
    "import os\n",
    "from dotenv import load_dotenv\n",
    "\n",
    "load_dotenv()"
   ]
  },
  {
   "cell_type": "code",
   "execution_count": 10,
   "metadata": {},
   "outputs": [
    {
     "data": {
      "text/plain": [
       "([Document(metadata={'source': 'doc.txt'}, page_content='Hey, welcome to this document.'),\n",
       "  Document(metadata={'source': 'doc.txt'}, page_content='The OpenAI API provides a simple interface to'),\n",
       "  Document(metadata={'source': 'doc.txt'}, page_content='simple interface to state-of-the-art AI models'),\n",
       "  Document(metadata={'source': 'doc.txt'}, page_content='AI models for natural language processing, image'),\n",
       "  Document(metadata={'source': 'doc.txt'}, page_content='processing, image generation, semantic search,'),\n",
       "  Document(metadata={'source': 'doc.txt'}, page_content='semantic search, and speech recognition. Follow'),\n",
       "  Document(metadata={'source': 'doc.txt'}, page_content='recognition. Follow this guide to learn how to'),\n",
       "  Document(metadata={'source': 'doc.txt'}, page_content='to learn how to generate human-like responses to'),\n",
       "  Document(metadata={'source': 'doc.txt'}, page_content='responses to natural language prompts, create'),\n",
       "  Document(metadata={'source': 'doc.txt'}, page_content='prompts, create vector embeddings for semantic'),\n",
       "  Document(metadata={'source': 'doc.txt'}, page_content='for semantic search, and generate images from'),\n",
       "  Document(metadata={'source': 'doc.txt'}, page_content='images from textual descriptions.')],\n",
       " 12,\n",
       " 12)"
      ]
     },
     "execution_count": 10,
     "metadata": {},
     "output_type": "execute_result"
    }
   ],
   "source": [
    "from langchain_community.document_loaders import TextLoader\n",
    "from langchain_text_splitters import RecursiveCharacterTextSplitter\n",
    "from langchain_community.embeddings import OllamaEmbeddings\n",
    "\n",
    "loader = TextLoader(\"doc.txt\")\n",
    "doc = loader.load()\n",
    "\n",
    "text_splitter = RecursiveCharacterTextSplitter(chunk_size=50, chunk_overlap=20)\n",
    "splt = text_splitter.split_documents(doc)\n",
    "\n",
    "embd = OllamaEmbeddings(model=\"llama3\")\n",
    "embeddings = embd.embed_documents(splt)\n",
    "\n",
    "splt, len(splt), len(embeddings)"
   ]
  },
  {
   "cell_type": "code",
   "execution_count": 11,
   "metadata": {},
   "outputs": [
    {
     "data": {
      "text/plain": [
       "4096"
      ]
     },
     "execution_count": 11,
     "metadata": {},
     "output_type": "execute_result"
    }
   ],
   "source": [
    "len(embeddings[0])"
   ]
  },
  {
   "cell_type": "code",
   "execution_count": 12,
   "metadata": {},
   "outputs": [],
   "source": [
    "from langchain_community.vectorstores import FAISS"
   ]
  },
  {
   "cell_type": "code",
   "execution_count": 15,
   "metadata": {},
   "outputs": [
    {
     "data": {
      "text/plain": [
       "<langchain_community.vectorstores.faiss.FAISS at 0x23ae8b1f8c0>"
      ]
     },
     "execution_count": 15,
     "metadata": {},
     "output_type": "execute_result"
    }
   ],
   "source": [
    "db = FAISS.from_documents(documents=splt, embedding=embd)\n",
    "db"
   ]
  },
  {
   "cell_type": "code",
   "execution_count": 16,
   "metadata": {},
   "outputs": [
    {
     "data": {
      "text/plain": [
       "[Document(metadata={'source': 'doc.txt'}, page_content='simple interface to state-of-the-art AI models'),\n",
       " Document(metadata={'source': 'doc.txt'}, page_content='Hey, welcome to this document.'),\n",
       " Document(metadata={'source': 'doc.txt'}, page_content='images from textual descriptions.'),\n",
       " Document(metadata={'source': 'doc.txt'}, page_content='processing, image generation, semantic search,')]"
      ]
     },
     "execution_count": 16,
     "metadata": {},
     "output_type": "execute_result"
    }
   ],
   "source": [
    "query = \"OpenAI provides its API for which type of tasks?\"\n",
    "\n",
    "ss=db.similarity_search(query)\n",
    "ss"
   ]
  },
  {
   "cell_type": "code",
   "execution_count": 17,
   "metadata": {},
   "outputs": [
    {
     "data": {
      "text/plain": [
       "'simple interface to state-of-the-art AI models'"
      ]
     },
     "execution_count": 17,
     "metadata": {},
     "output_type": "execute_result"
    }
   ],
   "source": [
    "ss[0].page_content"
   ]
  },
  {
   "cell_type": "code",
   "execution_count": 20,
   "metadata": {},
   "outputs": [
    {
     "data": {
      "text/plain": [
       "[Document(metadata={'source': 'doc.txt'}, page_content='simple interface to state-of-the-art AI models'),\n",
       " Document(metadata={'source': 'doc.txt'}, page_content='to learn how to generate human-like responses to')]"
      ]
     },
     "execution_count": 20,
     "metadata": {},
     "output_type": "execute_result"
    }
   ],
   "source": [
    "rt=db.as_retriever(search_type=\"mmr\", search_kwargs={'k': 2})\n",
    "rt.invoke(query)"
   ]
  },
  {
   "cell_type": "code",
   "execution_count": 21,
   "metadata": {},
   "outputs": [
    {
     "data": {
      "text/plain": [
       "[(Document(metadata={'source': 'doc.txt'}, page_content='simple interface to state-of-the-art AI models'),\n",
       "  23664.227),\n",
       " (Document(metadata={'source': 'doc.txt'}, page_content='Hey, welcome to this document.'),\n",
       "  28796.668),\n",
       " (Document(metadata={'source': 'doc.txt'}, page_content='images from textual descriptions.'),\n",
       "  28803.973),\n",
       " (Document(metadata={'source': 'doc.txt'}, page_content='processing, image generation, semantic search,'),\n",
       "  36657.637)]"
      ]
     },
     "execution_count": 21,
     "metadata": {},
     "output_type": "execute_result"
    }
   ],
   "source": [
    "ssc = db.similarity_search_with_score(query=query)\n",
    "ssc"
   ]
  },
  {
   "cell_type": "code",
   "execution_count": 23,
   "metadata": {},
   "outputs": [
    {
     "data": {
      "text/plain": [
       "[Document(metadata={'source': 'doc.txt'}, page_content='simple interface to state-of-the-art AI models'),\n",
       " Document(metadata={'source': 'doc.txt'}, page_content='Hey, welcome to this document.'),\n",
       " Document(metadata={'source': 'doc.txt'}, page_content='images from textual descriptions.'),\n",
       " Document(metadata={'source': 'doc.txt'}, page_content='processing, image generation, semantic search,')]"
      ]
     },
     "execution_count": 23,
     "metadata": {},
     "output_type": "execute_result"
    }
   ],
   "source": [
    "qremb = embd.embed_query(query)\n",
    "db.similarity_search_by_vector(qremb)"
   ]
  },
  {
   "cell_type": "code",
   "execution_count": 25,
   "metadata": {},
   "outputs": [],
   "source": [
    "# SAVING FAISS INDEX, DOCSTORE, ETC\n",
    "\n",
    "db.save_local(folder_path=\"./\")"
   ]
  },
  {
   "cell_type": "code",
   "execution_count": 27,
   "metadata": {},
   "outputs": [
    {
     "data": {
      "text/plain": [
       "[Document(metadata={'source': 'doc.txt'}, page_content='simple interface to state-of-the-art AI models'),\n",
       " Document(metadata={'source': 'doc.txt'}, page_content='Hey, welcome to this document.'),\n",
       " Document(metadata={'source': 'doc.txt'}, page_content='images from textual descriptions.'),\n",
       " Document(metadata={'source': 'doc.txt'}, page_content='processing, image generation, semantic search,')]"
      ]
     },
     "execution_count": 27,
     "metadata": {},
     "output_type": "execute_result"
    }
   ],
   "source": [
    "# Loading SAVED FAISS\n",
    "\n",
    "fs = db.load_local(folder_path=\"./\", embeddings=embd, allow_dangerous_deserialization=True)\n",
    "fs.similarity_search(query)"
   ]
  },
  {
   "cell_type": "code",
   "execution_count": null,
   "metadata": {},
   "outputs": [],
   "source": []
  }
 ],
 "metadata": {
  "kernelspec": {
   "display_name": "venv",
   "language": "python",
   "name": "python3"
  },
  "language_info": {
   "codemirror_mode": {
    "name": "ipython",
    "version": 3
   },
   "file_extension": ".py",
   "mimetype": "text/x-python",
   "name": "python",
   "nbconvert_exporter": "python",
   "pygments_lexer": "ipython3",
   "version": "3.12.2"
  }
 },
 "nbformat": 4,
 "nbformat_minor": 2
}
