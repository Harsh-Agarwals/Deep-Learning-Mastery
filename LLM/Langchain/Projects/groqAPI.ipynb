{
 "cells": [
  {
   "cell_type": "code",
   "execution_count": 2,
   "metadata": {},
   "outputs": [],
   "source": [
    "from langchain_groq import ChatGroq\n",
    "import os\n",
    "from dotenv import load_dotenv\n",
    "\n",
    "load_dotenv()\n",
    "GROQ_API_KEY = os.getenv(\"GROQ_API_KEY\")"
   ]
  },
  {
   "cell_type": "code",
   "execution_count": 16,
   "metadata": {},
   "outputs": [
    {
     "name": "stdout",
     "output_type": "stream",
     "text": [
      "[Choice(finish_reason='stop', index=0, logprobs=None, message=ChatCompletionMessage(content='Who can resist the allure of chocolates?\\n\\nHere are some fun facts and tidbits about chocolates:\\n\\n1. **Ancient Mesoamerica**: Chocolate originated in ancient Mesoamerica, where it was considered a luxury item and a source of nourishment.\\n2. **Cacao beans**: Chocolates are made from cacao beans, which contain a compound called theobromine, a natural mood elevator.\\n3. **Types of chocolate**: There are five main types of chocolate:\\n\\t* Dark chocolate\\n\\t* Milk chocolate\\n\\t* White chocolate\\n\\t* Flavored chocolate\\n\\t* Compound chocolate\\n4. **Chocolate production**: The global chocolate market is worth over $140 billion, with over 4 million metric tons of chocolate produced each year.\\n5. **Health benefits**: Chocolates have been linked to several potential health benefits, including:\\n\\t* Improving heart health\\n\\t* Reducing stress and anxiety\\n\\t* Boosting mood and cognitive function\\n\\t* Providing antioxidants and anti-inflammatory properties\\n6. **Addiction**: Chocolates contain a compound called phenylethylamine, which is similar to a neurotransmitter found in the brain. This can contribute to cravings and addiction.\\n7. **Chocoholics**: Some people are more susceptible to the allure of chocolates due to their genetic predisposition. Research suggests that people with a certain variant of the gene responsible for the taste of bitter compounds are more likely to be chocoholics.\\n8. **Famous chocolate lovers**: Some notable chocoholics include:\\n\\t* Queen Elizabeth II\\n\\t* Marie Antoinette\\n\\t* Ernest Hemingway\\n\\t* Mahatma Gandhi\\n9. **Chocolate festivals**: Many cities around the world host chocolate festivals, where visitors can sample and learn about different types of chocolates.\\n10. **Chocolate pairing**: Chocolates can be paired with a variety of foods and drinks, such as:\\n\\t* Fresh fruit\\n\\t* Nuts\\n\\t* Coffee\\n\\t* Tea\\n\\t* Wine\\n\\nDid you know these chocolate facts? Do you have a favorite type of chocolate or way of enjoying them?', role='assistant', function_call=None, tool_calls=None))]\n"
     ]
    }
   ],
   "source": [
    "from groq import Groq\n",
    "\n",
    "client = Groq(\n",
    "    api_key=GROQ_API_KEY\n",
    ")\n",
    "\n",
    "key = \"chocolates\"\n",
    "scifi = client.chat.completions.create(\n",
    "    messages=[\n",
    "    {\n",
    "        \"role\": \"system\",\n",
    "        \"content\": \"You are an intelligent AI system that makes a new Scifi story from a key given to you by the user\",\n",
    "        \"role\": \"user\",\n",
    "        \"content\": key\n",
    "    }],\n",
    "    model=\"llama3-8b-8192\",\n",
    ")\n",
    "print(scifi.choices)"
   ]
  },
  {
   "cell_type": "code",
   "execution_count": 17,
   "metadata": {},
   "outputs": [
    {
     "data": {
      "text/plain": [
       "ChatGroq(client=<groq.resources.chat.completions.Completions object at 0x00000254C9B53D70>, async_client=<groq.resources.chat.completions.AsyncCompletions object at 0x00000254C9EC9B20>, model_name='gemma2-9b-it', temperature=0.3, model_kwargs={}, groq_api_key=SecretStr('**********'), max_tokens=256)"
      ]
     },
     "execution_count": 17,
     "metadata": {},
     "output_type": "execute_result"
    }
   ],
   "source": [
    "model = ChatGroq(\n",
    "    model=\"gemma2-9b-it\",\n",
    "    temperature=0.3,\n",
    "    max_tokens=256,\n",
    "    api_key=GROQ_API_KEY\n",
    ")\n",
    "\n",
    "model"
   ]
  },
  {
   "cell_type": "code",
   "execution_count": 19,
   "metadata": {},
   "outputs": [
    {
     "data": {
      "text/plain": [
       "AIMessage(content='The air hung thick with the scent of roasted cocoa, a strange anomaly in the sterile, metallic corridors of the space station. Kai wrinkled his nose, the aroma both comforting and unsettling. He\\'d been craving chocolate for weeks, ever since the last shipment from Earth had run out. \\n\\nHe followed the scent to a dimly lit alcove, where a lone figure hunched over a makeshift contraption. Wires snaked out from a battered metal box, connecting to a series of glowing tubes filled with a viscous, brown liquid. \\n\\n\"What\\'s that?\" Kai asked, his voice echoing in the silence.\\n\\nThe figure startled, turning to reveal a wizened old woman with eyes that glittered like stardust. \"Chocolate,\" she rasped, her voice a dry whisper. \"The finest chocolate in the galaxy.\"\\n\\nKai\\'s eyes widened. \"But...how?\"\\n\\nThe woman smiled, a mischievous glint in her eyes. \"A little ingenuity, a touch of magic, and a secret recipe passed down through generations.\" She gestured to the contraption. \"This, my dear, is a chocolate synthesizer. It takes the basic elements and weaves them into the most delectable treat.\"\\n\\nKai watched in awe as the woman poured the', additional_kwargs={}, response_metadata={'token_usage': {'completion_tokens': 256, 'prompt_tokens': 23, 'total_tokens': 279, 'completion_time': 0.465454545, 'prompt_time': 0.000960486, 'queue_time': 0.031652028, 'total_time': 0.466415031}, 'model_name': 'gemma2-9b-it', 'system_fingerprint': 'fp_10c08bf97d', 'finish_reason': 'length', 'logprobs': None}, id='run-10dfd564-7a49-454d-85a2-ecf8ed243c0b-0', usage_metadata={'input_tokens': 23, 'output_tokens': 256, 'total_tokens': 279})"
      ]
     },
     "execution_count": 19,
     "metadata": {},
     "output_type": "execute_result"
    }
   ],
   "source": [
    "from langchain_core.messages import HumanMessage, SystemMessage\n",
    "\n",
    "message = [\n",
    "    SystemMessage(content=\"Make a small scifi story from the key provided by the user\"),\n",
    "    HumanMessage(content=\"chocolate\")\n",
    "]\n",
    "\n",
    "response = model.invoke(message)\n",
    "response"
   ]
  },
  {
   "cell_type": "code",
   "execution_count": 20,
   "metadata": {},
   "outputs": [
    {
     "data": {
      "text/plain": [
       "'The air hung thick with the scent of roasted cocoa, a strange anomaly in the sterile, metallic corridors of the space station. Kai wrinkled his nose, the aroma both comforting and unsettling. He\\'d been craving chocolate for weeks, ever since the last shipment from Earth had run out. \\n\\nHe followed the scent to a dimly lit alcove, where a lone figure hunched over a makeshift contraption. Wires snaked out from a battered metal box, connecting to a series of glowing tubes filled with a viscous, brown liquid. \\n\\n\"What\\'s that?\" Kai asked, his voice echoing in the silence.\\n\\nThe figure startled, turning to reveal a wizened old woman with eyes that glittered like stardust. \"Chocolate,\" she rasped, her voice a dry whisper. \"The finest chocolate in the galaxy.\"\\n\\nKai\\'s eyes widened. \"But...how?\"\\n\\nThe woman smiled, a mischievous glint in her eyes. \"A little ingenuity, a touch of magic, and a secret recipe passed down through generations.\" She gestured to the contraption. \"This, my dear, is a chocolate synthesizer. It takes the basic elements and weaves them into the most delectable treat.\"\\n\\nKai watched in awe as the woman poured the'"
      ]
     },
     "execution_count": 20,
     "metadata": {},
     "output_type": "execute_result"
    }
   ],
   "source": [
    "response.content"
   ]
  },
  {
   "cell_type": "code",
   "execution_count": 21,
   "metadata": {},
   "outputs": [
    {
     "data": {
      "text/plain": [
       "'The air hung thick with the scent of roasted cocoa, a strange anomaly in the sterile, metallic corridors of the space station. Kai wrinkled his nose, the aroma both comforting and unsettling. He\\'d been craving chocolate for weeks, ever since the last shipment from Earth had run out. \\n\\nHe followed the scent to a dimly lit alcove, where a lone figure hunched over a makeshift contraption. Wires snaked out from a battered metal box, connecting to a series of glowing tubes filled with a viscous, brown liquid. \\n\\n\"What\\'s that?\" Kai asked, his voice echoing in the silence.\\n\\nThe figure startled, turning to reveal a wizened old woman with eyes that glittered like stardust. \"Chocolate,\" she rasped, her voice a dry whisper. \"The finest chocolate in the galaxy.\"\\n\\nKai\\'s eyes widened. \"But...how?\"\\n\\nThe woman smiled, a mischievous glint in her eyes. \"A little ingenuity, a touch of magic, and a secret recipe passed down through generations.\" She gestured to the contraption. \"This, my dear, is a chocolate synthesizer. It takes the basic elements and weaves them into the most delectable treat.\"\\n\\nKai watched in awe as the woman poured the'"
      ]
     },
     "execution_count": 21,
     "metadata": {},
     "output_type": "execute_result"
    }
   ],
   "source": [
    "from langchain_core.output_parsers import StrOutputParser\n",
    "parser = StrOutputParser()\n",
    "parser.invoke(response)"
   ]
  },
  {
   "cell_type": "code",
   "execution_count": 22,
   "metadata": {},
   "outputs": [
    {
     "data": {
      "text/plain": [
       "'The air shimmered with heat, distorting the already hazy cityscape. Kai squinted, his cybernetic eye whirring as it adjusted to the glare reflecting off the chrome towers. He clutched the worn, brown package tighter, its contents a precious cargo in this desolate wasteland. \\n\\n\"Chocolate,\" he muttered, the word tasting strange on his parched tongue. A luxury, a relic of a forgotten era. He was delivering it to the Elder, a wizened woman rumored to hold the key to reviving the dying planet.\\n\\nThe journey was fraught with danger. Scavengers roamed the streets, their eyes gleaming with avarice. Kai, a former courier, knew the city\\'s shadows like the back of his hand. He navigated the crumbling alleys, his boots crunching on shattered glass, his pulse quickening with each rustle in the darkness.\\n\\nFinally, he reached the Elder\\'s sanctuary, a crumbling cathedral bathed in the ethereal glow of a bioluminescent fungus. The Elder, her skin wrinkled like ancient parchment, greeted him with a smile that crinkled her eyes.\\n\\n\"You have brought it,\" she rasped, her voice like dry leaves skittering across pavement.\\n\\nKai nodded, placing the package on a dusty altar.'"
      ]
     },
     "execution_count": 22,
     "metadata": {},
     "output_type": "execute_result"
    }
   ],
   "source": [
    "# Using LCEL(Langchain expression language) chain\n",
    "\n",
    "chain = model|parser\n",
    "\n",
    "chain.invoke(message)"
   ]
  },
  {
   "cell_type": "code",
   "execution_count": 33,
   "metadata": {},
   "outputs": [
    {
     "data": {
      "text/plain": [
       "ChatPromptTemplate(input_variables=['genre', 'key'], input_types={}, partial_variables={}, messages=[SystemMessagePromptTemplate(prompt=PromptTemplate(input_variables=['genre'], input_types={}, partial_variables={}, template='You are an AI system that makes {genre} story from the key provided by the user'), additional_kwargs={}), HumanMessagePromptTemplate(prompt=PromptTemplate(input_variables=['key'], input_types={}, partial_variables={}, template='{key}'), additional_kwargs={})])"
      ]
     },
     "execution_count": 33,
     "metadata": {},
     "output_type": "execute_result"
    }
   ],
   "source": [
    "from langchain_core.prompts import ChatPromptTemplate\n",
    "\n",
    "template = ChatPromptTemplate.from_messages([\n",
    "    (\"system\", \"You are an AI system that makes {genre} story from the key provided by the user\"),\n",
    "    (\"user\", \"{key}\")\n",
    "])\n",
    "\n",
    "template"
   ]
  },
  {
   "cell_type": "code",
   "execution_count": 34,
   "metadata": {},
   "outputs": [
    {
     "data": {
      "text/plain": [
       "ChatPromptValue(messages=[SystemMessage(content='You are an AI system that makes romantic story from the key provided by the user', additional_kwargs={}, response_metadata={}), HumanMessage(content='chocolate', additional_kwargs={}, response_metadata={})])"
      ]
     },
     "execution_count": 34,
     "metadata": {},
     "output_type": "execute_result"
    }
   ],
   "source": [
    "result = template.invoke({\n",
    "    \"genre\": \"romantic\",\n",
    "    \"key\": \"chocolate\"\n",
    "})\n",
    "\n",
    "result"
   ]
  },
  {
   "cell_type": "code",
   "execution_count": 36,
   "metadata": {},
   "outputs": [
    {
     "data": {
      "text/plain": [
       "\"Elara, with her eyes the color of melted dark chocolate, was known throughout the village for her exquisite pastries. Each bite of her creations was a symphony of flavors, a testament to her passion and skill. But Elara harbored a secret: her heart was as bitter as unsweetened cacao. She believed love was a myth, a sugary delusion that would only leave her heartbroken. \\n\\nOne day, a young artist named Theo arrived in the village. Drawn by Elara's reputation, he sought her out, not for her pastries, but for her enigmatic smile. Theo, whose soul burned with a fiery passion like cinnamon, was captivated by Elara's aloofness. He brought her gifts: vibrant paintings of sunflowers, their golden hearts mirroring his own for her. He spoke to her in whispers, his words as smooth as caramel, softening the edges of her guarded heart.\\n\\nElara, initially resistant, found herself drawn to Theo's unwavering warmth. He saw beyond her bitter façade, appreciating the depth and complexity of her character. He encouraged her to share her dreams, her fears, and her love for baking. Slowly, like the slow melting of a truffle, Theo's affection began to thaw the frozen landscape of Elara's heart.\""
      ]
     },
     "execution_count": 36,
     "metadata": {},
     "output_type": "execute_result"
    }
   ],
   "source": [
    "model = ChatGroq(\n",
    "    model=\"gemma2-9b-it\",\n",
    "    temperature=0.8,\n",
    "    max_tokens=256,\n",
    "    api_key=GROQ_API_KEY\n",
    ")\n",
    "\n",
    "chain = template | model | parser\n",
    "chain.invoke({\n",
    "    \"genre\": \"romantic\",\n",
    "    \"key\": \"chocolate\"\n",
    "})"
   ]
  },
  {
   "cell_type": "code",
   "execution_count": 38,
   "metadata": {},
   "outputs": [
    {
     "data": {
      "text/plain": [
       "'The air thickened with the smell of cocoa and cinnamon. Anya, her senses overwhelmed by the sweet aroma, took a deep breath. She was in the heart of Chocolatier\\'s Alley, a labyrinth of stalls overflowing with every imaginable chocolate creation. But Anya wasn\\'t here for the truffles or the bonbons. She was searching for the legendary Cacao Moon, a mythical chocolate bar said to grant its eater a vision of their true destiny. \\n\\nA shadow flickered past her, a figure shrouded in dark fabric disappearing into a narrow alleyway. Anya\\'s pulse quickened. She knew the Cacao Moon was no mere confection - it was fiercely guarded by the enigmatic Cacao Keepers, secretive artisans who believed its power should not be misused.  \\n\\nFollowing the shadowy figure, Anya plunged into the labyrinthine alleyway. The air here was thick with the scent of melting chocolate, a heady mix of vanilla, caramel, and something else… a faint metallic tang that sent a shiver down her spine. She rounded a corner and came face to face with the figure, a wizened old man with eyes that sparkled like dark chocolate chips. \\n\\n\"You seek the Cacao Moon?\" the man rasped, his voice like the crunch of brittle chocolate. \\n\\nA'"
      ]
     },
     "execution_count": 38,
     "metadata": {},
     "output_type": "execute_result"
    }
   ],
   "source": [
    "model = ChatGroq(\n",
    "    model=\"gemma2-9b-it\",\n",
    "    temperature=0.8,\n",
    "    max_tokens=256,\n",
    "    api_key=GROQ_API_KEY\n",
    ")\n",
    "\n",
    "chain = template | model | parser\n",
    "result = chain.invoke({\n",
    "    \"genre\": \"action\",\n",
    "    \"key\": \"chocolate\"\n",
    "})\n",
    "\n",
    "result"
   ]
  },
  {
   "cell_type": "code",
   "execution_count": null,
   "metadata": {},
   "outputs": [],
   "source": []
  },
  {
   "cell_type": "code",
   "execution_count": null,
   "metadata": {},
   "outputs": [],
   "source": []
  },
  {
   "cell_type": "code",
   "execution_count": null,
   "metadata": {},
   "outputs": [],
   "source": []
  }
 ],
 "metadata": {
  "kernelspec": {
   "display_name": "venv",
   "language": "python",
   "name": "python3"
  },
  "language_info": {
   "codemirror_mode": {
    "name": "ipython",
    "version": 3
   },
   "file_extension": ".py",
   "mimetype": "text/x-python",
   "name": "python",
   "nbconvert_exporter": "python",
   "pygments_lexer": "ipython3",
   "version": "3.12.7"
  }
 },
 "nbformat": 4,
 "nbformat_minor": 2
}
