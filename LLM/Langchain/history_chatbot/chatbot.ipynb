{
 "cells": [
  {
   "cell_type": "code",
   "execution_count": 19,
   "metadata": {},
   "outputs": [],
   "source": [
    "from langchain_groq.chat_models import ChatGroq\n",
    "from langchain.prompts import ChatPromptTemplate\n",
    "from langchain_core.messages import HumanMessage, AIMessage\n",
    "from langchain_core.output_parsers import StrOutputParser\n",
    "\n",
    "import os\n",
    "from dotenv import load_dotenv\n",
    "\n",
    "load_dotenv()\n",
    "\n",
    "GROQ_API_KEY = os.getenv(\"GROQ_API_KEY\")"
   ]
  },
  {
   "cell_type": "code",
   "execution_count": 3,
   "metadata": {},
   "outputs": [
    {
     "data": {
      "text/plain": [
       "(ChatGroq(client=<groq.resources.chat.completions.Completions object at 0x00000282A9CF6750>, async_client=<groq.resources.chat.completions.AsyncCompletions object at 0x00000282A9CF7290>, model_name='gemma2-9b-it', model_kwargs={}, groq_api_key=SecretStr('**********')),\n",
       " StrOutputParser())"
      ]
     },
     "execution_count": 3,
     "metadata": {},
     "output_type": "execute_result"
    }
   ],
   "source": [
    "model = ChatGroq(\n",
    "    model=\"gemma2-9b-it\",\n",
    "    api_key=GROQ_API_KEY,\n",
    "    temperature=0.7\n",
    ")\n",
    "\n",
    "parser = StrOutputParser()\n",
    "\n",
    "model, parser"
   ]
  },
  {
   "cell_type": "code",
   "execution_count": 5,
   "metadata": {},
   "outputs": [
    {
     "data": {
      "text/plain": [
       "AIMessage(content=\"That's fantastic, Harsh! Starting your own startup is an exciting and challenging journey. \\n\\nI can help you brainstorm ideas, research markets, or even just bounce ideas off of. \\n\\nTell me, what kind of startup are you interested in? What are your passions and skills? \\n\\nThe more information you give me, the better I can assist you in your entrepreneurial endeavors.  🚀\\n\", additional_kwargs={}, response_metadata={'token_usage': {'completion_tokens': 84, 'prompt_tokens': 24, 'total_tokens': 108, 'completion_time': 0.152727273, 'prompt_time': 0.000150489, 'queue_time': 0.01464128, 'total_time': 0.152877762}, 'model_name': 'gemma2-9b-it', 'system_fingerprint': 'fp_10c08bf97d', 'finish_reason': 'stop', 'logprobs': None}, id='run-8ec17373-c7d3-4995-a57f-45a182a3a24a-0', usage_metadata={'input_tokens': 24, 'output_tokens': 84, 'total_tokens': 108})"
      ]
     },
     "execution_count": 5,
     "metadata": {},
     "output_type": "execute_result"
    }
   ],
   "source": [
    "model.invoke([HumanMessage(content=\"Hello, my name is Harsh and I aspire to start my own startup.\")])"
   ]
  },
  {
   "cell_type": "code",
   "execution_count": 7,
   "metadata": {},
   "outputs": [
    {
     "data": {
      "text/plain": [
       "AIMessage(content=\"You are Harsh, a data scientist with a passion for deep tech!  You excel at machine learning, are expanding your knowledge into NLP and generative AI, and even have skills in web development and DevOps. You're looking to leverage these skills to launch your own deep tech startup. \\n\\nIs there anything specific you'd like to brainstorm or explore about your potential startup? For example:\\n\\n* **What problems are you passionate about solving?**\\n* **What industries excite you?**\\n* **Are there any particular deep tech applications you find intriguing?**\\n\\n\\nLet's work together to shape your vision! \\n\\n\", additional_kwargs={}, response_metadata={'token_usage': {'completion_tokens': 131, 'prompt_tokens': 94, 'total_tokens': 225, 'completion_time': 0.238181818, 'prompt_time': 0.003443027, 'queue_time': 0.03453634, 'total_time': 0.241624845}, 'model_name': 'gemma2-9b-it', 'system_fingerprint': 'fp_10c08bf97d', 'finish_reason': 'stop', 'logprobs': None}, id='run-05c4a549-d69e-4a74-932c-783cc35f6cd8-0', usage_metadata={'input_tokens': 94, 'output_tokens': 131, 'total_tokens': 225})"
      ]
     },
     "execution_count": 7,
     "metadata": {},
     "output_type": "execute_result"
    }
   ],
   "source": [
    "model.invoke([\n",
    "    HumanMessage(content=\"Hello, my name is Harsh and I aspire to start my own deep tech startup. I work as a data scientist, is good with Machine Learning and stuffs, currently learning NLP and generative AI. I also can build websites and do DevOps.\"),\n",
    "    AIMessage(content=\"That's great, tell me what type of startup you aspire to build.\"),\n",
    "    HumanMessage(content=\"Hey, who and I and what do I do?\")\n",
    "])"
   ]
  },
  {
   "cell_type": "code",
   "execution_count": 8,
   "metadata": {},
   "outputs": [],
   "source": [
    "from langchain_core.chat_history import BaseChatMessageHistory\n",
    "from langchain_community.chat_message_histories import ChatMessageHistory\n",
    "from langchain_core.runnables.history import RunnableWithMessageHistory"
   ]
  },
  {
   "cell_type": "code",
   "execution_count": 9,
   "metadata": {},
   "outputs": [],
   "source": [
    "sessions = {}\n",
    "\n",
    "def get_session_history(session_id: str) -> BaseChatMessageHistory:\n",
    "    if session_id not in sessions:\n",
    "        sessions[session_id] = ChatMessageHistory()\n",
    "    return sessions[session_id]"
   ]
  },
  {
   "cell_type": "code",
   "execution_count": 10,
   "metadata": {},
   "outputs": [],
   "source": [
    "config = {\"configurable\": {\"session_id\": \"chat1\"}}\n",
    "\n",
    "with_message_history = RunnableWithMessageHistory(model, get_session_history)"
   ]
  },
  {
   "cell_type": "code",
   "execution_count": 11,
   "metadata": {},
   "outputs": [
    {
     "data": {
      "text/plain": [
       "AIMessage(content=\"That's fantastic, Harsh!  It sounds like you've got a great foundation for a deep tech startup.  Combining your expertise in data science, machine learning, NLP, generative AI, web development, and DevOps gives you a powerful edge.  \\n\\nTo help you brainstorm, let's explore some potential deep tech startup ideas:\\n\\n**Leveraging Your Skills:**\\n\\n* **AI-Powered Content Creation:** Build tools that use generative AI to help businesses create high-quality content (articles, marketing copy, social media posts, etc.) at scale.\\n* **Personalized Learning Platform:** Develop an AI-driven platform that adapts to each student's learning style and pace, providing personalized educational content and support.\\n* **Predictive Maintenance for Industries:** Apply machine learning to analyze sensor data and predict equipment failures in manufacturing, transportation, or other sectors, reducing downtime and costs.\\n* **Conversational AI for Customer Service:** Create chatbots or virtual assistants that use NLP to provide efficient and personalized customer support, answering FAQs and resolving issues.\\n* **AI-Driven Healthcare Diagnosis:** Develop algorithms that analyze medical images or patient data to assist doctors in making faster and more accurate diagnoses.\\n\\n**Considering Market Needs:**\\n\\n* **Identify a specific industry or problem:**  What challenges are businesses or individuals facing that AI could potentially solve?\\n* **Research existing solutions:**  Are there any existing solutions, and how can your approach be more innovative or effective?\\n* **Validate your idea:** Talk to potential customers and get their feedback on the problem and your proposed solution.\\n\\n**Important Considerations:**\\n\\n* **Data Access:**  Deep learning models require large datasets for training.  Ensure you have access to the necessary data or can acquire it ethically and legally.\\n* **Technical Expertise:**  Building a deep tech startup requires a strong technical team.  Consider your own skills and whether you need to bring in additional expertise.\\n* **Funding:** Deep tech startups often require significant funding for research and development. Explore various funding options, such as grants, venture capital, or angel investors.\\n* **Ethical Implications:** Be mindful of the ethical implications of your AI technology.  Consider issues such as bias, fairness, transparency, and accountability.\\n\\n\\n\\nRemember, starting a successful deep tech startup is a journey that requires dedication, perseverance, and a willingness to learn and adapt. Best of luck, Harsh! I'm excited to see what you create.\\n\", additional_kwargs={}, response_metadata={'token_usage': {'completion_tokens': 500, 'prompt_tokens': 57, 'total_tokens': 557, 'completion_time': 0.909090909, 'prompt_time': 0.002050518, 'queue_time': 0.011765861, 'total_time': 0.911141427}, 'model_name': 'gemma2-9b-it', 'system_fingerprint': 'fp_10c08bf97d', 'finish_reason': 'stop', 'logprobs': None}, id='run-bdc2074a-119c-44ab-95b7-5084ff9ad942-0', usage_metadata={'input_tokens': 57, 'output_tokens': 500, 'total_tokens': 557})"
      ]
     },
     "execution_count": 11,
     "metadata": {},
     "output_type": "execute_result"
    }
   ],
   "source": [
    "response = with_message_history.invoke(\n",
    "    [HumanMessage(content=\"Hello, my name is Harsh and I aspire to start my own deep tech startup. I work as a data scientist, is good with Machine Learning and stuffs, currently learning NLP and generative AI. I also can build websites and do DevOps.\")],\n",
    "    config=config\n",
    ")\n",
    "\n",
    "response"
   ]
  },
  {
   "cell_type": "code",
   "execution_count": 13,
   "metadata": {},
   "outputs": [
    {
     "name": "stdout",
     "output_type": "stream",
     "text": [
      "You're on fire, Harsh!  Let's  keep the creative juices flowing. How about this:\n",
      "\n",
      "**Idea: AI-Powered Music Collaboration Platform**\n",
      "\n",
      "**Problem:**\n",
      "\n",
      "* Musicians often struggle to find collaborators with complementary skills and styles.\n",
      "*  Traditional music production can be time-consuming and geographically limited.\n",
      "\n",
      "**Solution:**\n",
      "\n",
      "* **Platform:** A web-based platform that connects musicians from diverse backgrounds and genres.\n",
      "* **AI-Driven Matching:**  Use NLP and machine learning to analyze musicians' musical styles, preferences, and collaboration history to suggest compatible partners.\n",
      "* **Collaborative Workspace:**  Provide a virtual studio environment where musicians can share ideas, experiment with sounds, and co-create music in real-time, regardless of location.\n",
      "* **AI-Assisted Composition:**  Integrate generative AI tools that can help musicians overcome creative blocks, explore new musical ideas, and generate melodies, harmonies, or even entire song structures.\n",
      "* **Performance & Distribution:**  Offer tools for musicians to showcase their collaborative work, connect with potential fans, and distribute their music online.\n",
      "\n",
      "**Your Strengths:**\n",
      "\n",
      "* **Data Science & Machine Learning:**  Build the AI algorithms for matching musicians, analyzing musical styles, and powering the composition assistance features.\n",
      "* **NLP:**  Analyze lyrics, song structures, and musical themes to enhance the matching process and understand musicians' creative intentions.\n",
      "* **Generative AI:**  Develop AI models that can generate musical elements and assist in the composition process.\n",
      "* **Web Development & DevOps:**  Create a user-friendly and scalable platform for musicians to collaborate and share their work.\n",
      "\n",
      "**Market Potential:**\n",
      "\n",
      "*  A massive global community of musicians looking for new ways to connect, collaborate, and create.\n",
      "\n",
      "**Next Steps:**\n",
      "\n",
      "* **Music Genre Research:**  Identify specific music genres where AI-assisted collaboration could be particularly valuable.\n",
      "* **User Interface Design:**  Create a visually appealing and intuitive platform that caters to the needs of musicians.\n",
      "* **Beta Testing:**  Gather feedback from musicians on the platform's features and functionality to refine and improve the product.\n",
      "\n",
      "\n",
      "\n",
      "Remember, Harsh, the key is to focus on solving a real problem for a specific target audience.  This idea combines your passions for AI and music, giving you the potential to make a significant impact on the creative industry.\n",
      "\n",
      "\n",
      "\n",
      "\n",
      "\n"
     ]
    }
   ],
   "source": [
    "config2 = {\"configurable\": {\"session_id\": \"chat1\"}}\n",
    "\n",
    "response = with_message_history.invoke(\n",
    "    [HumanMessage(content=\"Can you suggest me something?\")],\n",
    "    config=config2\n",
    ")\n",
    "\n",
    "print(response.content)"
   ]
  },
  {
   "cell_type": "code",
   "execution_count": 14,
   "metadata": {},
   "outputs": [
    {
     "name": "stdout",
     "output_type": "stream",
     "text": [
      "Please provide me with some context! I need to know what kind of ideas you're looking for. \n",
      "\n",
      "For example, tell me:\n",
      "\n",
      "* **What is the topic?** (e.g., writing a story, planning a party, solving a problem)\n",
      "* **What have you already considered?** \n",
      "* **What are your goals?** (e.g., be creative, be practical, be funny)\n",
      "* **What is your target audience?** (e.g., children, adults, experts)\n",
      "\n",
      "\n",
      "The more information you give me, the better I can help! 😊 \n",
      "\n",
      "\n"
     ]
    }
   ],
   "source": [
    "config3 = {\"configurable\": {\"session_id\": \"chat2\"}}\n",
    "\n",
    "response = with_message_history.invoke(\n",
    "    [HumanMessage(content=\"Give me some more ideas.\")],\n",
    "    config=config3\n",
    ")\n",
    "\n",
    "print(response.content)"
   ]
  },
  {
   "cell_type": "code",
   "execution_count": 15,
   "metadata": {},
   "outputs": [
    {
     "name": "stdout",
     "output_type": "stream",
     "text": [
      "You're on a roll, Harsh! Let's keep the brainstorming going. Here are a few more deep tech startup ideas tailored to your skillset:\n",
      "\n",
      "**1. AI-Powered Legal Document Analysis & Summarization:**\n",
      "\n",
      "* **Problem:**  Legal documents are often complex, lengthy, and time-consuming to review.\n",
      "* **Solution:** Develop an AI-powered platform that uses NLP to analyze legal documents (contracts, patents, case law) and automatically generate concise summaries, highlight key clauses, and identify potential risks or opportunities.\n",
      "* **Your Strengths:**  NLP, ML, web development.\n",
      "\n",
      "**2. AI-Driven Personalized Mental Wellness Coach:**\n",
      "\n",
      "* **Problem:**  Access to mental health care is often limited and expensive.\n",
      "* **Solution:** Create an AI-powered app that provides personalized cognitive behavioral therapy (CBT) techniques, mindfulness exercises, and mood tracking based on user input and data analysis. \n",
      "* **Your Strengths:** ML, NLP, potentially integrate with wearables for biofeedback.\n",
      "\n",
      "**3. AI-Enhanced Cybersecurity Threat Detection & Response:**\n",
      "\n",
      "* **Problem:**  Cyberattacks are becoming increasingly sophisticated and frequent.\n",
      "* **Solution:** Develop an AI-powered system that analyzes network traffic, user behavior, and security logs in real-time to detect and respond to threats faster and more effectively than traditional security solutions.\n",
      "* **Your Strengths:** ML, DevOps, security knowledge.\n",
      "\n",
      "**4.  AI-Powered Sustainable Agriculture Optimization:**\n",
      "\n",
      "* **Problem:**  Food production faces challenges like resource scarcity, climate change, and disease outbreaks.\n",
      "* **Solution:** Build an AI platform that analyzes farm data (soil conditions, weather patterns, crop yields) to optimize irrigation, fertilization, and pest control, leading to increased efficiency and sustainability.\n",
      "* **Your Strengths:** ML, data analysis, potential for integrating with IoT sensors.\n",
      "\n",
      "**Important Considerations:**\n",
      "\n",
      "* **Data Privacy & Security:**  Ensure your solutions comply with data protection regulations and prioritize user privacy.\n",
      "* **Ethical Implications:**  Consider the potential biases in your AI models and strive to develop fair and transparent solutions.\n",
      "* **Market Validation:**  Research the target market, competitors, and potential revenue streams.\n",
      "\n",
      "\n",
      "\n",
      "Let me know if any of these ideas spark your interest, Harsh. We can explore them further and develop a more concrete plan.\n",
      "\n"
     ]
    }
   ],
   "source": [
    "response = with_message_history.invoke(\n",
    "    [HumanMessage(content=\"Give me some more ideas.\")],\n",
    "    config=config2\n",
    ")\n",
    "\n",
    "print(response.content)"
   ]
  },
  {
   "cell_type": "code",
   "execution_count": 16,
   "metadata": {},
   "outputs": [
    {
     "name": "stdout",
     "output_type": "stream",
     "text": [
      "Okay! Here are some general idea starters to get your creative juices flowing. I can give you more specific suggestions if you tell me what kind of ideas you're looking for:\n",
      "\n",
      "**Creative:**\n",
      "\n",
      "* **Write a short story about a character who discovers a hidden talent.**\n",
      "* **Design a new board game based on a historical event.**\n",
      "* **Compose a song about an everyday object.**\n",
      "* **Create a piece of art using only found objects.**\n",
      "* **Imagine a world where animals can talk. What would be the biggest change?**\n",
      "\n",
      "**Practical:**\n",
      "\n",
      "* **Plan a budget-friendly weekend getaway.**\n",
      "* **Learn a new skill, like coding or cooking.**\n",
      "* **Organize a fundraiser for a cause you care about.**\n",
      "* **Declutter your home and donate unwanted items.**\n",
      "* **Start a blog or vlog about something you're passionate about.**\n",
      "\n",
      "**Fun:**\n",
      "\n",
      "* **Throw a themed party with costumes and decorations.**\n",
      "* **Plan a scavenger hunt for your friends and family.**\n",
      "* **Try a new restaurant or cuisine.**\n",
      "* **Go on a hike or camping trip.**\n",
      "* **Volunteer your time at a local animal shelter.**\n",
      "\n",
      "\n",
      "What sparks your interest? 🤔\n",
      "\n"
     ]
    }
   ],
   "source": [
    "response = with_message_history.invoke(\n",
    "    [HumanMessage(content=\"Okay, then can you suggest some ideas?\")],\n",
    "    config=config3\n",
    ")\n",
    "\n",
    "print(response.content)"
   ]
  },
  {
   "cell_type": "code",
   "execution_count": 17,
   "metadata": {},
   "outputs": [
    {
     "name": "stdout",
     "output_type": "stream",
     "text": [
      "You got it! I'm happy to keep the ideas flowing. To make them even more relevant, tell me:\n",
      "\n",
      "* **Are you looking for ideas for yourself, or for someone else?**\n",
      "* **What are your interests or hobbies?** \n",
      "* **Do you prefer indoor or outdoor activities?**\n",
      "\n",
      "For now, here are a few more to get you thinking:\n",
      "\n",
      "**Creative:**\n",
      "\n",
      "* **Write a poem from the perspective of an inanimate object.**\n",
      "* **Design a unique piece of jewelry using recycled materials.**\n",
      "* **Create a comic strip about a day in the life of your pet.**\n",
      "* **Start a \"found poetry\" project by turning text from magazines or newspapers into poems.**\n",
      "* **Draw a self-portrait but using only one color.**\n",
      "\n",
      "**Practical:**\n",
      "\n",
      "* **Learn a new language using a language learning app.**\n",
      "* **Start a small garden or grow herbs indoors.**\n",
      "* **Set a financial goal and create a plan to achieve it.**\n",
      "* **Offer your skills to help a friend or neighbor with a project.**\n",
      "* **Research a topic you've always been curious about and write a report.**\n",
      "\n",
      "**Fun:**\n",
      "\n",
      "* **Host a potluck dinner with friends and have everyone bring a dish from a different culture.**\n",
      "* **Learn a new dance style, like salsa or swing.**\n",
      "* **Create a time capsule filled with memories and objects from the present day.**\n",
      "* **Go stargazing on a clear night.**\n",
      "* **Have a movie marathon with your favorite films.**\n",
      "\n",
      "\n",
      "\n",
      "\n",
      "\n"
     ]
    }
   ],
   "source": [
    "response = with_message_history.invoke(\n",
    "    [HumanMessage(content=\"These are extremely good, suggest some more\")],\n",
    "    config=config3\n",
    ")\n",
    "\n",
    "print(response.content)"
   ]
  },
  {
   "cell_type": "code",
   "execution_count": 18,
   "metadata": {},
   "outputs": [
    {
     "name": "stdout",
     "output_type": "stream",
     "text": [
      "You're on fire with these ideas, Harsh! Let's keep the momentum going and explore some more deep tech startup concepts:\n",
      "\n",
      "**1. AI-Powered Personalized Nutrition & Fitness Coaching:**\n",
      "\n",
      "* **Problem:**  Many people struggle to achieve their health and fitness goals due to lack of personalized guidance and motivation.\n",
      "* **Solution:** Develop an AI-powered app that analyzes user data (diet, exercise habits, health goals) and provides customized meal plans, workout routines, and motivational support.\n",
      "* **Your Strengths:** ML, data analysis, potential integration with wearables and health tracking apps.\n",
      "\n",
      "**2.  AI-Driven Real Estate Market Prediction & Investment Analysis:**\n",
      "\n",
      "* **Problem:**  Real estate investments can be risky and complex.\n",
      "* **Solution:** Create an AI-powered platform that analyzes market trends, property data, and economic indicators to predict property value fluctuations and identify potentially profitable investment opportunities.\n",
      "* **Your Strengths:** ML, data analysis, web development for a user-friendly interface.\n",
      "\n",
      "**3.  AI-Enhanced Educational Assessment & Personalized Learning Pathways:**\n",
      "\n",
      "* **Problem:**  Traditional standardized testing often doesn't capture a student's full potential or learning style.\n",
      "* **Solution:** Develop an AI-powered platform that assesses students' strengths and weaknesses in a more holistic way, then creates personalized learning pathways to address their unique needs.\n",
      "* **Your Strengths:** ML, NLP, educational data analysis.\n",
      "\n",
      "**4.  AI-Powered Smart City Management & Resource Optimization:**\n",
      "\n",
      "* **Problem:**  Cities face challenges like traffic congestion, energy consumption, and waste management.\n",
      "* **Solution:** Build an AI-powered system that analyzes real-time data from sensors, cameras, and other sources to optimize traffic flow, manage energy grids, and improve waste collection efficiency.\n",
      "* **Your Strengths:** ML, data analysis, potential for integration with IoT and city infrastructure.\n",
      "\n",
      "\n",
      "\n",
      "**Remember:**\n",
      "\n",
      "* **Focus on a specific problem:**  Choose a problem that you are passionate about solving and that has a clear market need.\n",
      "* **Validate your idea:**  Talk to potential users and get their feedback on your proposed solution.\n",
      "* **Build a strong team:**  Surround yourself with talented individuals who complement your skills.\n",
      "\n",
      "\n",
      "I hope these additional ideas inspire you, Harsh. Keep exploring and experimenting!\n",
      "\n"
     ]
    }
   ],
   "source": [
    "response = with_message_history.invoke(\n",
    "    [HumanMessage(content=\"These are extremely good, suggest some more\")],\n",
    "    config=config2\n",
    ")\n",
    "\n",
    "print(response.content)"
   ]
  },
  {
   "cell_type": "markdown",
   "metadata": {},
   "source": [
    "## Working with prompt template"
   ]
  },
  {
   "cell_type": "code",
   "execution_count": 20,
   "metadata": {},
   "outputs": [],
   "source": [
    "from langchain_core.prompts import MessagesPlaceholder\n",
    "\n",
    "prompt = ChatPromptTemplate.from_messages([\n",
    "    (\"system\", \"You are a helpful AI assistant. Help the user with their question in best of your capacity\"),\n",
    "    MessagesPlaceholder(\"messages\")\n",
    "])\n",
    "\n",
    "chain = prompt|model"
   ]
  },
  {
   "cell_type": "code",
   "execution_count": 23,
   "metadata": {},
   "outputs": [
    {
     "data": {
      "text/plain": [
       "AIMessage(content='Hey Harsh! 👋\\n\\nNice to meet you. What can I do for you today? 😊  \\n\\nDo you have a question I can answer, a task I can help with, or just want to chat?  Let me know! \\n\\n', additional_kwargs={}, response_metadata={'token_usage': {'completion_tokens': 53, 'prompt_tokens': 33, 'total_tokens': 86, 'completion_time': 0.096363636, 'prompt_time': 0.000307309, 'queue_time': 0.013567239, 'total_time': 0.096670945}, 'model_name': 'gemma2-9b-it', 'system_fingerprint': 'fp_10c08bf97d', 'finish_reason': 'stop', 'logprobs': None}, id='run-a239fc8f-8e80-4e21-935e-c51c035240a7-0', usage_metadata={'input_tokens': 33, 'output_tokens': 53, 'total_tokens': 86})"
      ]
     },
     "execution_count": 23,
     "metadata": {},
     "output_type": "execute_result"
    }
   ],
   "source": [
    "chain.invoke({\"messages\": [HumanMessage(content=\"Hey, I am harsh!\")]})"
   ]
  },
  {
   "cell_type": "code",
   "execution_count": 24,
   "metadata": {},
   "outputs": [
    {
     "data": {
      "text/plain": [
       "RunnableWithMessageHistory(bound=RunnableBinding(bound=RunnableBinding(bound=RunnableLambda(_enter_history), kwargs={}, config={'run_name': 'load_history'}, config_factories=[])\n",
       "| RunnableBinding(bound=RunnableLambda(_call_runnable_sync), kwargs={}, config={'run_name': 'check_sync_or_async'}, config_factories=[]), kwargs={}, config={'run_name': 'RunnableWithMessageHistory'}, config_factories=[]), kwargs={}, config={}, config_factories=[], get_session_history=<function get_session_history at 0x00000282AB9654E0>, history_factory_config=[ConfigurableFieldSpec(id='session_id', annotation=<class 'str'>, name='Session ID', description='Unique identifier for a session.', default='', is_shared=True, dependencies=None)])"
      ]
     },
     "execution_count": 24,
     "metadata": {},
     "output_type": "execute_result"
    }
   ],
   "source": [
    "with_message_history = RunnableWithMessageHistory(chain, get_session_history)\n",
    "with_message_history"
   ]
  },
  {
   "cell_type": "code",
   "execution_count": 25,
   "metadata": {},
   "outputs": [
    {
     "name": "stdout",
     "output_type": "stream",
     "text": [
      "Hi Harsh! 👋\n",
      "\n",
      "It's nice to meet you.  What can I do to help you today? 😊  \n",
      "\n",
      "Just ask your question and I'll do my best to answer it!  \n",
      "\n",
      "\n"
     ]
    }
   ],
   "source": [
    "config = {\"configurable\": {\"session_id\": \"chatH\"}}\n",
    "\n",
    "response = with_message_history.invoke(\n",
    "    [HumanMessage(content=\"Hey I am Harsh\")],\n",
    "    config=config\n",
    ")\n",
    "\n",
    "print(response.content)"
   ]
  },
  {
   "cell_type": "code",
   "execution_count": 29,
   "metadata": {},
   "outputs": [
    {
     "name": "stdout",
     "output_type": "stream",
     "text": [
      "हाँ, बिल्कुल!  Harsh, आपके लिए यहाँ कुछ और रोचक तथ्य हैं:\n",
      "\n",
      "*  🐢  कछुए अपनी कंकाल की संरचना के कारण पानी में तैर सकते हैं और भूमि पर चल सकते हैं! \n",
      "\n",
      "*  🍄  कई तरह की मशरूम रात में चमक सकती हैं!\n",
      "\n",
      "*  📚  दुनिया की सबसे बड़ी पुस्तकालय लंदन में है और उसमें करोड़ों किताबें हैं।\n",
      "\n",
      "*  🌋  वोलकेनो आग से ज्यादा गर्म होते हैं! \n",
      "\n",
      "*  ⏱️  एक मिनट में 60 सेकंड होते हैं, लेकिन एक घंटे में 60 मिनट होते हैं।  \n",
      "\n",
      "क्या आप इन तथ्यों को जानकर हैरान हैं? \n",
      "\n",
      "\n",
      "\n",
      "\n",
      "\n"
     ]
    }
   ],
   "source": [
    "prompt = ChatPromptTemplate.from_messages([\n",
    "    (\"system\", \"You are a helpful AI assistant. Help the user with their question in best of your capacity. Answer all user answers in this {language}\"),\n",
    "    MessagesPlaceholder(\"messages\")\n",
    "])\n",
    "\n",
    "chain = prompt|model|parser\n",
    "\n",
    "with_message_history = RunnableWithMessageHistory(chain, get_session_history, input_messages_key=\"messages\")\n",
    "response = with_message_history.invoke(\n",
    "    {\"messages\": [HumanMessage(content=\"Tell me few interesting facts\")],\n",
    "    \"language\": \"hindi\"},\n",
    "    config=config\n",
    ")\n",
    "\n",
    "print(response)"
   ]
  },
  {
   "cell_type": "code",
   "execution_count": 30,
   "metadata": {},
   "outputs": [
    {
     "name": "stdout",
     "output_type": "stream",
     "text": [
      "ठीक है Harsh!  तुम यकीनन जानकार हो! 🧑‍🔬 \n",
      "\n",
      "यहाँ कुछ और रोचक वैज्ञानिक तथ्य हैं:\n",
      "\n",
      "* **  🌊 समुद्र के नीचे सबसे बड़ा जानवर ब्लू व्हेल है।**  यह 30 मीटर तक लंबा और 200 टन वज़न तक का हो सकता है!\n",
      "* **  🧲 पृथ्वी एक विशाल चुंबक है।**  यह चुंबकत्व हमारे जीवन के लिए बहुत ज़रूरी हैं, खासकर ग्रह को सूर्य के हवाओं से बचाने के लिए।\n",
      "* **  🧠 मनुष्य का दिमाग एक ट्रिलियन न्यूरॉन्स से बना होता है!** ये न्यूरॉन्स एक-दूसरे से जुड़े होते हैं और उनसे हमारी सोच, याददाश्त और हर काम संभव होता है।\n",
      "* **  🌬️ हवा को देखना संभव नहीं है, लेकिन हम उसे महसूस कर सकते हैं।** हवा वायुमंडल में मौजूद गैसों का मिश्रण है।\n",
      "* **  🌌 ब्रह्मांड में अनगिनत तारे और ग्रह हैं।**  हमारी आकाशगंगा, मिल्की व्हे, में अकेले करोड़ों सितारे हैं।\n",
      "\n",
      "क्या तुम्हें ये तथ्य पसंद आए? \n",
      "\n",
      "\n",
      "\n",
      "\n"
     ]
    }
   ],
   "source": [
    "response = with_message_history.invoke(\n",
    "    {\"messages\": [HumanMessage(content=\"I'm not surprised, Tell me few more interesting scientific facts\")],\n",
    "    \"language\": \"hindi\"},\n",
    "    config=config\n",
    ")\n",
    "\n",
    "print(response)"
   ]
  },
  {
   "cell_type": "code",
   "execution_count": 31,
   "metadata": {},
   "outputs": [
    {
     "name": "stdout",
     "output_type": "stream",
     "text": [
      "वह एक बहुत ही अच्छा सवाल है Harsh!  \n",
      "\n",
      "तुम बिलकुल सही सोच रहे हो।  एक AGI (अर्थात Artificial General Intelligence) बनाने के लिए, हमें मनुष्य के दिमाग की तरह ही एक जटिल नेटवर्क बनाने की जरूरत होगी। \n",
      "\n",
      "लेकिन यह इतना आसान नहीं है! \n",
      "\n",
      "*  एक ट्रिलियन न्यूरॉन्स के साथ एक नेटवर्क बनाना और उसे प्रशिक्षित करना बहुत ही महंगा और समय लेने वाला होगा। \n",
      "*  हमें अभी भी यह समझना बाकी है कि मनुष्य के दिमाग में कैसे काम करता है।  \n",
      "*  सिर्फ प्रोसेसिंग पॉवर बढ़ाना ही AGI नहीं बना सकता।   \n",
      "\n",
      "अभी भी  AGI बनाने में बहुत सारे  चुनौतियां हैं, लेकिन वैज्ञानिक इस क्षेत्र में तेजी से काम कर रहे हैं।  \n",
      "\n",
      "क्या तुम्हें AI के भविष्य के बारे में और जानने में \n",
      "रुचि है?  \n",
      "\n",
      "\n"
     ]
    }
   ],
   "source": [
    "response = with_message_history.invoke(\n",
    "    {\"messages\": [HumanMessage(content=\"You say our brain has about 1 trillion neurons. This means to make an AGI, we will have to train about a trillion neurons in a neural network?\")],\n",
    "    \"language\": \"hindi\"},\n",
    "    config=config\n",
    ")\n",
    "\n",
    "print(response)"
   ]
  },
  {
   "cell_type": "code",
   "execution_count": 32,
   "metadata": {},
   "outputs": [
    {
     "name": "stdout",
     "output_type": "stream",
     "text": [
      "वो तो बहुत बड़ी बात है, Harsh!  \n",
      "\n",
      "मैं जितना जानता हूँ, मैं तुम्हें सब बताने के लिए उत्सुक हूँ, लेकिन एक ही बार में सब कुछ बताना मुश्किल होगा।  \n",
      "\n",
      "मैं एक बड़ा भाषा मॉडल हूँ, जिसे Google ने प्रशिक्षित किया है।  मुझे बहुत सारी जानकारी दी गई है - किताबें, लेख, कोड, और इंटरनेट से डेटा।  मैं भाषा समझ सकता हूँ, उसका विश्लेषण कर सकता हूँ, और नई भाषाएँ भी सीख सकता हूँ।  \n",
      "\n",
      "मुझे बताओ, तुम्हें किस बारे में जानना है?  \n",
      "\n",
      "*  क्या तुम्हें इतिहास, विज्ञान, कला, या कुछ और के बारे में बताना चाहोगे?\n",
      "\n",
      "*  क्या तुम कोई प्रश्न पूछना चाहोगे?\n",
      "\n",
      "*  क्या तुम कोई कहानी सुनाना चाहोगे?\n",
      "\n",
      "मुझे बताओ, मैं तुम्हारी मदद करने के लिए तैयार हूँ!\n",
      "\n",
      "\n",
      "\n",
      "\n",
      "\n"
     ]
    }
   ],
   "source": [
    "response = with_message_history.invoke(\n",
    "    {\"messages\": [HumanMessage(content=\"Yes please tell me, give me all the knowledge that you have\")],\n",
    "    \"language\": \"hindi\"},\n",
    "    config=config\n",
    ")\n",
    "\n",
    "print(response)"
   ]
  },
  {
   "cell_type": "code",
   "execution_count": 33,
   "metadata": {},
   "outputs": [
    {
     "name": "stdout",
     "output_type": "stream",
     "text": [
      "वो एक बहुत ही रोचक सवाल है, Harsh!  और इसका जवाब  बहुत जटिल भी है।  \n",
      "\n",
      "AI और इंटरनेट दोनों ही बहुत शक्तिशाली हैं और हमारे जीवन को बदल रहे हैं।  \n",
      "\n",
      "अगर हम AI को इंटरनेट से बड़ा मानें, तो इसका मतलब है कि AI हमारे जीवन के हर पहलू को प्रभावित करेगा,  जैसे:\n",
      "\n",
      "* **कार्य:** AI स्वचालित रूप से काम करेगा, जिससे नौकरियों में बदलाव आएगा। \n",
      "* **शिक्षा:** AI व्यक्तिगत शिक्षण अनुभव प्रदान करेगा। \n",
      "* **स्वास्थ्य सेवा:** AI रोगों का निदान और उपचार करने में मदद करेगा। \n",
      "\n",
      "लेकिन क्या AI इंटरनेट जितना व्यापक और प्रभावशाली होगा?  यह कहना मुश्किल है।  \n",
      "\n",
      "कुछ लोगों का मानना है कि AI इंटरनेट से भी बड़ा होगा क्योंकि यह  **विचारों को समझने, सीखने और खुद से हल करने में सक्षम** होगा।\n",
      "\n",
      "दूसरी ओर, कुछ लोग मानते हैं कि AI इंटरनेट का एक हिस्सा ही रहेगा,  जैसे कि इंटरनेट पर चलने वाले AI-संचालित एप्लिकेशन।  \n",
      "\n",
      "यह तो  **समय ही बताएगा** कि AI का भविष्य कैसा होगा।  \n",
      "\n",
      "तुम्हें क्या लगता है, Harsh?  \n",
      "\n",
      "\n"
     ]
    }
   ],
   "source": [
    "response = with_message_history.invoke(\n",
    "    {\"messages\": [HumanMessage(content=\"on AI and its future, is it going to be bigger than the internet?\")],\n",
    "    \"language\": \"hindi\"},\n",
    "    config=config\n",
    ")\n",
    "\n",
    "print(response)"
   ]
  },
  {
   "cell_type": "code",
   "execution_count": 34,
   "metadata": {},
   "outputs": [
    {
     "name": "stdout",
     "output_type": "stream",
     "text": [
      "तुम्हारा सवाल बहुत ही महत्वपूर्ण है, Harsh!   \n",
      "\n",
      "कई जाने-माने विद्वानों और उद्योग विशेषज्ञों ने  AI को इंटरनेट से भी बड़ा होने का अनुमान लगाया है।  कुछ नाम:\n",
      "\n",
      "* **इलॉन मस्क:** टेस्ला और SpaceX के संस्थापक ने कहा है कि AI मानवता के लिए सबसे बड़ी खतरा भी हो सकता है, लेकिन साथ ही यह एक बहुत बड़ा अवसर भी है।\n",
      "* **स्टीवन हूक:** गूगल के पूर्व सीईओ ने कहा है कि AI \"मानव इतिहास में सबसे बड़ा परिवर्तन\" होगा।\n",
      "* **सैम अल््टमैन:** OpenAI के सह-संस्थापक ने कहा है कि AI \"मानव अधिकारों और स्वतंत्रता\" के लिए खतरा हो सकता है, लेकिन साथ ही यह \"अनगिनत समस्याओं\" का समाधान करने में मदद कर सकता है।\n",
      "* **जफ फ्रेंकलिन:**  विख्यात AI अनुसंधानकर्ता ने कहा है कि AI \"ब्रह्मांड के बारे में हमारी समझ को बदल देगा\"।\n",
      "\n",
      "\n",
      "\n",
      "अगर AI इंटरनेट से भी बड़ा होगा, तो  कैसे  इससे लाभ उठाया जा सकता है? \n",
      "\n",
      "* **नई तकनीकों को सीखें:** AI, मशीन लर्निंग, और डीप लर्निंग जैसे क्षेत्रों में ज्ञान प्राप्त करें। \n",
      "* **AI-संचालित व्यवसायों में निवेश करें:**  AI-संचालित व्यवसाय तेजी से बढ़ रहे हैं। \n",
      "* **AI-संचालित उत्पादों और सेवाओं का उपयोग करें:** AI का उपयोग करके अपनी उत्पादकता और जीवन की गुणवत्ता बढ़ाएं।\n",
      "* **AI के नैतिक पहलुओं पर ध्यान दें:** AI के साथ नैतिक और सामाजिक प्रभावों पर भी विचार करना महत्वपूर्ण है। \n",
      "\n",
      "AI एक शक्तिशाली उपकरण है, और इसका उपयोग हमारे जीवन को बेहतर बनाने के लिए किया जा सकता है। \n",
      "\n",
      "\n",
      "\n",
      "क्या तुम्हें AI के भविष्य और इसके प्रभावों के बारे में और जानने में रुचि है? \n",
      "\n",
      "\n"
     ]
    }
   ],
   "source": [
    "response = with_message_history.invoke(\n",
    "    {\"messages\": [HumanMessage(content=\"Who all say AI is going to be bigger than the internet? Considering its true, what measures should we take to take advantage of this new technology, specifically to earn\")],\n",
    "    \"language\": \"hindi\"},\n",
    "    config=config\n",
    ")\n",
    "\n",
    "print(response)"
   ]
  },
  {
   "cell_type": "code",
   "execution_count": 35,
   "metadata": {},
   "outputs": [
    {
     "name": "stdout",
     "output_type": "stream",
     "text": [
      "बिलकुल, Harsh!  AI के साथ कुछ सफल SaaS आईडियाज़ यहाँ दिए गए हैं:\n",
      "\n",
      "**संचार और उत्पादकता:**\n",
      "\n",
      "*  **AI-संचालित ईमेल प्रबंधक:**  ईमेल को स्वचालित रूप से वर्गीकृत, संक्षेप में सारांशित और महत्वपूर्ण ईमेल की पहचान कर सकता है। \n",
      "*  **AI-संचालित मीटिंग सारांशक:** मीटिंग को रिकॉर्ड कर सकता है, महत्वपूर्ण बिंदुओं को संक्षेप में प्रस्तुत कर सकता है और कार्य कार्यों के लिए कार्रवाई योग्य आइटम बना सकता है।\n",
      "* **AI-संचालित ग्राहक सेवा चैटबॉट:**  उपयोगकर्ताओं के प्रश्नों का उत्तर दे सकता है, समस्याओं का समाधान कर सकता है और  ग्राहक सेवा को अधिक कुशल बना सकता है।\n",
      "\n",
      "**विपणन और बिक्री:**\n",
      "\n",
      "* **AI-संचालित सामग्री जनरेटर:** ब्लॉग पोस्ट, सोशल मीडिया पोस्ट और अन्य मार्केटिंग सामग्री  जल्दी और कुशलता से जनरेट कर सकता है।\n",
      "* **AI-संचालित लीड जनरेटर:** वेबसाइट पर आने वाले संभावित ग्राहकों की पहचान कर सकता है और उन्हें लीड मैनेजमेंट सिस्टम में भेज सकता है।\n",
      "* **AI-संचालित व्यक्तिगत मार्केटिंग:**  ग्राहकों के व्यवहार और रुचियों के आधार पर व्यक्तिगत मार्केटिंग अभियान बना सकता है।\n",
      "\n",
      "**वित्त और लेखांकन:**\n",
      "\n",
      "* **AI-संचालित बिलिंग और भुगतान प्रसंस्करण:**  बिलिंग प्रक्रिया को स्वचालित कर सकता है, भुगतान को ट्रैक कर सकता है और देरी भुगतान का पता लगा सकता है।\n",
      "* **AI-संचालित वित्तीय अनुमान:**  वित्तीय डेटा का विश्लेषण कर सकता है और भविष्य के राजस्व, व्यय और लाभ को अनुमानित कर सकता है।\n",
      "\n",
      "**इनके अलावा:**\n",
      "\n",
      "* **AI-संचालित स्वास्थ्य सेवा:** रोगों का निदान, उपचार योजनाएँ तैयार करना और रोगी देखभाल को बेहतर बनाना।\n",
      "* **AI-संचालित शिक्षा:** व्यक्तिगत शिक्षण अनुभव, स्वचालित ग्रेडिंग और छात्रों की प्रगति पर नज़र रखना।\n",
      "* **AI-संचालित कृषि:** फसल पैदा करने की विधियों में सुधार, सिंचाई प्रबंधन और कीट नियंत्रण में मदद करना।\n",
      "\n",
      "\n",
      "\n",
      "यह ध्यान रखना महत्वपूर्ण है कि ये सिर्फ उदाहरण हैं।  AI की क्षमताएं  अनंत हैं,  और  तुम अपने कौशल और रुचियों के आधार पर  नए और अनोखे SaaS आईडियाज़  विकसित कर सकते हो।   \n",
      " \n",
      "\n",
      "\n",
      "\n"
     ]
    }
   ],
   "source": [
    "response = with_message_history.invoke(\n",
    "    {\"messages\": [HumanMessage(content=\"Give me some good SaaS ideas to work on with AI\")],\n",
    "    \"language\": \"hindi\"},\n",
    "    config=config\n",
    ")\n",
    "\n",
    "print(response)"
   ]
  },
  {
   "cell_type": "markdown",
   "metadata": {},
   "source": [
    "## Managing conversational history\n",
    "\n",
    "messages will keep growing and will overflow the size of context window of the LLM"
   ]
  },
  {
   "cell_type": "code",
   "execution_count": 36,
   "metadata": {},
   "outputs": [
    {
     "name": "stderr",
     "output_type": "stream",
     "text": [
      "d:\\DeepLearningMastery\\LLM\\Langchain\\venv\\Lib\\site-packages\\tqdm\\auto.py:21: TqdmWarning: IProgress not found. Please update jupyter and ipywidgets. See https://ipywidgets.readthedocs.io/en/stable/user_install.html\n",
      "  from .autonotebook import tqdm as notebook_tqdm\n",
      "d:\\DeepLearningMastery\\LLM\\Langchain\\venv\\Lib\\site-packages\\huggingface_hub\\file_download.py:147: UserWarning: `huggingface_hub` cache-system uses symlinks by default to efficiently store duplicated files but your machine does not support them in C:\\Users\\MercadosEMI\\.cache\\huggingface\\hub\\models--gpt2. Caching files will still work but in a degraded version that might require more space on your disk. This warning can be disabled by setting the `HF_HUB_DISABLE_SYMLINKS_WARNING` environment variable. For more details, see https://huggingface.co/docs/huggingface_hub/how-to-cache#limitations.\n",
      "To support symlinks on Windows, you either need to activate Developer Mode or to run Python as an administrator. In order to activate developer mode, see this article: https://docs.microsoft.com/en-us/windows/apps/get-started/enable-your-device-for-development\n",
      "  warnings.warn(message)\n"
     ]
    },
    {
     "data": {
      "text/plain": [
       "[SystemMessage(content=\"you're a good assistant\", additional_kwargs={}, response_metadata={}),\n",
       " HumanMessage(content=\"hi! I'm bob\", additional_kwargs={}, response_metadata={}),\n",
       " AIMessage(content='hi!', additional_kwargs={}, response_metadata={}),\n",
       " HumanMessage(content='I like vanilla ice cream', additional_kwargs={}, response_metadata={}),\n",
       " AIMessage(content='nice', additional_kwargs={}, response_metadata={}),\n",
       " HumanMessage(content='whats 2 + 2', additional_kwargs={}, response_metadata={}),\n",
       " AIMessage(content='4', additional_kwargs={}, response_metadata={}),\n",
       " HumanMessage(content='thanks', additional_kwargs={}, response_metadata={}),\n",
       " AIMessage(content='no problem!', additional_kwargs={}, response_metadata={}),\n",
       " HumanMessage(content='having fun?', additional_kwargs={}, response_metadata={}),\n",
       " AIMessage(content='yes!', additional_kwargs={}, response_metadata={})]"
      ]
     },
     "execution_count": 36,
     "metadata": {},
     "output_type": "execute_result"
    }
   ],
   "source": [
    "from langchain_core.messages import trim_messages, SystemMessage\n",
    "\n",
    "trimmer = trim_messages(\n",
    "    max_tokens=70,\n",
    "    strategy=\"last\",\n",
    "    include_system=True,\n",
    "    token_counter=model,\n",
    "    allow_partial=False,\n",
    "    start_on=\"human\"\n",
    ")\n",
    "\n",
    "messages = [\n",
    "    SystemMessage(content=\"you're a good assistant\"),\n",
    "    HumanMessage(content=\"hi! I'm bob\"),\n",
    "    AIMessage(content=\"hi!\"),\n",
    "    HumanMessage(content=\"I like vanilla ice cream\"),\n",
    "    AIMessage(content=\"nice\"),\n",
    "    HumanMessage(content=\"whats 2 + 2\"),\n",
    "    AIMessage(content=\"4\"),\n",
    "    HumanMessage(content=\"thanks\"),\n",
    "    AIMessage(content=\"no problem!\"),\n",
    "    HumanMessage(content=\"having fun?\"),\n",
    "    AIMessage(content=\"yes!\"),\n",
    "]\n",
    "\n",
    "trimmer.invoke(messages)"
   ]
  },
  {
   "cell_type": "code",
   "execution_count": 37,
   "metadata": {},
   "outputs": [
    {
     "data": {
      "text/plain": [
       "[SystemMessage(content=\"you're a good assistant\", additional_kwargs={}, response_metadata={}),\n",
       " HumanMessage(content='whats 2 + 2', additional_kwargs={}, response_metadata={}),\n",
       " AIMessage(content='4', additional_kwargs={}, response_metadata={}),\n",
       " HumanMessage(content='thanks', additional_kwargs={}, response_metadata={}),\n",
       " AIMessage(content='no problem!', additional_kwargs={}, response_metadata={}),\n",
       " HumanMessage(content='having fun?', additional_kwargs={}, response_metadata={}),\n",
       " AIMessage(content='yes!', additional_kwargs={}, response_metadata={})]"
      ]
     },
     "execution_count": 37,
     "metadata": {},
     "output_type": "execute_result"
    }
   ],
   "source": [
    "trimmer = trim_messages(\n",
    "    max_tokens=40,\n",
    "    strategy=\"last\",\n",
    "    include_system=True,\n",
    "    token_counter=model,\n",
    "    allow_partial=False,\n",
    "    start_on=\"human\"\n",
    ")\n",
    "\n",
    "messages = [\n",
    "    SystemMessage(content=\"you're a good assistant\"),\n",
    "    HumanMessage(content=\"hi! I'm bob\"),\n",
    "    AIMessage(content=\"hi!\"),\n",
    "    HumanMessage(content=\"I like vanilla ice cream\"),\n",
    "    AIMessage(content=\"nice\"),\n",
    "    HumanMessage(content=\"whats 2 + 2\"),\n",
    "    AIMessage(content=\"4\"),\n",
    "    HumanMessage(content=\"thanks\"),\n",
    "    AIMessage(content=\"no problem!\"),\n",
    "    HumanMessage(content=\"having fun?\"),\n",
    "    AIMessage(content=\"yes!\"),\n",
    "]\n",
    "\n",
    "trimmer.invoke(messages)"
   ]
  },
  {
   "cell_type": "markdown",
   "metadata": {},
   "source": [
    "### Creating chain with this trimmer"
   ]
  },
  {
   "cell_type": "code",
   "execution_count": 43,
   "metadata": {},
   "outputs": [
    {
     "data": {
      "text/plain": [
       "RunnableAssign(mapper={\n",
       "  messages: RunnableLambda(itemgetter('messages'))\n",
       "            | RunnableLambda(...)\n",
       "})\n",
       "| ChatPromptTemplate(input_variables=['language', 'messages'], input_types={'messages': list[typing.Annotated[typing.Union[typing.Annotated[langchain_core.messages.ai.AIMessage, Tag(tag='ai')], typing.Annotated[langchain_core.messages.human.HumanMessage, Tag(tag='human')], typing.Annotated[langchain_core.messages.chat.ChatMessage, Tag(tag='chat')], typing.Annotated[langchain_core.messages.system.SystemMessage, Tag(tag='system')], typing.Annotated[langchain_core.messages.function.FunctionMessage, Tag(tag='function')], typing.Annotated[langchain_core.messages.tool.ToolMessage, Tag(tag='tool')], typing.Annotated[langchain_core.messages.ai.AIMessageChunk, Tag(tag='AIMessageChunk')], typing.Annotated[langchain_core.messages.human.HumanMessageChunk, Tag(tag='HumanMessageChunk')], typing.Annotated[langchain_core.messages.chat.ChatMessageChunk, Tag(tag='ChatMessageChunk')], typing.Annotated[langchain_core.messages.system.SystemMessageChunk, Tag(tag='SystemMessageChunk')], typing.Annotated[langchain_core.messages.function.FunctionMessageChunk, Tag(tag='FunctionMessageChunk')], typing.Annotated[langchain_core.messages.tool.ToolMessageChunk, Tag(tag='ToolMessageChunk')]], FieldInfo(annotation=NoneType, required=True, discriminator=Discriminator(discriminator=<function _get_type at 0x000002828FA49D00>, custom_error_type=None, custom_error_message=None, custom_error_context=None))]]}, partial_variables={}, messages=[SystemMessagePromptTemplate(prompt=PromptTemplate(input_variables=['language'], input_types={}, partial_variables={}, template='You are a helpful AI assistant. Help the user with their question in best of your capacity. Answer all user answers in this {language}'), additional_kwargs={}), MessagesPlaceholder(variable_name='messages')])\n",
       "| ChatGroq(client=<groq.resources.chat.completions.Completions object at 0x00000282A9CF6750>, async_client=<groq.resources.chat.completions.AsyncCompletions object at 0x00000282A9CF7290>, model_name='gemma2-9b-it', model_kwargs={}, groq_api_key=SecretStr('**********'))"
      ]
     },
     "execution_count": 43,
     "metadata": {},
     "output_type": "execute_result"
    }
   ],
   "source": [
    "from langchain_core.runnables import RunnablePassthrough\n",
    "from operator import itemgetter\n",
    "\n",
    "chain = (\n",
    "    RunnablePassthrough.assign(messages=itemgetter(\"messages\")|trimmer)\n",
    "    |prompt\n",
    "    |model\n",
    ")\n",
    "\n",
    "chain"
   ]
  },
  {
   "cell_type": "code",
   "execution_count": 44,
   "metadata": {},
   "outputs": [
    {
     "data": {
      "text/plain": [
       "AIMessage(content='क्या आप कोई सवाल पूछना चाहते हैं?  😊 \\n', additional_kwargs={}, response_metadata={'token_usage': {'completion_tokens': 17, 'prompt_tokens': 157, 'total_tokens': 174, 'completion_time': 0.030909091, 'prompt_time': 0.005131758, 'queue_time': 0.0103931, 'total_time': 0.036040849}, 'model_name': 'gemma2-9b-it', 'system_fingerprint': 'fp_10c08bf97d', 'finish_reason': 'stop', 'logprobs': None}, id='run-a53fb9c9-2e1a-4181-b658-3569681b95cb-0', usage_metadata={'input_tokens': 157, 'output_tokens': 17, 'total_tokens': 174})"
      ]
     },
     "execution_count": 44,
     "metadata": {},
     "output_type": "execute_result"
    }
   ],
   "source": [
    "response = chain.invoke(\n",
    "    {\n",
    "        \"messages\": \"What icecread do i like?\",\n",
    "        \"language\": \"hindi\"\n",
    "    }\n",
    ")\n",
    "\n",
    "response"
   ]
  },
  {
   "cell_type": "code",
   "execution_count": 45,
   "metadata": {},
   "outputs": [
    {
     "ename": "ValidationError",
     "evalue": "2 validation errors for RunnablePassthrough\nfunc.callable\n  Input should be callable [type=callable_type, input_value=RunnableAssign(mapper={\n ...SecretStr('**********')), input_type=RunnableSequence]\n    For further information visit https://errors.pydantic.dev/2.9/v/callable_type\nfunc.callable\n  Input should be callable [type=callable_type, input_value=RunnableAssign(mapper={\n ...SecretStr('**********')), input_type=RunnableSequence]\n    For further information visit https://errors.pydantic.dev/2.9/v/callable_type",
     "output_type": "error",
     "traceback": [
      "\u001b[1;31m---------------------------------------------------------------------------\u001b[0m",
      "\u001b[1;31mValidationError\u001b[0m                           Traceback (most recent call last)",
      "Cell \u001b[1;32mIn[45], line 1\u001b[0m\n\u001b[1;32m----> 1\u001b[0m with_message_history \u001b[38;5;241m=\u001b[39m \u001b[43mRunnablePassthrough\u001b[49m\u001b[43m(\u001b[49m\u001b[43mchain\u001b[49m\u001b[43m,\u001b[49m\u001b[43m \u001b[49m\u001b[43mget_session_history\u001b[49m\u001b[43m,\u001b[49m\u001b[43m \u001b[49m\u001b[43minput_messages_key\u001b[49m\u001b[38;5;241;43m=\u001b[39;49m\u001b[38;5;124;43m\"\u001b[39;49m\u001b[38;5;124;43mmessages\u001b[39;49m\u001b[38;5;124;43m\"\u001b[39;49m\u001b[43m)\u001b[49m\n\u001b[0;32m      3\u001b[0m with_message_history\n",
      "File \u001b[1;32md:\\DeepLearningMastery\\LLM\\Langchain\\venv\\Lib\\site-packages\\langchain_core\\runnables\\passthrough.py:185\u001b[0m, in \u001b[0;36mRunnablePassthrough.__init__\u001b[1;34m(self, func, afunc, input_type, **kwargs)\u001b[0m\n\u001b[0;32m    182\u001b[0m     afunc \u001b[38;5;241m=\u001b[39m func\n\u001b[0;32m    183\u001b[0m     func \u001b[38;5;241m=\u001b[39m \u001b[38;5;28;01mNone\u001b[39;00m\n\u001b[1;32m--> 185\u001b[0m \u001b[38;5;28;43msuper\u001b[39;49m\u001b[43m(\u001b[49m\u001b[43m)\u001b[49m\u001b[38;5;241;43m.\u001b[39;49m\u001b[38;5;21;43m__init__\u001b[39;49m\u001b[43m(\u001b[49m\u001b[43mfunc\u001b[49m\u001b[38;5;241;43m=\u001b[39;49m\u001b[43mfunc\u001b[49m\u001b[43m,\u001b[49m\u001b[43m \u001b[49m\u001b[43mafunc\u001b[49m\u001b[38;5;241;43m=\u001b[39;49m\u001b[43mafunc\u001b[49m\u001b[43m,\u001b[49m\u001b[43m \u001b[49m\u001b[43minput_type\u001b[49m\u001b[38;5;241;43m=\u001b[39;49m\u001b[43minput_type\u001b[49m\u001b[43m,\u001b[49m\u001b[43m \u001b[49m\u001b[38;5;241;43m*\u001b[39;49m\u001b[38;5;241;43m*\u001b[39;49m\u001b[43mkwargs\u001b[49m\u001b[43m)\u001b[49m\n",
      "File \u001b[1;32md:\\DeepLearningMastery\\LLM\\Langchain\\venv\\Lib\\site-packages\\langchain_core\\load\\serializable.py:125\u001b[0m, in \u001b[0;36mSerializable.__init__\u001b[1;34m(self, *args, **kwargs)\u001b[0m\n\u001b[0;32m    123\u001b[0m \u001b[38;5;28;01mdef\u001b[39;00m \u001b[38;5;21m__init__\u001b[39m(\u001b[38;5;28mself\u001b[39m, \u001b[38;5;241m*\u001b[39margs: Any, \u001b[38;5;241m*\u001b[39m\u001b[38;5;241m*\u001b[39mkwargs: Any) \u001b[38;5;241m-\u001b[39m\u001b[38;5;241m>\u001b[39m \u001b[38;5;28;01mNone\u001b[39;00m:\n\u001b[0;32m    124\u001b[0m \u001b[38;5;250m    \u001b[39m\u001b[38;5;124;03m\"\"\"\"\"\"\u001b[39;00m\n\u001b[1;32m--> 125\u001b[0m     \u001b[38;5;28;43msuper\u001b[39;49m\u001b[43m(\u001b[49m\u001b[43m)\u001b[49m\u001b[38;5;241;43m.\u001b[39;49m\u001b[38;5;21;43m__init__\u001b[39;49m\u001b[43m(\u001b[49m\u001b[38;5;241;43m*\u001b[39;49m\u001b[43margs\u001b[49m\u001b[43m,\u001b[49m\u001b[43m \u001b[49m\u001b[38;5;241;43m*\u001b[39;49m\u001b[38;5;241;43m*\u001b[39;49m\u001b[43mkwargs\u001b[49m\u001b[43m)\u001b[49m\n",
      "File \u001b[1;32md:\\DeepLearningMastery\\LLM\\Langchain\\venv\\Lib\\site-packages\\pydantic\\main.py:212\u001b[0m, in \u001b[0;36mBaseModel.__init__\u001b[1;34m(self, **data)\u001b[0m\n\u001b[0;32m    210\u001b[0m \u001b[38;5;66;03m# `__tracebackhide__` tells pytest and some other tools to omit this function from tracebacks\u001b[39;00m\n\u001b[0;32m    211\u001b[0m __tracebackhide__ \u001b[38;5;241m=\u001b[39m \u001b[38;5;28;01mTrue\u001b[39;00m\n\u001b[1;32m--> 212\u001b[0m validated_self \u001b[38;5;241m=\u001b[39m \u001b[38;5;28;43mself\u001b[39;49m\u001b[38;5;241;43m.\u001b[39;49m\u001b[43m__pydantic_validator__\u001b[49m\u001b[38;5;241;43m.\u001b[39;49m\u001b[43mvalidate_python\u001b[49m\u001b[43m(\u001b[49m\u001b[43mdata\u001b[49m\u001b[43m,\u001b[49m\u001b[43m \u001b[49m\u001b[43mself_instance\u001b[49m\u001b[38;5;241;43m=\u001b[39;49m\u001b[38;5;28;43mself\u001b[39;49m\u001b[43m)\u001b[49m\n\u001b[0;32m    213\u001b[0m \u001b[38;5;28;01mif\u001b[39;00m \u001b[38;5;28mself\u001b[39m \u001b[38;5;129;01mis\u001b[39;00m \u001b[38;5;129;01mnot\u001b[39;00m validated_self:\n\u001b[0;32m    214\u001b[0m     warnings\u001b[38;5;241m.\u001b[39mwarn(\n\u001b[0;32m    215\u001b[0m         \u001b[38;5;124m'\u001b[39m\u001b[38;5;124mA custom validator is returning a value other than `self`.\u001b[39m\u001b[38;5;130;01m\\n\u001b[39;00m\u001b[38;5;124m'\u001b[39m\n\u001b[0;32m    216\u001b[0m         \u001b[38;5;124m\"\u001b[39m\u001b[38;5;124mReturning anything other than `self` from a top level model validator isn\u001b[39m\u001b[38;5;124m'\u001b[39m\u001b[38;5;124mt supported when validating via `__init__`.\u001b[39m\u001b[38;5;130;01m\\n\u001b[39;00m\u001b[38;5;124m\"\u001b[39m\n\u001b[0;32m    217\u001b[0m         \u001b[38;5;124m'\u001b[39m\u001b[38;5;124mSee the `model_validator` docs (https://docs.pydantic.dev/latest/concepts/validators/#model-validators) for more details.\u001b[39m\u001b[38;5;124m'\u001b[39m,\n\u001b[0;32m    218\u001b[0m         category\u001b[38;5;241m=\u001b[39m\u001b[38;5;28;01mNone\u001b[39;00m,\n\u001b[0;32m    219\u001b[0m     )\n",
      "\u001b[1;31mValidationError\u001b[0m: 2 validation errors for RunnablePassthrough\nfunc.callable\n  Input should be callable [type=callable_type, input_value=RunnableAssign(mapper={\n ...SecretStr('**********')), input_type=RunnableSequence]\n    For further information visit https://errors.pydantic.dev/2.9/v/callable_type\nfunc.callable\n  Input should be callable [type=callable_type, input_value=RunnableAssign(mapper={\n ...SecretStr('**********')), input_type=RunnableSequence]\n    For further information visit https://errors.pydantic.dev/2.9/v/callable_type"
     ]
    }
   ],
   "source": [
    "with_message_history = RunnablePassthrough(chain, get_session_history, input_messages_key=\"messages\")\n",
    "\n",
    "with_message_history"
   ]
  },
  {
   "cell_type": "code",
   "execution_count": null,
   "metadata": {},
   "outputs": [],
   "source": []
  }
 ],
 "metadata": {
  "kernelspec": {
   "display_name": "venv",
   "language": "python",
   "name": "python3"
  },
  "language_info": {
   "codemirror_mode": {
    "name": "ipython",
    "version": 3
   },
   "file_extension": ".py",
   "mimetype": "text/x-python",
   "name": "python",
   "nbconvert_exporter": "python",
   "pygments_lexer": "ipython3",
   "version": "3.12.7"
  }
 },
 "nbformat": 4,
 "nbformat_minor": 2
}
