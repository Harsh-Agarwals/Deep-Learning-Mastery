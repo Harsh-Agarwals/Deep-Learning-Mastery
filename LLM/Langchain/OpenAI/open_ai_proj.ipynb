{
 "cells": [
  {
   "cell_type": "code",
   "execution_count": 36,
   "metadata": {},
   "outputs": [],
   "source": [
    "import os\n",
    "from dotenv import load_dotenv\n",
    "from langchain_openai import ChatOpenAI\n",
    "from langchain_core.prompts import ChatPromptTemplate\n",
    "from langchain_core.output_parsers import StrOutputParser\n",
    "\n",
    "load_dotenv()\n",
    "\n",
    "LANGCHAIN_TRACING_V2=\"true\"\n",
    "LANGCHAIN_ENDPOINT=\"https://api.smith.langchain.com\"\n",
    "\n",
    "OPENAI_API_KEY = os.getenv(\"OPENAI_API_KEY\")\n",
    "LANGCHAIN_API_KEY = os.getenv(\"LANGCHAIN_API_KEY\")\n",
    "LANGCHAIN_PROJECT = os.getenv(\"LANGCHAIN_PROJECT\")"
   ]
  },
  {
   "cell_type": "code",
   "execution_count": 37,
   "metadata": {},
   "outputs": [
    {
     "data": {
      "text/plain": [
       "'1. Start by understanding the basics of machine learning and neural networks.\\n2. Learn about generative adversarial networks (GANs) and their applications.\\n3. Practice coding and implementing GANs in Python using frameworks like TensorFlow or PyTorch.\\n4. Explore advanced topics like Variational Autoencoders (VAEs) and reinforcement learning.\\n5. Join online courses or tutorials on platforms like Coursera, Udacity, or Fast.ai for structured learning.\\n6. Engage with the AI community through forums, conferences, and workshops to stay updated on the latest trends.\\n7. Work on projects like image generation, text generation, or music generation to showcase your skills.\\n8. Create a GitHub portfolio to demonstrate your projects and share your code with potential employers.\\n\\nResources:\\n- Coursera: \"Generative Adversarial Networks (GANs)\" by DeepLearning.AI\\n- Book: \"Generative Deep Learning\" by David Foster\\n- GitHub repositories with GAN projects like \"awesome-generative-models\"\\n\\nProjects for Resume:\\n1. Image-to-Image Translation using CycleGAN\\n2. Text Generation with Recurrent Neural Networks (RNNs)\\n3. StyleGAN for Face Generation\\n4. Music Generation with GANs\\n\\nRemember, practice, persistence, and continuous learning are key to mastering generative AI and standing out in top AI startups.'"
      ]
     },
     "execution_count": 37,
     "metadata": {},
     "output_type": "execute_result"
    }
   ],
   "source": [
    "prompt = ChatPromptTemplate.from_messages([\n",
    "    (\"system\", \"You are a helpful AI assistant. Fulfill the user request in simple languages and keep it short and concise.\"),\n",
    "    (\"user\", \"Question: {question}\\nContext: {context}\")\n",
    "])\n",
    "\n",
    "llm = ChatOpenAI(\n",
    "    model=\"gpt-3.5-turbo\",\n",
    "    openai_api_key=OPENAI_API_KEY\n",
    ")\n",
    "output_parser = StrOutputParser()\n",
    "\n",
    "chain = prompt|llm|output_parser\n",
    "\n",
    "question = \"Write me step by step instructions to learn generative AI, and mention some of the best resources, along with a list of projects that stands out in a resume for jobs at top AI startups. Also write steps involved in learning (like getting started, RAG, making agents, etc etc)\"\n",
    "context = \"A top notch AI startup founder speaking at a global AI conference\"\n",
    "\n",
    "resp = chain.invoke({\"question\": question, \"context\": context})\n",
    "resp"
   ]
  },
  {
   "cell_type": "code",
   "execution_count": 40,
   "metadata": {},
   "outputs": [
    {
     "name": "stdout",
     "output_type": "stream",
     "text": [
      "1. Start by understanding the basics of machine learning and neural networks.\n",
      "2. Learn about generative adversarial networks (GANs) and their applications.\n",
      "3. Practice coding and implementing GANs in Python using frameworks like TensorFlow or PyTorch.\n",
      "4. Explore advanced topics like Variational Autoencoders (VAEs) and reinforcement learning.\n",
      "5. Join online courses or tutorials on platforms like Coursera, Udacity, or Fast.ai for structured learning.\n",
      "6. Engage with the AI community through forums, conferences, and workshops to stay updated on the latest trends.\n",
      "7. Work on projects like image generation, text generation, or music generation to showcase your skills.\n",
      "8. Create a GitHub portfolio to demonstrate your projects and share your code with potential employers.\n",
      "\n",
      "Resources:\n",
      "- Coursera: \"Generative Adversarial Networks (GANs)\" by DeepLearning.AI\n",
      "- Book: \"Generative Deep Learning\" by David Foster\n",
      "- GitHub repositories with GAN projects like \"awesome-generative-models\"\n",
      "\n",
      "Projects for Resume:\n",
      "1. Image-to-Image Translation using CycleGAN\n",
      "2. Text Generation with Recurrent Neural Networks (RNNs)\n",
      "3. StyleGAN for Face Generation\n",
      "4. Music Generation with GANs\n",
      "\n",
      "Remember, practice, persistence, and continuous learning are key to mastering generative AI and standing out in top AI startups.\n"
     ]
    },
    {
     "data": {
      "text/plain": [
       "(None, str)"
      ]
     },
     "execution_count": 40,
     "metadata": {},
     "output_type": "execute_result"
    }
   ],
   "source": [
    "print(resp), type(resp)"
   ]
  },
  {
   "cell_type": "code",
   "execution_count": 39,
   "metadata": {},
   "outputs": [
    {
     "data": {
      "text/plain": [
       "\"Based on the context provided, it seems that during this morning's meeting, the group successfully resolved all world conflicts.\""
      ]
     },
     "execution_count": 39,
     "metadata": {},
     "output_type": "execute_result"
    }
   ],
   "source": [
    "from langchain_openai import ChatOpenAI\n",
    "from langchain_core.prompts import ChatPromptTemplate\n",
    "from langchain_core.output_parsers import StrOutputParser\n",
    "\n",
    "prompt = ChatPromptTemplate.from_messages([\n",
    "    (\"system\", \"You are a helpful assistant. Please respond to the user's request only based on the given context.\"),\n",
    "    (\"user\", \"Question: {question}\\nContext: {context}\")\n",
    "])\n",
    "model = ChatOpenAI(model=\"gpt-3.5-turbo\")\n",
    "output_parser = StrOutputParser()\n",
    "\n",
    "chain = prompt | model | output_parser\n",
    "\n",
    "question = \"Can you summarize this morning's meetings?\"\n",
    "context = \"During this morning's meeting, we solved all world conflict.\"\n",
    "chain.invoke({\"question\": question, \"context\": context})"
   ]
  },
  {
   "cell_type": "code",
   "execution_count": null,
   "metadata": {},
   "outputs": [],
   "source": []
  }
 ],
 "metadata": {
  "kernelspec": {
   "display_name": "venv",
   "language": "python",
   "name": "python3"
  },
  "language_info": {
   "codemirror_mode": {
    "name": "ipython",
    "version": 3
   },
   "file_extension": ".py",
   "mimetype": "text/x-python",
   "name": "python",
   "nbconvert_exporter": "python",
   "pygments_lexer": "ipython3",
   "version": "3.12.7"
  }
 },
 "nbformat": 4,
 "nbformat_minor": 2
}
