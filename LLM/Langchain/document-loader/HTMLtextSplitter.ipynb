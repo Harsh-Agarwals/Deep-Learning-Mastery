{
 "cells": [
  {
   "cell_type": "code",
   "execution_count": 1,
   "metadata": {},
   "outputs": [],
   "source": [
    "from langchain_text_splitters import HTMLHeaderTextSplitter\n",
    "\n",
    "html_string = \"\"\"\n",
    "<!DOCTYPE html>\n",
    "<html>\n",
    "<body>\n",
    "    <div>\n",
    "        <h1>Foo</h1>\n",
    "        <p>Some intro text about Foo.</p>\n",
    "        <div>\n",
    "            <h2>Bar main section</h2>\n",
    "            <p>Some intro text about Bar.</p>\n",
    "            <h3>Bar subsection 1</h3>\n",
    "            <p>Some text about the first subtopic of Bar.</p>\n",
    "            <h3>Bar subsection 2</h3>\n",
    "            <p>Some text about the second subtopic of Bar.</p>\n",
    "        </div>\n",
    "        <div>\n",
    "            <h2>Baz</h2>\n",
    "            <p>Some text about Baz</p>\n",
    "        </div>\n",
    "        <br>\n",
    "        <p>Some concluding text about Foo</p>\n",
    "    </div>\n",
    "</body>\n",
    "</html>\n",
    "\"\"\""
   ]
  },
  {
   "cell_type": "code",
   "execution_count": 3,
   "metadata": {},
   "outputs": [
    {
     "data": {
      "text/plain": [
       "[Document(page_content='Foo'),\n",
       " Document(metadata={'Header 1': 'Foo'}, page_content='Some intro text about Foo.  \\nBar main section Bar subsection 1 Bar subsection 2'),\n",
       " Document(metadata={'Header 1': 'Foo', 'Header 2': 'Bar main section'}, page_content='Some intro text about Bar.  \\nSome text about the first subtopic of Bar.  \\nSome text about the second subtopic of Bar.'),\n",
       " Document(metadata={'Header 1': 'Foo'}, page_content='Baz'),\n",
       " Document(metadata={'Header 1': 'Foo', 'Header 2': 'Baz'}, page_content='Some text about Baz'),\n",
       " Document(metadata={'Header 1': 'Foo'}, page_content='Some concluding text about Foo')]"
      ]
     },
     "execution_count": 3,
     "metadata": {},
     "output_type": "execute_result"
    }
   ],
   "source": [
    "splitter=HTMLHeaderTextSplitter(headers_to_split_on=[(\"h1\", \"Header 1\"), (\"h2\", \"Header 2\")])\n",
    "\n",
    "splitter.split_text(html_string)"
   ]
  },
  {
   "cell_type": "code",
   "execution_count": 4,
   "metadata": {},
   "outputs": [
    {
     "data": {
      "text/plain": [
       "[Document(page_content='Open search  \\nOur Founders Our Companies Our Team Stories Company Design Arc  \\nDeveloper Tools 2.0  \\nIllustration: Tyler Comrie Published March 22, 2023  \\nBy Charlie Curnin, Josephine Chen, and Stephanie Zhan  \\nGenerative AI stands to change how work happens in one industry after another. But software engineering’s transformation isn’t done yet.  \\nCopilot has caught lightning in a bottle. GitHub’s AI-powered companion for developers, suggesting the code you might want to write next, is a hit in more ways than one. It’s beloved by engineers, attracting more than a million within about a year and delivering a substantial boost in productivity. (Even if you’re a top engineer, it might write half your code or more.) It also stands to become a commercial blockbuster. Charging $10-19 per seat per month, Copilot could grow to generate $1 billion or more in annual revenue among GitHub’s 100 million users.\\xa0  \\nCopilot’s success has set off a gold rush. Founders have raced to bring the power of large language models to all kinds of other industries, building tools to help professionals write, code, design and create media. There’s “Copilot for lawyers,” “Copilot for doctors” and “Copilot for designers,” and many more “Copilot for X”’s.\\xa0  \\nThese are all exciting directions. We think generative AI stands to transform one industry after another, making all kinds of professionals more effective at work and delighting waves of consumers.\\xa0  \\nBut there’s a lot more to do for developers. Copilot, which leverages OpenAI’s model Codex, may be just the opening salvo in AI’s transformation of how software engineers work. Andrej Karpathy predicted in 2017 that neural networks would create a new generation of software, “Software 2.0,” and we may see the same reinvention of the tooling that helps people make software—a “Developer Tools 2.0.”  \\nThere are many opportunities here. Some founders are iterating on the in-editor, get-help-while-you’re-coding experience Copilot popularized, trying different interaction patterns or different models. Think of Replit’s Ghostwriter, Sourcegraph’s Cody, TabNine and others.  \\nMany other opportunities lie further afield. You might target work engineers do beyond writing code, like debugging and documentation—or other work engineering orgs do, like incident response. You might think of value props other than “write code faster,” like “write code that’s more performant or more secure.” You might throw out the plugin form factor and rebuild an entire application. You might focus on personas other than the software engineer, like the data scientist who needs a boost writing in notebooks (see: Hex), or the data analyst toiling away writing SQL queries. There’s a wide waterfront of opportunities to explore and many places to hook into developers’ workflows.\\xa0  \\nBuilding legendary companies to enable this won’t be easy. Copilot faces legal scrutiny over concerns related to software piracy. Microsoft, the incumbent with control over both GitHub and VS Code, enjoys significant distribution advantages. Many founders have started building with LLMs, making many opportunities competitive. GitHub itself just announced plans to offer broader AI functionality through a brand-new version of Copilot, powered by GPT-4.\\xa0  \\nBut in our view, there’s a massive opportunity for AI to transform software engineering, and it’s a matter of who, not if. We think important ingredients in who prevails will be focusing on developer experience, providing net-new capabilities, and making strategic choices around how to land and expand in developers’ workflows. Success here can mean rewriting how engineering happens—and having a chance at building a generational company.\\xa0  \\nIf that opportunity excites you the way it excites us, please reach out to charlie@sequoiacap.com, josephine@sequoiacap.com and zhan@sequoiacap.com.  \\nShare'),\n",
       " Document(metadata={'Header 2': 'Share'}, page_content='Share this on Facebook Share this on Twitter Share this on LinkedIn Share this via email'),\n",
       " Document(page_content='Related Topics'),\n",
       " Document(metadata={'Header 2': 'Related Topics'}, page_content='#AI'),\n",
       " Document(page_content='Generative AI: A Creative New World'),\n",
       " Document(metadata={'Header 2': 'Generative AI: A Creative New World'}, page_content='By Sonya Huang, Pat Grady and GPT-3  \\nPerspective  \\nRead'),\n",
       " Document(page_content='AI Recruits a New Hybrid Workforce'),\n",
       " Document(metadata={'Header 2': 'AI Recruits a New Hybrid Workforce'}, page_content='by Konstantine Buhler  \\nPerspective  \\nRead'),\n",
       " Document(page_content='Partnering with Tavus: AI-Personalized Videos'),\n",
       " Document(metadata={'Header 2': 'Partnering with Tavus: AI-Personalized Videos'}, page_content='By Stephanie Zhan  \\nNews  \\nRead'),\n",
       " Document(page_content='Partnering with Replicate: Machine Learning, Simplified'),\n",
       " Document(metadata={'Header 2': 'Partnering with Replicate: Machine Learning, Simplified'}, page_content='By Stephanie Zhan  \\nNews  \\nRead'),\n",
       " Document(page_content='Get the best stories from the Sequoia community.  \\nJOIN OUR MAILING LIST'),\n",
       " Document(metadata={'Header 1': 'Get the best stories from the Sequoia community.'}, page_content='Leave this field empty if you’re human:  \\nEmail address'),\n",
       " Document(page_content='By navigating this website you agree to our cookie policy.  \\nAccept Decline  \\nAbout Business Entities Login  \\nOur Ethos Our History FAQ Jobs Newsletter Legal  \\nSequoia Capital Sequoia Heritage Sequoia Capital Global Equities  \\nLP Login Sequoia Ampersand Login  \\nMotion On Off  \\n© 2024 Sequoia Capital')]"
      ]
     },
     "execution_count": 4,
     "metadata": {},
     "output_type": "execute_result"
    }
   ],
   "source": [
    "splitter.split_text_from_url(\"https://www.sequoiacap.com/article/ai-powered-developer-tools/\")"
   ]
  },
  {
   "cell_type": "code",
   "execution_count": null,
   "metadata": {},
   "outputs": [],
   "source": []
  }
 ],
 "metadata": {
  "kernelspec": {
   "display_name": "venv",
   "language": "python",
   "name": "python3"
  },
  "language_info": {
   "codemirror_mode": {
    "name": "ipython",
    "version": 3
   },
   "file_extension": ".py",
   "mimetype": "text/x-python",
   "name": "python",
   "nbconvert_exporter": "python",
   "pygments_lexer": "ipython3",
   "version": "3.12.2"
  }
 },
 "nbformat": 4,
 "nbformat_minor": 2
}
