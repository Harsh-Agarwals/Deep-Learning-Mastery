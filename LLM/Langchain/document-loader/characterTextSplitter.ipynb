{
 "cells": [
  {
   "cell_type": "code",
   "execution_count": 2,
   "metadata": {},
   "outputs": [
    {
     "data": {
      "text/plain": [
       "([Document(metadata={'source': 'Essay.pdf', 'page': 0}, page_content=\"Why one should write?  \\n \\nWhen we look into the lives of some of the most successful leaders, ancient philosophers, innovators, \\nphilanthropists from ancient times to modern times, there is one quality that distinguishes them from \\nthe rest: Clarity of thought!  It is this clarity of thought that helps them build great organizations, \\nlead people, bring new innova tions and inspire generations.  \\nSo the ultimate question revolves around how they became so clear with their thoughts? Steve Jobs \\nwas very clear about what he wanted his produ cts to be and what kind of people he wanted in his \\norganization. Chanakya was very clear with his vision of a united India and its leadership. Lee Kuan \\nYew, a brilliant statesman, was clear with his vision of a modern and economic powerhouse island \\nstate, Singapore. Modi is clear with his vision of India -2047 in 2022. Elon Musk was clear with his \\nvision of reusable rockets.  \\nAchieving clarity is a compounding process that comes from experience and learning. All of these \\nindividuals have been avid readers, w riters  and explorers . The accumulation of thoughts over years \\nshaped their vision and their actions changed the trajectory of their destination. Peter Thiel ran The \\nStanford Review  while at Stanford, which publishes rational thoughts, ideologies, visions, technologies \\nand ideas about the future. Almost all of the editors of this magazine are great founders or serve on \\nthe board of the most successful companies of our time, making them highly successful and \\ninfluential individuals. This one magazine made the  editors study tech, law, history, economics, arts \\nand philosophy, making them critical thinkers and the best of all trades! Paul Graham still writes, \\nSam Altman still writes, Ben Horowitz still writes and all those shaping the future still writes. Writing  \\nsimply amplifies your thoughts!  \\nReference 1/ https://fortune.com/2023/08/24/peter -thiel-student-newspaper -stanford -review/  \\nIf you write, you will read, if you read, you will gain knowledge, if you gain knowledge, you will \\nunderstand the world, and if you understa nd the world, you will have solutions to its problems and, \\nmore importantly, clarity of vision for their understanding and implementation. It forces you to think. \\nIt forces you to act. It forces you to change.  \\nReference 2/ https://www.paulgraham.com/read.html  \\nJust like meditation helps with concentration, writing sharpens critical thinking . If we want to \\ncontribute positively to this world, we need to become great thinkers, good listeners and great \\nexecutors. This is impossible without clarity of thought and critica l thinking. And it all starts with \\nwriting.  \\nWhen you write on a particular topic, you engage deeply with it, you give it a thought, you study the \\ntopic well, you go through opinions on it, you add your perspective, and wow, you come up with your \\nown views and rational logic on the topic, be it political, philosophical, technological, historical or \\nanything. Now you have something of your own(even though it's just a thought) and it's so strong that \\nit will force you to think more, read more, explore more and  have more of your own. Once you start \\nhaving your own thoughts, it will lead to a rational uninfluenced thinking, a particular thought \\nprocess and a winning mentality. And that day won't be far when you'll have some creation of your \\nown! \\nNot just critica l thinking and clear thoughts, writing will help you connect to the world, communicate \\nbetter, make you smarter, disciplined, have ocean of knowledge and a stronger memory.  \\nReference 3/ \\nhttps://x.com/pritika_mehta/status/1790799256783393204?t=qosur91exNY43VLf0qzOdg& s=08  \\n \\n@silver_cule on X  \")],\n",
       " list,\n",
       " 1,\n",
       " langchain_core.documents.base.Document)"
      ]
     },
     "execution_count": 2,
     "metadata": {},
     "output_type": "execute_result"
    }
   ],
   "source": [
    "from langchain_text_splitters import CharacterTextSplitter\n",
    "from langchain_community.document_loaders import PyPDFLoader\n",
    "\n",
    "loader = PyPDFLoader(\"Essay.pdf\")\n",
    "pdf = loader.load()\n",
    "pdf, type(pdf), len(pdf), type(pdf[0])"
   ]
  },
  {
   "cell_type": "code",
   "execution_count": 6,
   "metadata": {},
   "outputs": [
    {
     "name": "stderr",
     "output_type": "stream",
     "text": [
      "Created a chunk of size 102, which is longer than the specified 100\n",
      "Created a chunk of size 102, which is longer than the specified 100\n",
      "Created a chunk of size 104, which is longer than the specified 100\n",
      "Created a chunk of size 101, which is longer than the specified 100\n",
      "Created a chunk of size 101, which is longer than the specified 100\n",
      "Created a chunk of size 102, which is longer than the specified 100\n",
      "Created a chunk of size 103, which is longer than the specified 100\n",
      "Created a chunk of size 105, which is longer than the specified 100\n",
      "Created a chunk of size 102, which is longer than the specified 100\n",
      "Created a chunk of size 103, which is longer than the specified 100\n",
      "Created a chunk of size 107, which is longer than the specified 100\n",
      "Created a chunk of size 101, which is longer than the specified 100\n",
      "Created a chunk of size 104, which is longer than the specified 100\n",
      "Created a chunk of size 104, which is longer than the specified 100\n",
      "Created a chunk of size 102, which is longer than the specified 100\n",
      "Created a chunk of size 104, which is longer than the specified 100\n",
      "Created a chunk of size 102, which is longer than the specified 100\n",
      "Created a chunk of size 104, which is longer than the specified 100\n"
     ]
    },
    {
     "data": {
      "text/plain": [
       "[Document(metadata={'source': 'Essay.pdf', 'page': 0}, page_content='Why one should write?'),\n",
       " Document(metadata={'source': 'Essay.pdf', 'page': 0}, page_content='When we look into the lives of some of the most successful leaders, ancient philosophers, innovators,'),\n",
       " Document(metadata={'source': 'Essay.pdf', 'page': 0}, page_content='philanthropists from ancient times to modern times, there is one quality that distinguishes them from'),\n",
       " Document(metadata={'source': 'Essay.pdf', 'page': 0}, page_content='the rest: Clarity of thought!  It is this clarity of thought that helps them build great organizations,'),\n",
       " Document(metadata={'source': 'Essay.pdf', 'page': 0}, page_content='lead people, bring new innova tions and inspire generations.'),\n",
       " Document(metadata={'source': 'Essay.pdf', 'page': 0}, page_content='So the ultimate question revolves around how they became so clear with their thoughts? Steve Jobs'),\n",
       " Document(metadata={'source': 'Essay.pdf', 'page': 0}, page_content='was very clear about what he wanted his produ cts to be and what kind of people he wanted in his'),\n",
       " Document(metadata={'source': 'Essay.pdf', 'page': 0}, page_content='organization. Chanakya was very clear with his vision of a united India and its leadership. Lee Kuan'),\n",
       " Document(metadata={'source': 'Essay.pdf', 'page': 0}, page_content='Yew, a brilliant statesman, was clear with his vision of a modern and economic powerhouse island'),\n",
       " Document(metadata={'source': 'Essay.pdf', 'page': 0}, page_content='state, Singapore. Modi is clear with his vision of India -2047 in 2022. Elon Musk was clear with his'),\n",
       " Document(metadata={'source': 'Essay.pdf', 'page': 0}, page_content='vision of reusable rockets.'),\n",
       " Document(metadata={'source': 'Essay.pdf', 'page': 0}, page_content='Achieving clarity is a compounding process that comes from experience and learning. All of these'),\n",
       " Document(metadata={'source': 'Essay.pdf', 'page': 0}, page_content='individuals have been avid readers, w riters  and explorers . The accumulation of thoughts over years'),\n",
       " Document(metadata={'source': 'Essay.pdf', 'page': 0}, page_content='shaped their vision and their actions changed the trajectory of their destination. Peter Thiel ran The'),\n",
       " Document(metadata={'source': 'Essay.pdf', 'page': 0}, page_content='Stanford Review  while at Stanford, which publishes rational thoughts, ideologies, visions, technologies'),\n",
       " Document(metadata={'source': 'Essay.pdf', 'page': 0}, page_content='and ideas about the future. Almost all of the editors of this magazine are great founders or serve on'),\n",
       " Document(metadata={'source': 'Essay.pdf', 'page': 0}, page_content='the board of the most successful companies of our time, making them highly successful and'),\n",
       " Document(metadata={'source': 'Essay.pdf', 'page': 0}, page_content='influential individuals. This one magazine made the  editors study tech, law, history, economics, arts'),\n",
       " Document(metadata={'source': 'Essay.pdf', 'page': 0}, page_content='and philosophy, making them critical thinkers and the best of all trades! Paul Graham still writes,'),\n",
       " Document(metadata={'source': 'Essay.pdf', 'page': 0}, page_content='Sam Altman still writes, Ben Horowitz still writes and all those shaping the future still writes. Writing'),\n",
       " Document(metadata={'source': 'Essay.pdf', 'page': 0}, page_content='simply amplifies your thoughts!'),\n",
       " Document(metadata={'source': 'Essay.pdf', 'page': 0}, page_content='Reference 1/ https://fortune.com/2023/08/24/peter -thiel-student-newspaper -stanford -review/'),\n",
       " Document(metadata={'source': 'Essay.pdf', 'page': 0}, page_content='If you write, you will read, if you read, you will gain knowledge, if you gain knowledge, you will'),\n",
       " Document(metadata={'source': 'Essay.pdf', 'page': 0}, page_content='understand the world, and if you understa nd the world, you will have solutions to its problems and,'),\n",
       " Document(metadata={'source': 'Essay.pdf', 'page': 0}, page_content='more importantly, clarity of vision for their understanding and implementation. It forces you to think.'),\n",
       " Document(metadata={'source': 'Essay.pdf', 'page': 0}, page_content='It forces you to act. It forces you to change.  \\nReference 2/ https://www.paulgraham.com/read.html'),\n",
       " Document(metadata={'source': 'Essay.pdf', 'page': 0}, page_content='Just like meditation helps with concentration, writing sharpens critical thinking . If we want to'),\n",
       " Document(metadata={'source': 'Essay.pdf', 'page': 0}, page_content='contribute positively to this world, we need to become great thinkers, good listeners and great'),\n",
       " Document(metadata={'source': 'Essay.pdf', 'page': 0}, page_content='executors. This is impossible without clarity of thought and critica l thinking. And it all starts with'),\n",
       " Document(metadata={'source': 'Essay.pdf', 'page': 0}, page_content='writing.'),\n",
       " Document(metadata={'source': 'Essay.pdf', 'page': 0}, page_content='When you write on a particular topic, you engage deeply with it, you give it a thought, you study the'),\n",
       " Document(metadata={'source': 'Essay.pdf', 'page': 0}, page_content='topic well, you go through opinions on it, you add your perspective, and wow, you come up with your'),\n",
       " Document(metadata={'source': 'Essay.pdf', 'page': 0}, page_content='own views and rational logic on the topic, be it political, philosophical, technological, historical or'),\n",
       " Document(metadata={'source': 'Essay.pdf', 'page': 0}, page_content=\"anything. Now you have something of your own(even though it's just a thought) and it's so strong that\"),\n",
       " Document(metadata={'source': 'Essay.pdf', 'page': 0}, page_content='it will force you to think more, read more, explore more and  have more of your own. Once you start'),\n",
       " Document(metadata={'source': 'Essay.pdf', 'page': 0}, page_content='having your own thoughts, it will lead to a rational uninfluenced thinking, a particular thought'),\n",
       " Document(metadata={'source': 'Essay.pdf', 'page': 0}, page_content=\"process and a winning mentality. And that day won't be far when you'll have some creation of your\"),\n",
       " Document(metadata={'source': 'Essay.pdf', 'page': 0}, page_content='own!'),\n",
       " Document(metadata={'source': 'Essay.pdf', 'page': 0}, page_content='Not just critica l thinking and clear thoughts, writing will help you connect to the world, communicate'),\n",
       " Document(metadata={'source': 'Essay.pdf', 'page': 0}, page_content='better, make you smarter, disciplined, have ocean of knowledge and a stronger memory.'),\n",
       " Document(metadata={'source': 'Essay.pdf', 'page': 0}, page_content='Reference 3/'),\n",
       " Document(metadata={'source': 'Essay.pdf', 'page': 0}, page_content='https://x.com/pritika_mehta/status/1790799256783393204?t=qosur91exNY43VLf0qzOdg& s=08'),\n",
       " Document(metadata={'source': 'Essay.pdf', 'page': 0}, page_content='@silver_cule on X')]"
      ]
     },
     "execution_count": 6,
     "metadata": {},
     "output_type": "execute_result"
    }
   ],
   "source": [
    "# Separates only by a single character\n",
    "char_splitter = CharacterTextSplitter(separator=\"\\n\", chunk_size=100, chunk_overlap=20)\n",
    "char_splitter.split_documents(pdf)"
   ]
  },
  {
   "cell_type": "code",
   "execution_count": 7,
   "metadata": {},
   "outputs": [
    {
     "data": {
      "text/plain": [
       "[Document(metadata={'source': 'Essay.pdf', 'page': 0}, page_content=\"Why one should write?  \\n \\nWhen we look into the lives of some of the most successful leaders, ancient philosophers, innovators, \\nphilanthropists from ancient times to modern times, there is one quality that distinguishes them from \\nthe rest: Clarity of thought!  It is this clarity of thought that helps them build great organizations, \\nlead people, bring new innova tions and inspire generations.  \\nSo the ultimate question revolves around how they became so clear with their thoughts? Steve Jobs \\nwas very clear about what he wanted his produ cts to be and what kind of people he wanted in his \\norganization. Chanakya was very clear with his vision of a united India and its leadership. Lee Kuan \\nYew, a brilliant statesman, was clear with his vision of a modern and economic powerhouse island \\nstate, Singapore. Modi is clear with his vision of India -2047 in 2022. Elon Musk was clear with his \\nvision of reusable rockets.  \\nAchieving clarity is a compounding process that comes from experience and learning. All of these \\nindividuals have been avid readers, w riters  and explorers . The accumulation of thoughts over years \\nshaped their vision and their actions changed the trajectory of their destination. Peter Thiel ran The \\nStanford Review  while at Stanford, which publishes rational thoughts, ideologies, visions, technologies \\nand ideas about the future. Almost all of the editors of this magazine are great founders or serve on \\nthe board of the most successful companies of our time, making them highly successful and \\ninfluential individuals. This one magazine made the  editors study tech, law, history, economics, arts \\nand philosophy, making them critical thinkers and the best of all trades! Paul Graham still writes, \\nSam Altman still writes, Ben Horowitz still writes and all those shaping the future still writes. Writing  \\nsimply amplifies your thoughts!  \\nReference 1/ https://fortune.com/2023/08/24/peter -thiel-student-newspaper -stanford -review/  \\nIf you write, you will read, if you read, you will gain knowledge, if you gain knowledge, you will \\nunderstand the world, and if you understa nd the world, you will have solutions to its problems and, \\nmore importantly, clarity of vision for their understanding and implementation. It forces you to think. \\nIt forces you to act. It forces you to change.  \\nReference 2/ https://www.paulgraham.com/read.html  \\nJust like meditation helps with concentration, writing sharpens critical thinking . If we want to \\ncontribute positively to this world, we need to become great thinkers, good listeners and great \\nexecutors. This is impossible without clarity of thought and critica l thinking. And it all starts with \\nwriting.  \\nWhen you write on a particular topic, you engage deeply with it, you give it a thought, you study the \\ntopic well, you go through opinions on it, you add your perspective, and wow, you come up with your \\nown views and rational logic on the topic, be it political, philosophical, technological, historical or \\nanything. Now you have something of your own(even though it's just a thought) and it's so strong that \\nit will force you to think more, read more, explore more and  have more of your own. Once you start \\nhaving your own thoughts, it will lead to a rational uninfluenced thinking, a particular thought \\nprocess and a winning mentality. And that day won't be far when you'll have some creation of your \\nown! \\nNot just critica l thinking and clear thoughts, writing will help you connect to the world, communicate \\nbetter, make you smarter, disciplined, have ocean of knowledge and a stronger memory.  \\nReference 3/ \\nhttps://x.com/pritika_mehta/status/1790799256783393204?t=qosur91exNY43VLf0qzOdg& s=08  \\n \\n@silver_cule on X\")]"
      ]
     },
     "execution_count": 7,
     "metadata": {},
     "output_type": "execute_result"
    }
   ],
   "source": [
    "# Separates only by a single character\n",
    "char_splitter = CharacterTextSplitter(separator=\"\\n\\n\", chunk_size=100, chunk_overlap=20)\n",
    "char_splitter.split_documents(pdf)"
   ]
  },
  {
   "cell_type": "markdown",
   "metadata": {},
   "source": [
    "**Only one output, as it couldn't get \\n\\n in the document**"
   ]
  },
  {
   "cell_type": "code",
   "execution_count": 8,
   "metadata": {},
   "outputs": [
    {
     "data": {
      "text/plain": [
       "'Hey, welcome to this document.\\nThe OpenAI API provides a simple interface to state-of-the-art AI models for natural language processing, image generation, semantic search, and speech recognition. Follow this guide to learn how to generate human-like responses to natural language prompts, create vector embeddings for semantic search, and generate images from textual descriptions.'"
      ]
     },
     "execution_count": 8,
     "metadata": {},
     "output_type": "execute_result"
    }
   ],
   "source": [
    "with open(\"doc.txt\") as f:\n",
    "    doc = f.read()\n",
    "\n",
    "doc"
   ]
  },
  {
   "cell_type": "code",
   "execution_count": 9,
   "metadata": {},
   "outputs": [
    {
     "data": {
      "text/plain": [
       "[Document(page_content='Hey, welcome to this document.\\nThe OpenAI API provides a simple interface to state-of-the-art AI models for natural language processing, image generation, semantic search, and speech recognition. Follow this guide to learn how to generate human-like responses to natural language prompts, create vector embeddings for semantic search, and generate images from textual descriptions.')]"
      ]
     },
     "execution_count": 9,
     "metadata": {},
     "output_type": "execute_result"
    }
   ],
   "source": [
    "cts = CharacterTextSplitter(chunk_size=100, chunk_overlap=20)\n",
    "dcs = cts.create_documents([doc])\n",
    "dcs"
   ]
  },
  {
   "cell_type": "code",
   "execution_count": 11,
   "metadata": {},
   "outputs": [
    {
     "data": {
      "text/plain": [
       "[Document(page_content='Hey, welcome to this document.'),\n",
       " Document(page_content='The OpenAI API provides a simple interface to state-of-the-art AI models for natural language processing, image generation, semantic search, and speech recognition. Follow this guide to learn how to generate human-like responses to natural language prompts, create vector embeddings for semantic search, and generate images from textual descriptions.')]"
      ]
     },
     "execution_count": 11,
     "metadata": {},
     "output_type": "execute_result"
    }
   ],
   "source": [
    "cts = CharacterTextSplitter(separator=\"\\n\", chunk_size=40, chunk_overlap=20)\n",
    "dcs = cts.create_documents([doc])\n",
    "dcs"
   ]
  },
  {
   "cell_type": "code",
   "execution_count": null,
   "metadata": {},
   "outputs": [],
   "source": []
  }
 ],
 "metadata": {
  "kernelspec": {
   "display_name": "venv",
   "language": "python",
   "name": "python3"
  },
  "language_info": {
   "codemirror_mode": {
    "name": "ipython",
    "version": 3
   },
   "file_extension": ".py",
   "mimetype": "text/x-python",
   "name": "python",
   "nbconvert_exporter": "python",
   "pygments_lexer": "ipython3",
   "version": "3.12.2"
  }
 },
 "nbformat": 4,
 "nbformat_minor": 2
}
